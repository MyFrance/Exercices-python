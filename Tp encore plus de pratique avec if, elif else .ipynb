{
 "cells": [
  {
   "cell_type": "code",
   "execution_count": 55,
   "id": "bed092d5",
   "metadata": {
    "ExecuteTime": {
     "end_time": "2022-04-28T11:01:49.112219Z",
     "start_time": "2022-04-28T11:01:41.867818Z"
    }
   },
   "outputs": [
    {
     "name": "stdout",
     "output_type": "stream",
     "text": [
      "Choisissez une boisson sunrise\n",
      "Le prix  du sunrise est de 1.6\n",
      "rentrez un montant 1.9\n",
      "Voici votre monnaie 0.3 euro\n"
     ]
    }
   ],
   "source": [
    "#Le but de cet exercice est de créer un script \n",
    "#de distributeur de vente de boissons\n",
    "\n",
    "boissons = { 'coca' : 1.5,\n",
    "            'sprit' : 1.2,\n",
    "             'fanta': 1.3,\n",
    "           'sunrise': 1.6,\n",
    "       'jus_orange' : 2.15,\n",
    "           'eau' : 1 }\n",
    "\n",
    "choix = str(input(\"Choisissez une boisson \"))\n",
    "\n",
    "prix_de_la_boisson = boissons.get(choix, -1)\n",
    "print(f'Le prix  du {choix} est de {prix_de_la_boisson}')\n",
    "\n",
    "prix = float(input(\"rentrez un montant \"))\n",
    "rendre_monaie = round(abs(prix - prix_de_la_boisson),2)\n",
    "insuffisant = round(abs(prix_de_la_boisson - prix),2)\n",
    "\n",
    "\n",
    "if prix == prix_de_la_boisson: \n",
    "    print(\"Vous avez donné le prix exacte, merci\")\n",
    "\n",
    "elif prix > prix_de_la_boisson:\n",
    "        print(\"Voici votre monnaie\", rendre_monaie, \"euro\")\n",
    "        \n",
    "elif prix < prix_de_la_boisson:\n",
    "    print(\"Il vous manque\", insuffisant, \"euro\")\n",
    "    \n",
    "else:\n",
    "    print(\"merci pour votre achat\")\n",
    "\n"
   ]
  },
  {
   "cell_type": "code",
   "execution_count": 3,
   "id": "79d4b103",
   "metadata": {
    "ExecuteTime": {
     "end_time": "2022-04-28T14:34:08.046263Z",
     "start_time": "2022-04-28T14:33:44.668220Z"
    }
   },
   "outputs": [
    {
     "name": "stdout",
     "output_type": "stream",
     "text": [
      "Choisissez une boisson fanta\n",
      "Le prix  du fanta est de 1.3\n",
      "rentrez un montant 10\n",
      "Voici votre monnaie 8.7 euro\n"
     ]
    }
   ],
   "source": [
    "#Le but de cet exercice est de créer un script \n",
    "#de distributeur de vente de boissons\n",
    "\n",
    "boissons = { 'coca' : 1.5,\n",
    "            'sprit' : 1.2,\n",
    "             'fanta': 1.3,\n",
    "           'sunrise': 1.6,\n",
    "       'jus_orange' : 2.15,\n",
    "           'eau' : 1 }\n",
    "\n",
    "choix_boisson = str(input(\"Choisissez une boisson \"))\n",
    "\n",
    "prix_de_la_boisson = boissons.get(choix_boisson, -1)\n",
    "print(f'Le prix  du {choix_boisson} est de {prix_de_la_boisson}')\n",
    "\n",
    "monnaie_inseree = float(input(\"rentrez un montant \"))\n",
    "credit_monnaie = round(monnaie_inseree - prix_de_la_boisson,2)\n",
    "\n",
    "if monnaie_inseree == prix_de_la_boisson: \n",
    "    print(\"Vous avez donné le prix exact, merci\")\n",
    "\n",
    "elif monnaie_inseree > prix_de_la_boisson:\n",
    "        print(\"Voici votre monnaie\", credit_monnaie, \"euro\")\n",
    "        \n",
    "elif monnaie_inseree < prix_de_la_boisson:\n",
    "    print(\"Il vous manque\", -credit_monnaie, \"euro\")\n",
    "    \n",
    "else:\n",
    "    print(\"merci pour votre achat\")"
   ]
  },
  {
   "cell_type": "code",
   "execution_count": null,
   "id": "5cfe6935",
   "metadata": {},
   "outputs": [],
   "source": [
    "# Correction "
   ]
  },
  {
   "cell_type": "code",
   "execution_count": 29,
   "id": "1639bfbf",
   "metadata": {
    "ExecuteTime": {
     "end_time": "2022-04-28T15:19:58.555466Z",
     "start_time": "2022-04-28T15:19:36.291322Z"
    }
   },
   "outputs": [
    {
     "name": "stdout",
     "output_type": "stream",
     "text": [
      "Rentrer votre billet 2.99\n",
      "Le prix de l'article est 2.57\n",
      "Vous avez donné 2.99 l'article coûte 2.57 €\n",
      "Vous avez trop donnée voici votre monnaie 0.42 €\n"
     ]
    }
   ],
   "source": [
    "    \n",
    "# Convertir les arguments en nombre\n",
    "billet = input(\"Rentrer votre billet \")\n",
    "prix = input(\"Le prix de l'article est \") \n",
    "billet, prix = float(billet), float(prix )\n",
    "print(f'Vous avez donné {billet} l\\'article coûte {prix} €')\n",
    "\n",
    "# Tester s'il manque de l'argent:\n",
    "\n",
    "prix_article = round(abs(billet - prix ),2)\n",
    "if billet < prix : \n",
    "    print(f'Il manque {prix_article} €')\n",
    "    print(f'Rajouter {prix_article} € s\\'il vous plaît')\n",
    "\n",
    "# tester si vous avez donné plus d'argent    \n",
    "else: # ici on a forcement plus d'argent\n",
    "    if billet == prix:\n",
    "        print(\"C'est parfait le compte est bon\")\n",
    "# cet else ne sera exécuté que s'il y a de l'argent à rendre\n",
    "    else: \n",
    "        if billet > prix: \n",
    "            print(f'Vous avez trop donnée voici votre monnaie {prix_article} €')"
   ]
  },
  {
   "cell_type": "code",
   "execution_count": null,
   "id": "2554722f",
   "metadata": {},
   "outputs": [],
   "source": []
  },
  {
   "cell_type": "code",
   "execution_count": null,
   "id": "962a8876",
   "metadata": {},
   "outputs": [],
   "source": []
  },
  {
   "cell_type": "code",
   "execution_count": null,
   "id": "87804c33",
   "metadata": {},
   "outputs": [],
   "source": []
  },
  {
   "cell_type": "code",
   "execution_count": null,
   "id": "490913b6",
   "metadata": {},
   "outputs": [],
   "source": []
  },
  {
   "cell_type": "code",
   "execution_count": null,
   "id": "7de04320",
   "metadata": {},
   "outputs": [],
   "source": []
  },
  {
   "cell_type": "code",
   "execution_count": null,
   "id": "c1fadb15",
   "metadata": {},
   "outputs": [],
   "source": []
  },
  {
   "cell_type": "code",
   "execution_count": null,
   "id": "014026b6",
   "metadata": {},
   "outputs": [],
   "source": []
  },
  {
   "cell_type": "code",
   "execution_count": null,
   "id": "3c1425d7",
   "metadata": {},
   "outputs": [],
   "source": []
  },
  {
   "cell_type": "code",
   "execution_count": null,
   "id": "18645998",
   "metadata": {},
   "outputs": [],
   "source": []
  },
  {
   "cell_type": "code",
   "execution_count": null,
   "id": "91932e7d",
   "metadata": {},
   "outputs": [],
   "source": []
  },
  {
   "cell_type": "code",
   "execution_count": null,
   "id": "c1af0a15",
   "metadata": {},
   "outputs": [],
   "source": []
  },
  {
   "cell_type": "code",
   "execution_count": null,
   "id": "8c07bbc5",
   "metadata": {},
   "outputs": [],
   "source": []
  },
  {
   "cell_type": "code",
   "execution_count": null,
   "id": "8cf8f3a1",
   "metadata": {},
   "outputs": [],
   "source": []
  },
  {
   "cell_type": "code",
   "execution_count": null,
   "id": "d6df9261",
   "metadata": {},
   "outputs": [],
   "source": []
  },
  {
   "cell_type": "code",
   "execution_count": null,
   "id": "897f54a7",
   "metadata": {},
   "outputs": [],
   "source": []
  },
  {
   "cell_type": "code",
   "execution_count": null,
   "id": "b7042363",
   "metadata": {},
   "outputs": [],
   "source": []
  },
  {
   "cell_type": "code",
   "execution_count": null,
   "id": "b4a83574",
   "metadata": {},
   "outputs": [],
   "source": []
  },
  {
   "cell_type": "code",
   "execution_count": null,
   "id": "2b6ffeb7",
   "metadata": {},
   "outputs": [],
   "source": []
  },
  {
   "cell_type": "code",
   "execution_count": null,
   "id": "083a5026",
   "metadata": {},
   "outputs": [],
   "source": []
  },
  {
   "cell_type": "code",
   "execution_count": null,
   "id": "a0062df7",
   "metadata": {},
   "outputs": [],
   "source": []
  },
  {
   "cell_type": "code",
   "execution_count": null,
   "id": "af35ee1c",
   "metadata": {},
   "outputs": [],
   "source": []
  },
  {
   "cell_type": "code",
   "execution_count": null,
   "id": "17b129bf",
   "metadata": {},
   "outputs": [],
   "source": []
  },
  {
   "cell_type": "code",
   "execution_count": null,
   "id": "11971716",
   "metadata": {},
   "outputs": [],
   "source": []
  },
  {
   "cell_type": "code",
   "execution_count": null,
   "id": "83dc3c22",
   "metadata": {},
   "outputs": [],
   "source": []
  },
  {
   "cell_type": "code",
   "execution_count": null,
   "id": "6be66d75",
   "metadata": {},
   "outputs": [],
   "source": []
  },
  {
   "cell_type": "code",
   "execution_count": null,
   "id": "f5c2da85",
   "metadata": {},
   "outputs": [],
   "source": []
  },
  {
   "cell_type": "code",
   "execution_count": null,
   "id": "f79978a4",
   "metadata": {},
   "outputs": [],
   "source": []
  },
  {
   "cell_type": "code",
   "execution_count": null,
   "id": "4e0d33e7",
   "metadata": {},
   "outputs": [],
   "source": []
  },
  {
   "cell_type": "code",
   "execution_count": null,
   "id": "61af58fe",
   "metadata": {},
   "outputs": [],
   "source": []
  },
  {
   "cell_type": "code",
   "execution_count": null,
   "id": "c9d87b49",
   "metadata": {},
   "outputs": [],
   "source": []
  },
  {
   "cell_type": "code",
   "execution_count": null,
   "id": "bd8ba28f",
   "metadata": {},
   "outputs": [],
   "source": []
  },
  {
   "cell_type": "code",
   "execution_count": null,
   "id": "c79db1c1",
   "metadata": {},
   "outputs": [],
   "source": []
  },
  {
   "cell_type": "code",
   "execution_count": null,
   "id": "ee39e289",
   "metadata": {},
   "outputs": [],
   "source": []
  },
  {
   "cell_type": "code",
   "execution_count": null,
   "id": "7cd86197",
   "metadata": {},
   "outputs": [],
   "source": []
  },
  {
   "cell_type": "code",
   "execution_count": null,
   "id": "4cd4ed0e",
   "metadata": {},
   "outputs": [],
   "source": []
  },
  {
   "cell_type": "code",
   "execution_count": null,
   "id": "c2f47d26",
   "metadata": {},
   "outputs": [],
   "source": []
  },
  {
   "cell_type": "code",
   "execution_count": null,
   "id": "612537a6",
   "metadata": {},
   "outputs": [],
   "source": []
  },
  {
   "cell_type": "code",
   "execution_count": null,
   "id": "4a31067b",
   "metadata": {},
   "outputs": [],
   "source": []
  },
  {
   "cell_type": "code",
   "execution_count": null,
   "id": "6a1c2001",
   "metadata": {},
   "outputs": [],
   "source": []
  },
  {
   "cell_type": "code",
   "execution_count": null,
   "id": "c6f7e406",
   "metadata": {},
   "outputs": [],
   "source": []
  },
  {
   "cell_type": "code",
   "execution_count": null,
   "id": "5aa83425",
   "metadata": {},
   "outputs": [],
   "source": []
  }
 ],
 "metadata": {
  "kernelspec": {
   "display_name": "Python 3",
   "language": "python",
   "name": "python3"
  },
  "language_info": {
   "codemirror_mode": {
    "name": "ipython",
    "version": 3
   },
   "file_extension": ".py",
   "mimetype": "text/x-python",
   "name": "python",
   "nbconvert_exporter": "python",
   "pygments_lexer": "ipython3",
   "version": "3.8.8"
  },
  "toc": {
   "base_numbering": 1,
   "nav_menu": {},
   "number_sections": true,
   "sideBar": true,
   "skip_h1_title": false,
   "title_cell": "Table of Contents",
   "title_sidebar": "Contents",
   "toc_cell": false,
   "toc_position": {},
   "toc_section_display": true,
   "toc_window_display": false
  }
 },
 "nbformat": 4,
 "nbformat_minor": 5
}
