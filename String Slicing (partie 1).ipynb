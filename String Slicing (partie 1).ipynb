{
 "cells": [
  {
   "cell_type": "markdown",
   "id": "cd5ca57b",
   "metadata": {},
   "source": [
    "# Exercice 1 - Afficher \"bcdefghijklmnopqrstuvwxyz\"\n",
    "Ce code utilise le slicing sur la variable alphabet et stocke le résultat dans la variable tranche.\n",
    "\n",
    "Après avoir recopier le code, modifier le slicing pour que la variable tranche contienne la chaîne de caractère \"bcdefghijklmnopqrstuvwxyz\""
   ]
  },
  {
   "cell_type": "code",
   "execution_count": 1,
   "id": "a372d08f",
   "metadata": {
    "ExecuteTime": {
     "end_time": "2022-04-18T09:33:44.309832Z",
     "start_time": "2022-04-18T09:33:44.291849Z"
    }
   },
   "outputs": [
    {
     "name": "stdout",
     "output_type": "stream",
     "text": [
      "bcdefghijklmnopqrstuvwxyz\n"
     ]
    }
   ],
   "source": [
    "alphabet = \"abcdefghijklmnopqrstuvwxyz\"\n",
    "# souvenez vous, 'slice' veut dire 'tranche' en anglais\n",
    "tranche = alphabet[1:]\n",
    "print(tranche)"
   ]
  },
  {
   "cell_type": "markdown",
   "id": "1f36f71b",
   "metadata": {},
   "source": [
    "# Exercice 2 -Afficher \"klmnopqrstuvwxyz\"\n",
    "Ce code utilise le slicing sur la variable alphabet et stocke le résultat dans la variable tranche.\n",
    "\n",
    "Après avoir recopier le code, modifier le slicing pour que la variable tranche contienne la chaîne de caractère \"klmnopqrstuvwxyz\""
   ]
  },
  {
   "cell_type": "code",
   "execution_count": 3,
   "id": "a24ecbee",
   "metadata": {
    "ExecuteTime": {
     "end_time": "2022-04-18T09:36:37.168218Z",
     "start_time": "2022-04-18T09:36:37.157249Z"
    }
   },
   "outputs": [
    {
     "name": "stdout",
     "output_type": "stream",
     "text": [
      "klmnopqrstuvwxyz\n"
     ]
    }
   ],
   "source": [
    "tranche = alphabet[10:]\n",
    "print(tranche)"
   ]
  },
  {
   "cell_type": "markdown",
   "id": "2f0de234",
   "metadata": {},
   "source": [
    "# Exercice 3 -Afficher \"abcde\"\n",
    "Ce code utilise le slicing sur la variable alphabet et stocke le résultat dans la variable tranche.\n",
    "\n",
    "Après avoir recopier le code, modifier le slicing pour que la variable tranche contienne la chaîne de caractère \"abcde\""
   ]
  },
  {
   "cell_type": "code",
   "execution_count": 5,
   "id": "71971045",
   "metadata": {
    "ExecuteTime": {
     "end_time": "2022-04-18T09:38:52.636346Z",
     "start_time": "2022-04-18T09:38:52.631361Z"
    }
   },
   "outputs": [
    {
     "name": "stdout",
     "output_type": "stream",
     "text": [
      "abcde\n"
     ]
    }
   ],
   "source": [
    "tranche = alphabet[:5]\n",
    "print(tranche)"
   ]
  },
  {
   "cell_type": "markdown",
   "id": "94f78d1f",
   "metadata": {},
   "source": [
    "# Exercice 4 -Afficher \"abcdefghijkl\"\n",
    "Ce code utilise le slicing sur la variable alphabet et stocke le résultat dans la variable tranche.\n",
    "\n",
    "Après avoir recopier le code, modifier le slicing pour que la variable tranche contienne la chaîne de caractère \"abcdefghijkl\""
   ]
  },
  {
   "cell_type": "code",
   "execution_count": 6,
   "id": "620bd43d",
   "metadata": {
    "ExecuteTime": {
     "end_time": "2022-04-18T09:40:41.485863Z",
     "start_time": "2022-04-18T09:40:41.477887Z"
    }
   },
   "outputs": [
    {
     "name": "stdout",
     "output_type": "stream",
     "text": [
      "abcdefghijkl\n"
     ]
    }
   ],
   "source": [
    "tranche = alphabet[:12]\n",
    "print(tranche)"
   ]
  },
  {
   "cell_type": "markdown",
   "id": "1365fc20",
   "metadata": {},
   "source": [
    "# Exercice 5 -Afficher \"defghijk\"\n",
    "Ce code utilise le slicing sur la variable alphabet et stocke le résultat dans la variable tranche.\n",
    "\n",
    "Après avoir recopier le code, modifier le slicing pour que la variable tranche contienne la chaîne de caractère \"defghijk\""
   ]
  },
  {
   "cell_type": "code",
   "execution_count": 9,
   "id": "3794a84c",
   "metadata": {
    "ExecuteTime": {
     "end_time": "2022-04-18T09:43:50.707002Z",
     "start_time": "2022-04-18T09:43:50.695034Z"
    }
   },
   "outputs": [
    {
     "name": "stdout",
     "output_type": "stream",
     "text": [
      "defghijk\n"
     ]
    }
   ],
   "source": [
    "tranche = alphabet[3:11]\n",
    "print(tranche)"
   ]
  },
  {
   "cell_type": "markdown",
   "id": "71889996",
   "metadata": {},
   "source": [
    "# Exercice 6 -Afficher \"tuvwx\"\n",
    "Ce code utilise le slicing sur la variable alphabet et stocke le résultat dans la variable tranche.\n",
    "\n",
    "Après avoir recopier le code, modifier le slicing pour que la variable tranche contienne la chaîne de caractère \"tuvwx\""
   ]
  },
  {
   "cell_type": "code",
   "execution_count": 10,
   "id": "4fda66b1",
   "metadata": {
    "ExecuteTime": {
     "end_time": "2022-04-18T09:45:58.334967Z",
     "start_time": "2022-04-18T09:45:58.326959Z"
    }
   },
   "outputs": [
    {
     "name": "stdout",
     "output_type": "stream",
     "text": [
      "tuvwx\n"
     ]
    }
   ],
   "source": [
    "tranche = alphabet[19:24]\n",
    "print(tranche)"
   ]
  },
  {
   "cell_type": "markdown",
   "id": "46e754a3",
   "metadata": {},
   "source": [
    "# Exercice 7 -Afficher \"qrstuv\"\n",
    "Ce code utilise le slicing sur la variable alphabet et stocke le résultat dans la variable tranche.\n",
    "\n",
    "Après avoir recopier le code, modifier le slicing pour que la variable tranche contienne la chaîne de caractère \"qrstuv\""
   ]
  },
  {
   "cell_type": "code",
   "execution_count": 13,
   "id": "05e6038e",
   "metadata": {
    "ExecuteTime": {
     "end_time": "2022-04-18T09:49:41.391259Z",
     "start_time": "2022-04-18T09:49:41.383323Z"
    }
   },
   "outputs": [
    {
     "name": "stdout",
     "output_type": "stream",
     "text": [
      "qrstuv\n"
     ]
    }
   ],
   "source": [
    "tranche = alphabet[-10:-4]\n",
    "print(tranche)"
   ]
  },
  {
   "cell_type": "markdown",
   "id": "96cb89fe",
   "metadata": {},
   "source": [
    "# Exercice 8 -Afficher \"bcdefghijklmnopqrstuvwxy\"\n",
    "Ce code utilise le slicing sur la variable alphabet et stocke le résultat dans la variable tranche.\n",
    "\n",
    "Après avoir recopier le code, modifier le slicing pour que la variable tranche contienne la chaîne de caractère \"bcdefghijklmnopqrstuvwxy\""
   ]
  },
  {
   "cell_type": "code",
   "execution_count": 14,
   "id": "2423b1b2",
   "metadata": {
    "ExecuteTime": {
     "end_time": "2022-04-18T09:51:49.743474Z",
     "start_time": "2022-04-18T09:51:49.734452Z"
    }
   },
   "outputs": [
    {
     "name": "stdout",
     "output_type": "stream",
     "text": [
      "bcdefghijklmnopqrstuvwxy\n"
     ]
    }
   ],
   "source": [
    "tranche = alphabet[1:-1]\n",
    "print(tranche)"
   ]
  },
  {
   "cell_type": "markdown",
   "id": "e0844b68",
   "metadata": {},
   "source": [
    "# Exercice 9 -Afficher \"cdefghijklmnopqrstuvwx\"\n",
    "Ce code utilise le slicing sur la variable alphabet et stocke le résultat dans la variable tranche.\n",
    "\n",
    "Après avoir recopier le code, modifier le slicing pour que la variable tranche contienne la chaîne de caractère \"cdefghijklmnopqrstuvwx\""
   ]
  },
  {
   "cell_type": "code",
   "execution_count": 16,
   "id": "4c7b8550",
   "metadata": {
    "ExecuteTime": {
     "end_time": "2022-04-18T09:53:27.474295Z",
     "start_time": "2022-04-18T09:53:27.461331Z"
    }
   },
   "outputs": [
    {
     "name": "stdout",
     "output_type": "stream",
     "text": [
      "cdefghijklmnopqrstuvwx\n"
     ]
    }
   ],
   "source": [
    "tranche = alphabet[2:-2]\n",
    "print(tranche)"
   ]
  },
  {
   "cell_type": "markdown",
   "id": "2d066c55",
   "metadata": {},
   "source": [
    "# Exercice 10 -Afficher \"acegikmoqsuwy\"\n",
    "Ce code utilise le slicing sur la variable alphabet et stocke le résultat dans la variable tranche.\n",
    "\n",
    "Après avoir recopier le code, modifier le slicing pour que la variable tranche contienne la chaîne de caractère \"acegikmoqsuwy\""
   ]
  },
  {
   "cell_type": "code",
   "execution_count": 18,
   "id": "4855d0e8",
   "metadata": {
    "ExecuteTime": {
     "end_time": "2022-04-18T09:57:03.840082Z",
     "start_time": "2022-04-18T09:57:03.830110Z"
    }
   },
   "outputs": [
    {
     "name": "stdout",
     "output_type": "stream",
     "text": [
      "acegikmoqsuwy\n"
     ]
    }
   ],
   "source": [
    "tranche = alphabet[0:26:2]\n",
    "print(tranche)"
   ]
  },
  {
   "cell_type": "markdown",
   "id": "a99cbe60",
   "metadata": {},
   "source": [
    "# Exercice 11 -Afficher \"adgjmpsvy\"\n",
    "Ce code utilise le slicing sur la variable alphabet et stocke le résultat dans la variable tranche.\n",
    "\n",
    "Après avoir recopier le code, modifier le slicing pour que la variable tranche contienne la chaîne de caractère \"adgjmpsvy\""
   ]
  },
  {
   "cell_type": "code",
   "execution_count": 19,
   "id": "83177ed5",
   "metadata": {
    "ExecuteTime": {
     "end_time": "2022-04-18T09:59:20.157916Z",
     "start_time": "2022-04-18T09:59:20.143961Z"
    }
   },
   "outputs": [
    {
     "name": "stdout",
     "output_type": "stream",
     "text": [
      "adgjmpsvy\n"
     ]
    }
   ],
   "source": [
    "tranche = alphabet[::3]\n",
    "print(tranche)"
   ]
  },
  {
   "cell_type": "code",
   "execution_count": null,
   "id": "9c22ead8",
   "metadata": {},
   "outputs": [],
   "source": []
  }
 ],
 "metadata": {
  "kernelspec": {
   "display_name": "Python 3",
   "language": "python",
   "name": "python3"
  },
  "language_info": {
   "codemirror_mode": {
    "name": "ipython",
    "version": 3
   },
   "file_extension": ".py",
   "mimetype": "text/x-python",
   "name": "python",
   "nbconvert_exporter": "python",
   "pygments_lexer": "ipython3",
   "version": "3.8.8"
  },
  "toc": {
   "base_numbering": 1,
   "nav_menu": {},
   "number_sections": true,
   "sideBar": true,
   "skip_h1_title": false,
   "title_cell": "Table of Contents",
   "title_sidebar": "Contents",
   "toc_cell": false,
   "toc_position": {},
   "toc_section_display": true,
   "toc_window_display": false
  }
 },
 "nbformat": 4,
 "nbformat_minor": 5
}
