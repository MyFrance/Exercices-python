{
 "cells": [
  {
   "cell_type": "markdown",
   "id": "4158a910",
   "metadata": {},
   "source": [
    "# Exercice 1 - Manipulez les dictionnaires en Python\n",
    "Dans cet exercice prenez le temps d'intégrer les différentes actions possibles lorsqu'on manipume un dictionnaire.\n",
    "\n",
    "Ligne #1 : Remplacez les ??? par du code permettant d'afficher le prix du plat poisson.\n",
    "Ligne #2 : Remplacez les ??? pour modifier le prix du burger à 150\n",
    "Ligne #3 : Remplacez les ??? pour ajouter un nouveau plat \"Plat - Double Burger\" à 290\n",
    "Ligne #4 : Maintenant, remplacez les ??? pour supprimer l'entrée \"Plat - Burger\" du menu.\n",
    "A chaque fois affichez le dictionnaire pour s'assurer que les modifications ont été effectuées.\n",
    "\n",
    "\n",
    "Ci dessous un menu (dictionnaire) indiquant les plats (key) et leur prix en euros (value)\n",
    "menu = {'Plat - Poisson': 100,\n",
    "        'Plat - Végé'   :  90,\n",
    "        'Plat - Burger' : 130}\n",
    "print(menu)\n",
    "\n",
    "Affichez la valeur du plat Poisson\n",
    "??? # 1\n",
    "\n",
    "Modifier le prix du burger à 150, puis affichez le menu\n",
    "??? # 2\n",
    "\n",
    "Ajouter un nouveau plat, le Double Burger à 290, puis affichez le menu\n",
    "??? # 3\n",
    "\n",
    "Supprimez le plat Burger, puis affichez.\n",
    "??? # 4"
   ]
  },
  {
   "cell_type": "code",
   "execution_count": 1,
   "id": "ac5c95a7",
   "metadata": {
    "ExecuteTime": {
     "end_time": "2022-04-23T05:19:23.652752Z",
     "start_time": "2022-04-23T05:19:23.644818Z"
    }
   },
   "outputs": [
    {
     "name": "stdout",
     "output_type": "stream",
     "text": [
      "{'plat-poisson': 100, 'plat_végé': 90, 'plat-burger': 130}\n"
     ]
    }
   ],
   "source": [
    "# Ci dessous un menu (dictionnaire) indiquant les plats (key) et leur prix en euros (value)\n",
    "menu = {'plat-poisson': 100,\n",
    "        'plat_végé' : 90,\n",
    "        'plat-burger' : 130}\n",
    "print(menu)"
   ]
  },
  {
   "cell_type": "code",
   "execution_count": 30,
   "id": "5de60248",
   "metadata": {
    "ExecuteTime": {
     "end_time": "2022-04-23T05:51:02.103047Z",
     "start_time": "2022-04-23T05:51:02.082146Z"
    }
   },
   "outputs": [
    {
     "name": "stdout",
     "output_type": "stream",
     "text": [
      "La valeur du plat poisson est : 100\n",
      "Le nouveau prix du burger est:  150\n",
      "Le nouveau menu avec le double burger est:  {'plat-poisson': 100, 'plat_végé': 90, 'double-burger': 290, 'plat-burger': 150}\n",
      "Le nouveau menu sans le burger est: {'plat-poisson': 100, 'plat_végé': 90, 'double-burger': 290}\n"
     ]
    }
   ],
   "source": [
    "# Affichez la valeur du plat Poisson\n",
    "valeur_poisson = menu['plat-poisson']\n",
    "print(f'La valeur du plat poisson est :', menu['plat-poisson'])\n",
    "\n",
    "# Modifier le prix du burger à 150, puis affichez le menu\n",
    "prix_burger = menu['plat-burger'] =150\n",
    "print(f'Le nouveau prix du burger est: ', prix_burger)\n",
    "\n",
    "# Ajouter un nouveau plat, le Double Burger à 290, puis affichez le menu\n",
    "menu['double-burger'] = 290\n",
    "print(f'Le nouveau menu avec le double burger est: ', menu)\n",
    "\n",
    "# Supprimez le plat Burger, puis affichez.\n",
    "suppression_burger = menu.pop('plat-burger')\n",
    "print(f'Le nouveau menu sans le burger est:', menu)"
   ]
  },
  {
   "cell_type": "markdown",
   "id": "47624312",
   "metadata": {},
   "source": [
    "# Exercice 2 - Opérateur in\n",
    "Que va afficher le code ci-dessous? \n",
    "\n",
    "Recopiez puis exécutez le code pour vérifier votre réponse."
   ]
  },
  {
   "cell_type": "code",
   "execution_count": 42,
   "id": "0e405765",
   "metadata": {
    "ExecuteTime": {
     "end_time": "2022-04-23T06:14:31.553224Z",
     "start_time": "2022-04-23T06:14:31.528310Z"
    }
   },
   "outputs": [
    {
     "name": "stdout",
     "output_type": "stream",
     "text": [
      "Le plat burger est-il dans le menu:  True\n",
      " 100 est-il dans le menu?  False\n",
      " Le plat végé est-il dans le menu? : True\n",
      " 290 est-il dans le menu?:  False\n"
     ]
    }
   ],
   "source": [
    "menu = {'plat_poisson': 100, 'plat_vege': 90, 'plat_burger': 290}\n",
    "print(f'Le plat burger est-il dans le menu: ', 'plat_burger' in menu)\n",
    "print(f' 100 est-il dans le menu? ', 100 in menu) # 100 n'est pas une key\n",
    "print(f' Le plat végé est-il dans le menu? :', 'plat_vege' in menu)\n",
    "print(f' 290 est-il dans le menu?: ', 290 in menu) # 290 n'est pas une key donc false"
   ]
  },
  {
   "cell_type": "markdown",
   "id": "680b1579",
   "metadata": {},
   "source": [
    "# Exercice 3 - Longueur d'un dictionnaire\n",
    "Remplacer les ??? par du code permettant de savoir combien d'éléments le dictionnaire menu contient. \n",
    "\n",
    "Il s'agit du même procédé que pour les listes ou les strings. Pouvez-vous deviner?"
   ]
  },
  {
   "cell_type": "code",
   "execution_count": 47,
   "id": "6db1fda0",
   "metadata": {
    "ExecuteTime": {
     "end_time": "2022-04-23T06:22:10.002432Z",
     "start_time": "2022-04-23T06:22:09.984520Z"
    }
   },
   "outputs": [
    {
     "name": "stdout",
     "output_type": "stream",
     "text": [
      "Nous avonc 3 plats au menu ce soir\n"
     ]
    }
   ],
   "source": [
    "menu = { 'plat_poisson' : 100, 'plat_vege' : 90, 'plat_bouble_burger': 290}\n",
    "nombre_plat= len(menu)\n",
    "print(f'Nous avonc {nombre_plat} plats au menu ce soir')"
   ]
  },
  {
   "cell_type": "markdown",
   "id": "a20c5f92",
   "metadata": {},
   "source": [
    "# Exercice 4 - Contourner la KeyError\n",
    "Ce code va afficher un message d'erreur... Pouvez vous deviner lequel?\n",
    "\n",
    "Recopier le code puis exécuter le pour vérifier votre réponse.\n",
    "\n",
    "Ensuite modifier le code pour que le code fonctionne, bien que le plat ne soit pas au menu."
   ]
  },
  {
   "cell_type": "code",
   "execution_count": 48,
   "id": "3c531a8d",
   "metadata": {
    "ExecuteTime": {
     "end_time": "2022-04-23T06:23:00.608176Z",
     "start_time": "2022-04-23T06:23:00.600157Z"
    }
   },
   "outputs": [
    {
     "ename": "KeyError",
     "evalue": "'plat_citrouille'",
     "output_type": "error",
     "traceback": [
      "\u001b[1;31m---------------------------------------------------------------------------\u001b[0m",
      "\u001b[1;31mKeyError\u001b[0m                                  Traceback (most recent call last)",
      "\u001b[1;32m<ipython-input-48-32a6ece42fc3>\u001b[0m in \u001b[0;36m<module>\u001b[1;34m\u001b[0m\n\u001b[0;32m      1\u001b[0m \u001b[0mmenu\u001b[0m \u001b[1;33m=\u001b[0m \u001b[1;33m{\u001b[0m\u001b[1;34m'plat_poisson'\u001b[0m \u001b[1;33m:\u001b[0m \u001b[1;36m100\u001b[0m\u001b[1;33m,\u001b[0m \u001b[1;34m'plat_vege'\u001b[0m \u001b[1;33m:\u001b[0m \u001b[1;36m90\u001b[0m\u001b[1;33m,\u001b[0m \u001b[1;34m'plat_double_burger'\u001b[0m \u001b[1;33m:\u001b[0m \u001b[1;36m290\u001b[0m\u001b[1;33m}\u001b[0m\u001b[1;33m\u001b[0m\u001b[1;33m\u001b[0m\u001b[0m\n\u001b[1;32m----> 2\u001b[1;33m \u001b[0mplat\u001b[0m \u001b[1;33m=\u001b[0m \u001b[0mmenu\u001b[0m\u001b[1;33m[\u001b[0m\u001b[1;34m'plat_citrouille'\u001b[0m\u001b[1;33m]\u001b[0m\u001b[1;33m\u001b[0m\u001b[1;33m\u001b[0m\u001b[0m\n\u001b[0m\u001b[0;32m      3\u001b[0m \u001b[0mprint\u001b[0m\u001b[1;33m(\u001b[0m\u001b[0mplat\u001b[0m\u001b[1;33m)\u001b[0m\u001b[1;33m\u001b[0m\u001b[1;33m\u001b[0m\u001b[0m\n",
      "\u001b[1;31mKeyError\u001b[0m: 'plat_citrouille'"
     ]
    }
   ],
   "source": [
    "menu = {'plat_poisson' : 100, 'plat_vege' : 90, 'plat_double_burger' : 290}\n",
    "plat = menu['plat_citrouille']\n",
    "print(plat)"
   ]
  },
  {
   "cell_type": "code",
   "execution_count": 50,
   "id": "0dfc9cab",
   "metadata": {
    "ExecuteTime": {
     "end_time": "2022-04-23T06:26:54.385014Z",
     "start_time": "2022-04-23T06:26:54.376080Z"
    }
   },
   "outputs": [
    {
     "name": "stdout",
     "output_type": "stream",
     "text": [
      "plat\n"
     ]
    }
   ],
   "source": [
    "plat = menu.get('plat_citrouille')\n",
    "print(plat)"
   ]
  },
  {
   "cell_type": "markdown",
   "id": "4e262dbc",
   "metadata": {},
   "source": [
    "# Exercice 5 - Remplacer la valeur par défaut retourner par get()\n",
    "Modifier le code pour qu'au lieu d'afficher None, le code affiche la string 'Nous n\\'avons pas ce plat ce soir, désolé'.\n"
   ]
  },
  {
   "cell_type": "code",
   "execution_count": 58,
   "id": "675fa8b1",
   "metadata": {
    "ExecuteTime": {
     "end_time": "2022-04-23T06:39:15.078139Z",
     "start_time": "2022-04-23T06:39:15.070158Z"
    }
   },
   "outputs": [
    {
     "name": "stdout",
     "output_type": "stream",
     "text": [
      "Nous n'avons pas ce None ce soir, désolé\n"
     ]
    }
   ],
   "source": [
    "menu = { 'plat_poisson' : 100, 'plat_vege' : 90, 'plat_double_burger' : 290}\n",
    "plat = menu.get('plat_citrouille', f'Nous n\\'avons pas ce {plat} ce soir, désolé')\n",
    "\n",
    "print(plat)"
   ]
  },
  {
   "cell_type": "markdown",
   "id": "afa5fda2",
   "metadata": {},
   "source": [
    "# Exercice 7 - Récupérer une liste de couples clé-valeur. \n",
    "Remplacer les ??? par un appel à la méthode permettant de récupérer les couples clef-valeur contenus dans le dictionnaire sous forme de liste. Puis afficher cette liste."
   ]
  },
  {
   "cell_type": "code",
   "execution_count": 70,
   "id": "da4c5eb3",
   "metadata": {
    "ExecuteTime": {
     "end_time": "2022-04-23T06:49:52.090013Z",
     "start_time": "2022-04-23T06:49:52.085026Z"
    }
   },
   "outputs": [
    {
     "name": "stdout",
     "output_type": "stream",
     "text": [
      "[('plat_poisson', 100), ('plat_vege', 90), ('plat_double_burger', 290)]\n"
     ]
    }
   ],
   "source": [
    "menu = { 'plat_poisson' : 100, 'plat_vege' : 90, 'plat_double_burger' : 290}\n",
    "# Obtenir la liste des paires clef-valeur\n",
    "couple_cle_valeur = list(menu.items())\n",
    "print(couple_cle_valeur)\n"
   ]
  },
  {
   "cell_type": "markdown",
   "id": "be8c7ffb",
   "metadata": {},
   "source": [
    "# Exercice 8 - Récupérer une liste de clefs.\n",
    "Remplacer les ??? par un appel à la méthode permettant de récupérer les clefs contenues dans le dictionnaire sous forme de liste. Puis afficher cette liste."
   ]
  },
  {
   "cell_type": "code",
   "execution_count": 71,
   "id": "7f96e608",
   "metadata": {
    "ExecuteTime": {
     "end_time": "2022-04-23T06:53:57.630855Z",
     "start_time": "2022-04-23T06:53:57.622879Z"
    }
   },
   "outputs": [
    {
     "name": "stdout",
     "output_type": "stream",
     "text": [
      "['plat_poisson', 'plat_vege', 'plat_double_burger']\n"
     ]
    }
   ],
   "source": [
    "menu = { 'plat_poisson' : 100, 'plat_vege' : 90, 'plat_double_burger' : 290}\n",
    "# obtenir la liste des clés\n",
    "clefs = list(menu.keys())\n",
    "print(clefs)"
   ]
  },
  {
   "cell_type": "markdown",
   "id": "bd2489f3",
   "metadata": {},
   "source": [
    "# Exercice 9 - Récupérer une liste de values.\n",
    "Remplacer les ??? par un appel à la méthode permettant de récupérer les values contenues dans le dictionnaire sous forme de liste. Puis afficher cette liste."
   ]
  },
  {
   "cell_type": "code",
   "execution_count": 73,
   "id": "3391b291",
   "metadata": {
    "ExecuteTime": {
     "end_time": "2022-04-23T06:56:32.023703Z",
     "start_time": "2022-04-23T06:56:32.014701Z"
    }
   },
   "outputs": [
    {
     "name": "stdout",
     "output_type": "stream",
     "text": [
      "[100, 90, 290]\n"
     ]
    }
   ],
   "source": [
    "menu = { 'plat_poisson' : 100, 'plat_vege' : 90, 'plat_double_burger' : 290}\n",
    "valeurs = list(menu.values())\n",
    "print(valeurs)"
   ]
  },
  {
   "cell_type": "raw",
   "id": "d814347c",
   "metadata": {},
   "source": [
    "Le plus important à retenir pour les dictionnaires:\n",
    "\n",
    "Utiliser les crochets pour accéder / modifier des valeurs associé à une clef.\n",
    "Rajouter un couple clef-valeur dans le dictionnaire\n",
    "Récupérer le nombre de couples clef-valeur contenus dans le dictionnaire avec len()"
   ]
  }
 ],
 "metadata": {
  "kernelspec": {
   "display_name": "Python 3",
   "language": "python",
   "name": "python3"
  },
  "language_info": {
   "codemirror_mode": {
    "name": "ipython",
    "version": 3
   },
   "file_extension": ".py",
   "mimetype": "text/x-python",
   "name": "python",
   "nbconvert_exporter": "python",
   "pygments_lexer": "ipython3",
   "version": "3.8.8"
  },
  "toc": {
   "base_numbering": 1,
   "nav_menu": {},
   "number_sections": true,
   "sideBar": true,
   "skip_h1_title": false,
   "title_cell": "Table of Contents",
   "title_sidebar": "Contents",
   "toc_cell": false,
   "toc_position": {},
   "toc_section_display": true,
   "toc_window_display": false
  }
 },
 "nbformat": 4,
 "nbformat_minor": 5
}
