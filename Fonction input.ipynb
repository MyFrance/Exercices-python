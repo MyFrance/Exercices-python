{
 "cells": [
  {
   "cell_type": "code",
   "execution_count": 4,
   "id": "bec74b4b",
   "metadata": {
    "ExecuteTime": {
     "end_time": "2022-04-19T09:58:05.023678Z",
     "start_time": "2022-04-19T09:57:54.838879Z"
    }
   },
   "outputs": [
    {
     "name": "stdout",
     "output_type": "stream",
     "text": [
      "what's your name?My France \n"
     ]
    }
   ],
   "source": [
    "name = input(\"what's your name?\")\n"
   ]
  },
  {
   "cell_type": "code",
   "execution_count": 5,
   "id": "0266b0ab",
   "metadata": {
    "ExecuteTime": {
     "end_time": "2022-04-19T09:58:07.145731Z",
     "start_time": "2022-04-19T09:58:07.126780Z"
    }
   },
   "outputs": [
    {
     "name": "stdout",
     "output_type": "stream",
     "text": [
      "hello My France \n"
     ]
    }
   ],
   "source": [
    "print(\"Hello\", name)"
   ]
  },
  {
   "cell_type": "code",
   "execution_count": 13,
   "id": "72243b19",
   "metadata": {
    "ExecuteTime": {
     "end_time": "2022-04-19T10:33:33.694692Z",
     "start_time": "2022-04-19T10:33:20.646027Z"
    }
   },
   "outputs": [
    {
     "name": "stdout",
     "output_type": "stream",
     "text": [
      "Quel est votre nom? Michel\n",
      "Bonjour Michel\n",
      "quelle est votre couleur préférée?bleu\n",
      "La couleur préférée de Michel est le bleu\n"
     ]
    }
   ],
   "source": [
    "nom = input (\"Quel est votre nom? \")\n",
    "print(\"Bonjour\", nom)\n",
    "couleur = input (\"quelle est votre couleur préférée?\" )\n",
    "print(\"La couleur préférée de\", nom , \"est le \", couleur)"
   ]
  },
  {
   "cell_type": "code",
   "execution_count": 18,
   "id": "747c6c15",
   "metadata": {
    "ExecuteTime": {
     "end_time": "2022-04-19T10:54:47.813261Z",
     "start_time": "2022-04-19T10:54:24.683803Z"
    }
   },
   "outputs": [
    {
     "name": "stdout",
     "output_type": "stream",
     "text": [
      "quel est votre nom? Chest Bras\n",
      "Bonjour Chest Bras\n",
      "quel est votre âge? 23 ans \n",
      "j'ai 23 ans \n",
      "êtes_vous nouveau client? non\n",
      "False\n"
     ]
    }
   ],
   "source": [
    "nom_du_client = input(\"quel est votre nom? \")\n",
    "print(\"Bonjour \" + nom_du_client)\n",
    "\n",
    "age = input(\"quel est votre âge? \")\n",
    "print(\"j'ai \" + age)\n",
    "\n",
    "type_client = input(\"êtes_vous nouveau client? \")\n",
    "print(True == \"oui\" or False == \"non\")"
   ]
  },
  {
   "cell_type": "code",
   "execution_count": null,
   "id": "235f1625",
   "metadata": {},
   "outputs": [],
   "source": []
  },
  {
   "cell_type": "code",
   "execution_count": null,
   "id": "50330762",
   "metadata": {},
   "outputs": [],
   "source": []
  },
  {
   "cell_type": "code",
   "execution_count": null,
   "id": "1ae8b821",
   "metadata": {},
   "outputs": [],
   "source": []
  }
 ],
 "metadata": {
  "kernelspec": {
   "display_name": "Python 3",
   "language": "python",
   "name": "python3"
  },
  "language_info": {
   "codemirror_mode": {
    "name": "ipython",
    "version": 3
   },
   "file_extension": ".py",
   "mimetype": "text/x-python",
   "name": "python",
   "nbconvert_exporter": "python",
   "pygments_lexer": "ipython3",
   "version": "3.8.8"
  },
  "toc": {
   "base_numbering": 1,
   "nav_menu": {},
   "number_sections": true,
   "sideBar": true,
   "skip_h1_title": false,
   "title_cell": "Table of Contents",
   "title_sidebar": "Contents",
   "toc_cell": false,
   "toc_position": {},
   "toc_section_display": true,
   "toc_window_display": false
  }
 },
 "nbformat": 4,
 "nbformat_minor": 5
}
