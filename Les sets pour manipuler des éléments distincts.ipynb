{
 "cells": [
  {
   "cell_type": "markdown",
   "id": "d61f846f",
   "metadata": {},
   "source": [
    "# Exercice 1 - Les sets pour compter les éléments distincts d'une liste.\n",
    "Que va afficher le code ci-dessous?\n",
    "\n",
    "Recopier le code puis exécutez le pour vérifier votre réponse.\n",
    "\n",
    "Prenez votre temps pour manipuler le code et comprendre son fonctionnement."
   ]
  },
  {
   "cell_type": "code",
   "execution_count": 7,
   "id": "3d0bf88c",
   "metadata": {
    "ExecuteTime": {
     "end_time": "2022-04-24T08:42:46.123997Z",
     "start_time": "2022-04-24T08:42:46.111059Z"
    }
   },
   "outputs": [
    {
     "name": "stdout",
     "output_type": "stream",
     "text": [
      "Le journal d'appel ['Alice', 'Bob', 'Alice', 'Carla', 'Denzel', 'Alice', 'Bob', 'Carla', 'Denzel']\n",
      "Les contacts fréquents sont: {'Carla', 'Denzel', 'Bob', 'Alice'}\n",
      "J'appelle souvent 4 personnes différents\n"
     ]
    }
   ],
   "source": [
    "journal_dappel = ['Alice', 'Bob', 'Alice', 'Carla', 'Denzel',\n",
    "                  'Alice', 'Bob', 'Carla', 'Denzel']\n",
    "\n",
    "contact_frequent = set(journal_dappel)\n",
    "print(f'Le journal d\\'appel', journal_dappel)\n",
    "print(f'Les contacts fréquents sont:', contact_frequent)\n",
    "\n",
    "# On peut aussi utliser len sur les set\n",
    "nombre_contacts = len(contact_frequent)\n",
    "print(f'J\\'appelle souvent {nombre_contacts} personnes différentes')"
   ]
  },
  {
   "cell_type": "markdown",
   "id": "af7f40ed",
   "metadata": {},
   "source": [
    "# Exercice 2 - Vérifier si un élément est dans un set\n",
    "Que va afficher le code ci-dessous? \n",
    "\n",
    "Recopier-le, puis exécuter-le pour vérifier votre réponse."
   ]
  },
  {
   "cell_type": "code",
   "execution_count": 8,
   "id": "96c23510",
   "metadata": {
    "ExecuteTime": {
     "end_time": "2022-04-24T08:45:55.190665Z",
     "start_time": "2022-04-24T08:45:55.175689Z"
    }
   },
   "outputs": [
    {
     "name": "stdout",
     "output_type": "stream",
     "text": [
      "Est ce que j'appelle souvent mes parents?  False\n"
     ]
    }
   ],
   "source": [
    "contacts_frequents = {'Denzel', 'Bob', 'Alice', 'Carla'}\n",
    "test_dinclusion = 'Parents' in contacts_frequents\n",
    "print(\"Est ce que j'appelle souvent mes parents? \", test_dinclusion)"
   ]
  },
  {
   "cell_type": "markdown",
   "id": "cfac888b",
   "metadata": {},
   "source": [
    "# Exercice 3 - À votre tour\n",
    "Remplacer les ??? par du code permettant de vérifier si j'appelle souvent \"Bob\""
   ]
  },
  {
   "cell_type": "code",
   "execution_count": 9,
   "id": "e2942a3e",
   "metadata": {
    "ExecuteTime": {
     "end_time": "2022-04-24T08:47:40.733841Z",
     "start_time": "2022-04-24T08:47:40.725860Z"
    }
   },
   "outputs": [
    {
     "name": "stdout",
     "output_type": "stream",
     "text": [
      "Est ce que j'appelle souvent Bob?  True\n"
     ]
    }
   ],
   "source": [
    "contacts_frequents = {'Denzel', 'Bob', 'Alice', 'Carla'}\n",
    "test_dinclusion = 'Bob' in contacts_frequents\n",
    "print(\"Est ce que j'appelle souvent Bob? \", test_dinclusion)"
   ]
  },
  {
   "cell_type": "markdown",
   "id": "f480e757",
   "metadata": {},
   "source": [
    "# Exercice 4 - Ajouter plusieurs fois le même élément\n",
    "Essayez de deviner si le code ci-dessous va afficher un erreur?\n",
    "\n",
    "Ensuite, recopiez-le puis exécutez-le pour vérifier votre réponse."
   ]
  },
  {
   "cell_type": "code",
   "execution_count": 11,
   "id": "3d6b5ff3",
   "metadata": {
    "ExecuteTime": {
     "end_time": "2022-04-24T08:53:18.278441Z",
     "start_time": "2022-04-24T08:53:18.271461Z"
    }
   },
   "outputs": [
    {
     "name": "stdout",
     "output_type": "stream",
     "text": [
      "Est ce que j'appelle souvent mes parents True\n",
      "{'Alice', 'Carla', 'Denzel', 'parents', 'Bob'}\n"
     ]
    }
   ],
   "source": [
    "contacts_frequents = {'Denzel', 'Bob', 'Alice', 'Carla'}\n",
    "\n",
    "# Je décide d'appeler le plus souvent mes parents\n",
    "contacts_frequents.add('parents')\n",
    "\n",
    "# Et plutôt deux fois qu'une\n",
    "contacts_frequents.add('parents')\n",
    "contacts_frequents.add('parents')\n",
    "contacts_frequents.add('parents')\n",
    "\n",
    "test_dinclusion = 'parents' in contacts_frequents\n",
    "print(\"Est ce que j'appelle souvent mes parents\", test_dinclusion)\n",
    "\n",
    "print(contacts_frequents)"
   ]
  },
  {
   "cell_type": "markdown",
   "id": "c99c153d",
   "metadata": {},
   "source": [
    "# Exercice 5 - Tenter de supprimer plusieurs fois le même élément\n",
    "Essayez de deviner si le code ci-dessous va afficher un erreur?\n",
    "\n",
    "Ensuite, recopiez-le puis exécutez-le pour vérifier votre réponse."
   ]
  },
  {
   "cell_type": "code",
   "execution_count": null,
   "id": "0e9ee2fd",
   "metadata": {},
   "outputs": [],
   "source": [
    "contacts_frequents = {'Alice', 'Carla', 'Denzel', 'parents', 'Bob'}\n",
    "\n",
    "# Je me suis fâché avec Bob, je le retire de mes contacts frequents\n",
    "contacts_frequents.remove('Bob')\n",
    "\n",
    "test_dinclusion = 'Bob' in contacts_frequents\n",
    "print(\"Est ce que j'appelle souvent bob?\", test_dinclusion)"
   ]
  }
 ],
 "metadata": {
  "kernelspec": {
   "display_name": "Python 3",
   "language": "python",
   "name": "python3"
  },
  "language_info": {
   "codemirror_mode": {
    "name": "ipython",
    "version": 3
   },
   "file_extension": ".py",
   "mimetype": "text/x-python",
   "name": "python",
   "nbconvert_exporter": "python",
   "pygments_lexer": "ipython3",
   "version": "3.8.8"
  },
  "toc": {
   "base_numbering": 1,
   "nav_menu": {},
   "number_sections": true,
   "sideBar": true,
   "skip_h1_title": false,
   "title_cell": "Table of Contents",
   "title_sidebar": "Contents",
   "toc_cell": false,
   "toc_position": {},
   "toc_section_display": true,
   "toc_window_display": false
  }
 },
 "nbformat": 4,
 "nbformat_minor": 5
}
