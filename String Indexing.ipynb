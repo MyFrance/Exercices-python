{
 "cells": [
  {
   "cell_type": "markdown",
   "id": "fe6779bc",
   "metadata": {},
   "source": [
    "# Exercice 1 - Accéder au caractère 'a'\n",
    "Nous avons dans cette exercice une chaîne de caractère comportant toutes les lettres de l'alphabet...\n",
    "\n",
    "Votre mission est de remplacer les ??? par l'index permettant d'accéder à lettre 'a'."
   ]
  },
  {
   "cell_type": "code",
   "execution_count": 1,
   "id": "d10e47ae",
   "metadata": {
    "ExecuteTime": {
     "end_time": "2022-04-16T15:54:28.550693Z",
     "start_time": "2022-04-16T15:54:28.539722Z"
    }
   },
   "outputs": [],
   "source": [
    "alphabet = 'abcdefghijklmnopqrstuvwxyz'"
   ]
  },
  {
   "cell_type": "code",
   "execution_count": 2,
   "id": "e0ff9ac1",
   "metadata": {
    "ExecuteTime": {
     "end_time": "2022-04-16T15:54:28.566649Z",
     "start_time": "2022-04-16T15:54:28.552717Z"
    }
   },
   "outputs": [
    {
     "name": "stdout",
     "output_type": "stream",
     "text": [
      "a\n"
     ]
    }
   ],
   "source": [
    "pos_index = alphabet[0]\n",
    "print(pos_index)"
   ]
  },
  {
   "cell_type": "code",
   "execution_count": 3,
   "id": "a2e4fb0e",
   "metadata": {
    "ExecuteTime": {
     "end_time": "2022-04-16T15:54:28.582649Z",
     "start_time": "2022-04-16T15:54:28.568644Z"
    }
   },
   "outputs": [
    {
     "name": "stdout",
     "output_type": "stream",
     "text": [
      "a\n"
     ]
    }
   ],
   "source": [
    "neg_index = alphabet[-26]\n",
    "print(neg_index)"
   ]
  },
  {
   "cell_type": "markdown",
   "id": "bdadb5c6",
   "metadata": {},
   "source": [
    "# Exercice 2 - Accéder au caractère 'z'\n",
    "Nous avons dans cette exercice une chaîne de caractère comportant toutes les lettres de l'alphabet...\n",
    "\n",
    "Votre mission est de remplacer les ??? par les index permettant d'accéder à lettre 'z'."
   ]
  },
  {
   "cell_type": "code",
   "execution_count": 4,
   "id": "66b611c6",
   "metadata": {
    "ExecuteTime": {
     "end_time": "2022-04-16T15:54:28.598565Z",
     "start_time": "2022-04-16T15:54:28.584640Z"
    }
   },
   "outputs": [
    {
     "name": "stdout",
     "output_type": "stream",
     "text": [
      "z\n"
     ]
    }
   ],
   "source": [
    "pos_index_z = alphabet[25]\n",
    "print(pos_index_z)"
   ]
  },
  {
   "cell_type": "code",
   "execution_count": 5,
   "id": "bb2542c4",
   "metadata": {
    "ExecuteTime": {
     "end_time": "2022-04-16T15:54:28.614522Z",
     "start_time": "2022-04-16T15:54:28.600559Z"
    }
   },
   "outputs": [
    {
     "name": "stdout",
     "output_type": "stream",
     "text": [
      "z\n"
     ]
    }
   ],
   "source": [
    "neg_index_z = alphabet[-1]\n",
    "print(neg_index_z)"
   ]
  },
  {
   "cell_type": "markdown",
   "id": "314c90b4",
   "metadata": {
    "ExecuteTime": {
     "end_time": "2022-04-16T15:04:24.921714Z",
     "start_time": "2022-04-16T15:04:24.903761Z"
    }
   },
   "source": [
    "# Exercice 3 - Accéder au caractère 'j'\n",
    "Nous avons dans cette exercice une chaîne de caractère comportant toutes les lettres de l'alphabet...\n",
    "\n",
    "Votre mission est de remplacer les ??? par les index permettant d'accéder à lettre 'j'."
   ]
  },
  {
   "cell_type": "code",
   "execution_count": 6,
   "id": "1ddeede1",
   "metadata": {
    "ExecuteTime": {
     "end_time": "2022-04-16T15:54:28.630478Z",
     "start_time": "2022-04-16T15:54:28.617523Z"
    }
   },
   "outputs": [
    {
     "name": "stdout",
     "output_type": "stream",
     "text": [
      "j\n"
     ]
    }
   ],
   "source": [
    "pos_index_j = alphabet[9]\n",
    "print(pos_index_j)"
   ]
  },
  {
   "cell_type": "code",
   "execution_count": 7,
   "id": "312e5c87",
   "metadata": {
    "ExecuteTime": {
     "end_time": "2022-04-16T15:54:28.646018Z",
     "start_time": "2022-04-16T15:54:28.632511Z"
    }
   },
   "outputs": [
    {
     "name": "stdout",
     "output_type": "stream",
     "text": [
      "j\n"
     ]
    }
   ],
   "source": [
    "neg_index_j = alphabet[-17]\n",
    "print(neg_index_j)"
   ]
  },
  {
   "cell_type": "markdown",
   "id": "97ff5dfb",
   "metadata": {},
   "source": [
    "# Exercice 4 - Accéder au caractère 'u'\n",
    "Nous avons dans cette exercice une chaîne de caractère comportant toutes les lettres de l'alphabet...\n",
    "\n",
    "Votre mission est de remplacer les ??? par les index permettant d'accéder à lettre 'u'."
   ]
  },
  {
   "cell_type": "code",
   "execution_count": 8,
   "id": "1fcdb590",
   "metadata": {
    "ExecuteTime": {
     "end_time": "2022-04-16T15:54:28.661927Z",
     "start_time": "2022-04-16T15:54:28.648954Z"
    }
   },
   "outputs": [
    {
     "name": "stdout",
     "output_type": "stream",
     "text": [
      "u\n"
     ]
    }
   ],
   "source": [
    "pos_index_u = alphabet[20]\n",
    "print(pos_index_u)"
   ]
  },
  {
   "cell_type": "code",
   "execution_count": 9,
   "id": "2e1a2f34",
   "metadata": {
    "ExecuteTime": {
     "end_time": "2022-04-16T15:54:28.677882Z",
     "start_time": "2022-04-16T15:54:28.668901Z"
    }
   },
   "outputs": [
    {
     "name": "stdout",
     "output_type": "stream",
     "text": [
      "u\n"
     ]
    }
   ],
   "source": [
    "neg_index_u = alphabet[-6]\n",
    "print(neg_index_u)"
   ]
  },
  {
   "cell_type": "markdown",
   "id": "e1289459",
   "metadata": {},
   "source": [
    "# Exercice 5 - Accéder au caractère 'm'\n",
    "Nous avons dans cette exercice une chaîne de caractère comportant toutes les lettres de l'alphabet...\n",
    "\n",
    "Votre mission est de remplacer les ??? par les index permettant d'accéder à lettre 'm'."
   ]
  },
  {
   "cell_type": "code",
   "execution_count": 10,
   "id": "94ff72a5",
   "metadata": {
    "ExecuteTime": {
     "end_time": "2022-04-16T15:54:28.693842Z",
     "start_time": "2022-04-16T15:54:28.681865Z"
    }
   },
   "outputs": [
    {
     "name": "stdout",
     "output_type": "stream",
     "text": [
      "m\n"
     ]
    }
   ],
   "source": [
    "pos_index_m = alphabet[12]\n",
    "print(pos_index_m)"
   ]
  },
  {
   "cell_type": "code",
   "execution_count": 11,
   "id": "a04fa461",
   "metadata": {
    "ExecuteTime": {
     "end_time": "2022-04-16T15:54:28.709561Z",
     "start_time": "2022-04-16T15:54:28.695828Z"
    }
   },
   "outputs": [
    {
     "name": "stdout",
     "output_type": "stream",
     "text": [
      "m\n"
     ]
    }
   ],
   "source": [
    "neg_index_m = alphabet[-14]\n",
    "print(neg_index_m)"
   ]
  },
  {
   "cell_type": "markdown",
   "id": "1c00b2d2",
   "metadata": {},
   "source": [
    "# Exercice 6⭐Accéder au caractère du milieu\n",
    "Le code de cette exercice comporte une erreur. Recopier le code manuellement puis executer le pour découvrir le message d'erreur.\n",
    "\n",
    "Si possible sans vous aider de l'indice disponible, essayez de corriger l'erreur pour afficher la lettre 'L' qui est la lettre du milieu de la chaîne de caractère.\n",
    "\n",
    "Considérez cette exercice comme un entrainement à la résolution de bug. Du coup ne vous privez pas de toute l'aide disponible (en dehors de l'indice), comme Google par exemple."
   ]
  },
  {
   "cell_type": "raw",
   "id": "34da7cc3",
   "metadata": {
    "ExecuteTime": {
     "end_time": "2022-04-16T15:35:23.250585Z",
     "start_time": "2022-04-16T15:35:23.229591Z"
    }
   },
   "source": [
    "string = 'Salut'\n",
    "index_milieu = len(string)/2\n",
    "print(type(index_milieu))\n",
    "print(string[index_milieu])"
   ]
  },
  {
   "cell_type": "code",
   "execution_count": 12,
   "id": "5f833547",
   "metadata": {
    "ExecuteTime": {
     "end_time": "2022-04-16T15:54:28.725516Z",
     "start_time": "2022-04-16T15:54:28.713548Z"
    }
   },
   "outputs": [
    {
     "name": "stdout",
     "output_type": "stream",
     "text": [
      "l\n"
     ]
    }
   ],
   "source": [
    "string = 'Salut'\n",
    "index_milieu = string[2]\n",
    "print(index_milieu)"
   ]
  },
  {
   "cell_type": "code",
   "execution_count": 13,
   "id": "62757f68",
   "metadata": {
    "ExecuteTime": {
     "end_time": "2022-04-16T15:54:28.740476Z",
     "start_time": "2022-04-16T15:54:28.729504Z"
    }
   },
   "outputs": [
    {
     "name": "stdout",
     "output_type": "stream",
     "text": [
      "<class 'int'>\n",
      "l\n"
     ]
    }
   ],
   "source": [
    "string = 'Salut'\n",
    "index_milieu = round(len(string)/2)\n",
    "print(type(index_milieu))\n",
    "print(string[index_milieu])"
   ]
  },
  {
   "cell_type": "markdown",
   "id": "caba1bba",
   "metadata": {},
   "source": [
    "# Exercice 7 - IndexError\n",
    "Le code ci-dessous comporte des erreurs. Après avoir constater les messages d'erreurs. Corrigez les valeurs de pos_index et de neg_index pour que chacune de ces variables contiennent l'index maximal à ne pas dépasser. "
   ]
  },
  {
   "cell_type": "code",
   "execution_count": 14,
   "id": "2ed4e0e4",
   "metadata": {
    "ExecuteTime": {
     "end_time": "2022-04-16T15:54:28.771712Z",
     "start_time": "2022-04-16T15:54:28.743468Z"
    }
   },
   "outputs": [
    {
     "name": "stdout",
     "output_type": "stream",
     "text": [
      "26\n"
     ]
    }
   ],
   "source": [
    "pos_index_index = len(alphabet)\n",
    "print(pos_index_index)"
   ]
  },
  {
   "cell_type": "code",
   "execution_count": 15,
   "id": "a550f29a",
   "metadata": {
    "ExecuteTime": {
     "end_time": "2022-04-16T15:54:28.786675Z",
     "start_time": "2022-04-16T15:54:28.772712Z"
    }
   },
   "outputs": [
    {
     "name": "stdout",
     "output_type": "stream",
     "text": [
      "-27\n"
     ]
    }
   ],
   "source": [
    "neg_index = - (len(alphabet) +1)\n",
    "print(neg_index)"
   ]
  },
  {
   "cell_type": "code",
   "execution_count": null,
   "id": "97da5fb5",
   "metadata": {},
   "outputs": [],
   "source": []
  }
 ],
 "metadata": {
  "kernelspec": {
   "display_name": "Python 3",
   "language": "python",
   "name": "python3"
  },
  "language_info": {
   "codemirror_mode": {
    "name": "ipython",
    "version": 3
   },
   "file_extension": ".py",
   "mimetype": "text/x-python",
   "name": "python",
   "nbconvert_exporter": "python",
   "pygments_lexer": "ipython3",
   "version": "3.8.8"
  },
  "toc": {
   "base_numbering": 1,
   "nav_menu": {},
   "number_sections": true,
   "sideBar": true,
   "skip_h1_title": false,
   "title_cell": "Table of Contents",
   "title_sidebar": "Contents",
   "toc_cell": false,
   "toc_position": {},
   "toc_section_display": true,
   "toc_window_display": false
  }
 },
 "nbformat": 4,
 "nbformat_minor": 5
}
