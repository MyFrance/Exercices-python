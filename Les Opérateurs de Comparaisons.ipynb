{
 "cells": [
  {
   "cell_type": "code",
   "execution_count": 1,
   "id": "de57e4a6",
   "metadata": {
    "ExecuteTime": {
     "end_time": "2021-11-25T13:48:55.791791Z",
     "start_time": "2021-11-25T13:48:53.997049Z"
    }
   },
   "outputs": [],
   "source": [
    "import pandas as pd \n",
    "import numpy as np"
   ]
  },
  {
   "cell_type": "markdown",
   "id": "b5e25648",
   "metadata": {},
   "source": [
    "# Exercice 1 - Tester chacun des opérateurs de comparaison"
   ]
  },
  {
   "cell_type": "code",
   "execution_count": 2,
   "id": "c2f1a6b3",
   "metadata": {
    "ExecuteTime": {
     "end_time": "2021-11-25T13:54:40.768074Z",
     "start_time": "2021-11-25T13:54:40.746138Z"
    }
   },
   "outputs": [
    {
     "name": "stdout",
     "output_type": "stream",
     "text": [
      "vrai True\n"
     ]
    }
   ],
   "source": [
    "print(\"vrai\", 10> -20)"
   ]
  },
  {
   "cell_type": "code",
   "execution_count": 3,
   "id": "3aca1280",
   "metadata": {
    "ExecuteTime": {
     "end_time": "2021-11-25T13:55:01.810764Z",
     "start_time": "2021-11-25T13:55:01.806774Z"
    }
   },
   "outputs": [
    {
     "name": "stdout",
     "output_type": "stream",
     "text": [
      "faux False\n"
     ]
    }
   ],
   "source": [
    "print(\"faux\", 10>10)"
   ]
  },
  {
   "cell_type": "markdown",
   "id": "fb8201e8",
   "metadata": {
    "ExecuteTime": {
     "end_time": "2021-11-25T13:55:15.724012Z",
     "start_time": "2021-11-25T13:55:15.708056Z"
    }
   },
   "source": [
    "# Exercice 2 - Les comparaisons chaînées"
   ]
  },
  {
   "cell_type": "code",
   "execution_count": 5,
   "id": "99fc15f3",
   "metadata": {
    "ExecuteTime": {
     "end_time": "2021-11-25T13:56:56.155978Z",
     "start_time": "2021-11-25T13:56:56.137987Z"
    }
   },
   "outputs": [
    {
     "name": "stdout",
     "output_type": "stream",
     "text": [
      "True True True\n"
     ]
    }
   ],
   "source": [
    "a = 1 < 2 < 3\n",
    "b = 1 <= 2 <= 3\n",
    "c = 2<= 2 <= 3 <= 3\n",
    "print(a, b, c)"
   ]
  },
  {
   "cell_type": "markdown",
   "id": "5c204c71",
   "metadata": {},
   "source": [
    "# Exercice 3 - Texte & égalité"
   ]
  },
  {
   "cell_type": "code",
   "execution_count": 6,
   "id": "ac672601",
   "metadata": {
    "ExecuteTime": {
     "end_time": "2021-11-25T13:59:26.678486Z",
     "start_time": "2021-11-25T13:59:26.673500Z"
    }
   },
   "outputs": [
    {
     "name": "stdout",
     "output_type": "stream",
     "text": [
      "False True False False\n"
     ]
    }
   ],
   "source": [
    "a = \"texte\" == \"TEXTE\"\n",
    "b = \"texte\" ==\"texte\"\n",
    "c = \" texte \" == \"texte\"\n",
    "d = \"Texte\" ==\"texte\"\n",
    "print(a, b, c, d )"
   ]
  },
  {
   "cell_type": "markdown",
   "id": "3d973b36",
   "metadata": {},
   "source": [
    "# Exercice 4 - Modulo et test de parité"
   ]
  },
  {
   "cell_type": "code",
   "execution_count": 7,
   "id": "2f9108e3",
   "metadata": {
    "ExecuteTime": {
     "end_time": "2021-11-25T14:02:11.554107Z",
     "start_time": "2021-11-25T14:02:11.536153Z"
    }
   },
   "outputs": [
    {
     "name": "stdout",
     "output_type": "stream",
     "text": [
      "10 pair? True\n",
      "10 impaire False\n"
     ]
    }
   ],
   "source": [
    "nombre = 10\n",
    "test_impaire = nombre % 2 ==1\n",
    "test_paire = nombre % 2 == 0\n",
    "print(nombre, 'pair?', test_paire)\n",
    "print(nombre, 'impaire', test_impaire)"
   ]
  },
  {
   "cell_type": "markdown",
   "id": "40d2ee25",
   "metadata": {},
   "source": [
    "# Exercice 5 - Résoudre un problème d'imprécision"
   ]
  },
  {
   "cell_type": "code",
   "execution_count": 11,
   "id": "a512b906",
   "metadata": {
    "ExecuteTime": {
     "end_time": "2021-11-25T14:11:00.077171Z",
     "start_time": "2021-11-25T14:11:00.061172Z"
    }
   },
   "outputs": [
    {
     "name": "stdout",
     "output_type": "stream",
     "text": [
      "False\n"
     ]
    }
   ],
   "source": [
    "formule_1 = 10 /2 * 3\n",
    "formule_2 = 10 /(2*3)\n",
    "epsilon = 0.000001\n",
    "-epsilon < formule_1 - formule_2 < epsilon\n",
    "print(-epsilon + formule_1 == formule_2 + epsilon)"
   ]
  },
  {
   "cell_type": "code",
   "execution_count": null,
   "id": "74cc1c66",
   "metadata": {},
   "outputs": [],
   "source": []
  }
 ],
 "metadata": {
  "kernelspec": {
   "display_name": "Python 3",
   "language": "python",
   "name": "python3"
  },
  "language_info": {
   "codemirror_mode": {
    "name": "ipython",
    "version": 3
   },
   "file_extension": ".py",
   "mimetype": "text/x-python",
   "name": "python",
   "nbconvert_exporter": "python",
   "pygments_lexer": "ipython3",
   "version": "3.8.8"
  },
  "toc": {
   "base_numbering": 1,
   "nav_menu": {},
   "number_sections": true,
   "sideBar": true,
   "skip_h1_title": false,
   "title_cell": "Table of Contents",
   "title_sidebar": "Contents",
   "toc_cell": false,
   "toc_position": {},
   "toc_section_display": true,
   "toc_window_display": false
  }
 },
 "nbformat": 4,
 "nbformat_minor": 5
}
