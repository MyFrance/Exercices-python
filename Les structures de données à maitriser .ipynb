{
 "cells": [
  {
   "cell_type": "markdown",
   "id": "1eac4e81",
   "metadata": {},
   "source": [
    "# Exercice 1 - Positive & Negative Indexing\n",
    "Que va afficher le code ci-dessous? \n",
    "\n",
    "Recopier manuellement le code puis exécutez le pour vérifier votre réponse.\n",
    "\n",
    "Ensuite, trouver les index positifs et négatifs qui permettent d'atteindre la valeur \"Fizz\" dans la liste."
   ]
  },
  {
   "cell_type": "code",
   "execution_count": 1,
   "id": "eedf12a7",
   "metadata": {
    "ExecuteTime": {
     "end_time": "2022-04-25T10:53:30.115300Z",
     "start_time": "2022-04-25T10:53:30.099610Z"
    }
   },
   "outputs": [
    {
     "name": "stdout",
     "output_type": "stream",
     "text": [
      "Voici Fizz sortie de sa liste:  Fizz\n"
     ]
    }
   ],
   "source": [
    "liste = ['aa', 'bb', 'Fizz', 'dd']\n",
    "# Afficher Fizz\n",
    "print(f'Voici Fizz sortie de sa liste: ', liste[2])"
   ]
  },
  {
   "cell_type": "markdown",
   "id": "48e06811",
   "metadata": {},
   "source": [
    "# Exercice 2 - Modifier une liste (indexing positif)\n",
    "Que va afficher le code ci-dessous? \n",
    "\n",
    "Recopier manuellement le code puis exécutez le pour vérifier votre réponse.\n",
    "\n",
    "Ensuite, trouver l'index positif qui permet de remplacer la valeur 'Fizz' par la valeur 'oo' dans la liste."
   ]
  },
  {
   "cell_type": "code",
   "execution_count": 2,
   "id": "2e74b73a",
   "metadata": {
    "ExecuteTime": {
     "end_time": "2022-04-25T10:53:30.131263Z",
     "start_time": "2022-04-25T10:53:30.118294Z"
    }
   },
   "outputs": [
    {
     "name": "stdout",
     "output_type": "stream",
     "text": [
      "J'ai remplacé Fizz par oo dans la liste ['aa', 'bb', 'oo', 'dd']\n"
     ]
    }
   ],
   "source": [
    "liste[2] = 'oo'\n",
    "print(\"J'ai remplacé Fizz par oo dans la liste\", liste)"
   ]
  },
  {
   "cell_type": "code",
   "execution_count": 3,
   "id": "75e33feb",
   "metadata": {
    "ExecuteTime": {
     "end_time": "2022-04-25T10:53:30.145346Z",
     "start_time": "2022-04-25T10:53:30.133252Z"
    }
   },
   "outputs": [
    {
     "name": "stdout",
     "output_type": "stream",
     "text": [
      "Le dernier élément de la liste est:  dd\n"
     ]
    }
   ],
   "source": [
    "# accede au dernier élément de la liste en utilisant \n",
    "#la fonction len() \n",
    "\n",
    "# doit afficher 'dd'\n",
    "max_index = len(liste) - 1\n",
    "print(\"Le dernier élément de la liste est: \", liste[max_index])"
   ]
  },
  {
   "cell_type": "code",
   "execution_count": 4,
   "id": "0739f083",
   "metadata": {
    "ExecuteTime": {
     "end_time": "2022-04-25T10:53:30.161218Z",
     "start_time": "2022-04-25T10:53:30.145346Z"
    }
   },
   "outputs": [
    {
     "name": "stdout",
     "output_type": "stream",
     "text": [
      "Le premier élément de la liste est:  aa\n"
     ]
    }
   ],
   "source": [
    "# accede au premier élément de la liste en utilisant \n",
    "#la fonction len() \n",
    "# doit afficher aa\n",
    "min_index = -len(liste)\n",
    "print(\"Le premier élément de la liste est: \", liste[min_index])"
   ]
  },
  {
   "cell_type": "code",
   "execution_count": 5,
   "id": "8d00d577",
   "metadata": {
    "ExecuteTime": {
     "end_time": "2022-04-25T10:53:30.180960Z",
     "start_time": "2022-04-25T10:53:30.165533Z"
    }
   },
   "outputs": [
    {
     "name": "stdout",
     "output_type": "stream",
     "text": [
      "Le premier élement de la liste n'est plus:  premier\n",
      "Le dernier élément de la liste n'est plus:  dernier\n",
      "fizz n'est plus dans la liste:  fizz\n",
      "Les éléments restants de la liste sont : ['a', 'b', 'c']\n"
     ]
    }
   ],
   "source": [
    "# Enlever le premier élément de la liste \n",
    "#et le récupérer dans la variable premier\n",
    "liste = ['premier', 'a', 'b', 'fizz', 'c', 'dernier']\n",
    "premier = liste.pop(0)\n",
    "print(\"Le premier élement de la liste n'est plus: \", premier)\n",
    "\n",
    "# Enlever le dernier élément de la liste \n",
    "# et le récupérer dans la variable dernier\n",
    "\n",
    "dernier = liste.pop(-1)\n",
    "print(\"Le dernier élément de la liste n'est plus: \", dernier)\n",
    "\n",
    "# Supprimer de la liste l'élément 'Fizz'\n",
    "print(\"fizz n'est plus dans la liste: \", liste.pop(2))\n",
    "\n",
    "print(\"Les éléments restants de la liste sont :\", liste)"
   ]
  },
  {
   "cell_type": "code",
   "execution_count": 6,
   "id": "f10da341",
   "metadata": {
    "ExecuteTime": {
     "end_time": "2022-04-25T10:53:30.196157Z",
     "start_time": "2022-04-25T10:53:30.181916Z"
    }
   },
   "outputs": [
    {
     "name": "stdout",
     "output_type": "stream",
     "text": [
      "[0, 0, 0, 0, 0, 0, 0, 0, 0, 0]\n"
     ]
    }
   ],
   "source": [
    "# Créer une liste qui contient l'élément zéro dix fois.\n",
    "dix_zeros = [0] *10\n",
    "print(dix_zeros)"
   ]
  },
  {
   "cell_type": "code",
   "execution_count": 7,
   "id": "2cc9c30c",
   "metadata": {
    "ExecuteTime": {
     "end_time": "2022-04-25T10:53:30.222320Z",
     "start_time": "2022-04-25T10:53:30.196157Z"
    }
   },
   "outputs": [
    {
     "name": "stdout",
     "output_type": "stream",
     "text": [
      "[1, 2, 3, 4, 5, 6, 7, 8]\n",
      "Les nombres paires restant dans la liste sont: [2, 4, 6, 8]\n"
     ]
    }
   ],
   "source": [
    "# Rajouter des lignes de code pour ajouter les éléments 6, 7 et 8 à notre liste. \n",
    "liste = [1, 2, 3, 4, 5]\n",
    "liste_additionne = liste + [6, 7, 8]\n",
    "print(liste_additionne)\n",
    "\n",
    "# supprimer les nombres impaires un à un grace à la méthode remove\n",
    "liste_additionne.remove(1)\n",
    "liste_additionne.remove(3)\n",
    "liste_additionne.remove(5)\n",
    "liste_additionne.remove(7)\n",
    "\n",
    "print(f'Les nombres paires restant dans la liste sont:', liste_additionne)"
   ]
  },
  {
   "cell_type": "code",
   "execution_count": 8,
   "id": "33f91355",
   "metadata": {
    "ExecuteTime": {
     "end_time": "2022-04-25T10:53:30.239484Z",
     "start_time": "2022-04-25T10:53:30.227003Z"
    }
   },
   "outputs": [
    {
     "name": "stdout",
     "output_type": "stream",
     "text": [
      "Les éléments séparer du fichier sont  ['pas_de_la_musique', 'mp3', 'exe']\n",
      "Le fichier contient-il l'extension mp3 False\n"
     ]
    }
   ],
   "source": [
    "fichier = \"pas_de_la_musique.mp3.exe\"\n",
    "# Ici nous allons séparer chaque élément du fichier\n",
    "fichier_separe = fichier.split('.')\n",
    "print(\"Les éléments séparer du fichier sont \",  fichier_separe )\n",
    "\n",
    "# Nous allons isoler mp3 qui est en position 1\n",
    "fichier_separe_mp3 = fichier_separe[1]\n",
    "\n",
    "# Maintenant nous allons voir si notre fichier contient l'extension mp3 \n",
    "print(\"Le fichier contient-il l'extension mp3\", fichier_separe_mp3[1].lower() == 'mp3')\n",
    " "
   ]
  },
  {
   "cell_type": "code",
   "execution_count": 9,
   "id": "37f810be",
   "metadata": {
    "ExecuteTime": {
     "end_time": "2022-04-25T10:53:30.259888Z",
     "start_time": "2022-04-25T10:53:30.243555Z"
    }
   },
   "outputs": [
    {
     "name": "stdout",
     "output_type": "stream",
     "text": [
      "1 2 hey\n",
      "1 2 Hey\n"
     ]
    }
   ],
   "source": [
    "un_tuple = (1,2,'hey')\n",
    "une_liste = [1,2, 'Hey']\n",
    "\n",
    "# Déballage du tupe (unpacking)\n",
    "a,b,c = un_tuple\n",
    "print(a,b,c)\n",
    "\n",
    "# déballage d'une liste \n",
    "x,y,z = une_liste\n",
    "print(x,y,z)"
   ]
  },
  {
   "cell_type": "code",
   "execution_count": 10,
   "id": "008104e9",
   "metadata": {
    "ExecuteTime": {
     "end_time": "2022-04-25T10:53:30.275260Z",
     "start_time": "2022-04-25T10:53:30.262217Z"
    }
   },
   "outputs": [
    {
     "name": "stdout",
     "output_type": "stream",
     "text": [
      "A B C D\n"
     ]
    }
   ],
   "source": [
    "# Unpacking (ie déballage qui veut dire ranger les éléments \n",
    "#d'une même liste dans des variables distincts )\n",
    "\n",
    "#??? = ['A', 'B', 'C', 'D']\n",
    "a, b, c, d = ['A', 'B', 'C', 'D']\n",
    "print(a, b, c, d)"
   ]
  },
  {
   "cell_type": "code",
   "execution_count": 11,
   "id": "73e05f84",
   "metadata": {
    "ExecuteTime": {
     "end_time": "2022-04-25T10:53:30.291854Z",
     "start_time": "2022-04-25T10:53:30.277894Z"
    }
   },
   "outputs": [
    {
     "name": "stdout",
     "output_type": "stream",
     "text": [
      "Le premeier élément de la liste est:  1\n",
      "Le reste des éléments de la liste sont:  [2, 3, 4, 5]\n"
     ]
    }
   ],
   "source": [
    "# Recopier le bout de code ci-dessous puis remplacer \n",
    "#les points d’interrogations par des list slicing \n",
    "# ou des list indexing qui permettent d'obtenir le résultat souhaité.\n",
    "ma_liste = [1, 2, 3, 4, 5]\n",
    "premier, reste = ma_liste[0], ma_liste[1:]\n",
    "print(\"Le premeier élément de la liste est: \", premier)\n",
    "print(\"Le reste des éléments de la liste sont: \", reste)"
   ]
  },
  {
   "cell_type": "code",
   "execution_count": 12,
   "id": "42fbffe8",
   "metadata": {
    "ExecuteTime": {
     "end_time": "2022-04-25T10:53:30.307812Z",
     "start_time": "2022-04-25T10:53:30.295847Z"
    }
   },
   "outputs": [
    {
     "name": "stdout",
     "output_type": "stream",
     "text": [
      "Le premeier élément de la liste est:  1\n",
      "Le reste des éléments de la liste sont:  [2, 3, 4, 5]\n"
     ]
    }
   ],
   "source": [
    "# on peut aussi le resoudre de cette manière\n",
    "# *reste utilise le concepte de star unpacking\n",
    "premier, *reste = ma_liste \n",
    "print(\"Le premeier élément de la liste est: \", premier)\n",
    "print(\"Le reste des éléments de la liste sont: \", reste)"
   ]
  },
  {
   "cell_type": "code",
   "execution_count": 13,
   "id": "f66d7d14",
   "metadata": {
    "ExecuteTime": {
     "end_time": "2022-04-25T10:53:30.323787Z",
     "start_time": "2022-04-25T10:53:30.309808Z"
    }
   },
   "outputs": [
    {
     "name": "stdout",
     "output_type": "stream",
     "text": [
      "Le premeier élément de la liste est:  1\n",
      "L'avant dernier élément de ma liste est:  4\n",
      "Le dernier élément de ma liste est :  5\n",
      "Le reste des éléments sont:  [2, 3, 4]\n"
     ]
    }
   ],
   "source": [
    "# Premier, Avant-Dernier, Dernier (liste slicing et indexing)\n",
    "ma_liste = [1,2,3,4,5]\n",
    "premier, avant_dernier, dernier, reste = ma_liste[0], ma_liste[-2], ma_liste[-1], ma_liste[1:4]\n",
    "print(\"Le premeier élément de la liste est: \", premier)\n",
    "print(\"L'avant dernier élément de ma liste est: \", avant_dernier)\n",
    "print(\"Le dernier élément de ma liste est : \", dernier)\n",
    "print(\"Le reste des éléments sont: \", reste)\n"
   ]
  },
  {
   "cell_type": "code",
   "execution_count": 14,
   "id": "a280d24d",
   "metadata": {
    "ExecuteTime": {
     "end_time": "2022-04-25T10:53:30.355685Z",
     "start_time": "2022-04-25T10:53:30.329756Z"
    }
   },
   "outputs": [
    {
     "name": "stdout",
     "output_type": "stream",
     "text": [
      "Affichage du menu : {'plat_poisson': 100, 'plat_vege': 90, 'plat_burger': 130}\n",
      "Le prix du poisson est : 100\n",
      "Le nouveau prix du burger est de : 150\n",
      "Le menu a été modifié: {'plat_poisson': 100, 'plat_vege': 90, 'plat_burger': 150, 'double_burger': 290}\n",
      "Le burger est supprimé du menu:  {'plat_poisson': 100, 'plat_vege': 90, 'double_burger': 290}\n"
     ]
    }
   ],
   "source": [
    "# Ci dessous un menu (dictionnaire) indiquant les plats (key)\n",
    "#et leur prix en euros (value)\n",
    "menu = {'plat_poisson' :100,\n",
    "       'plat_vege' : 90, \n",
    "       'plat_burger' : 130}\n",
    "print(f'Affichage du menu :', menu)\n",
    "\n",
    "# Affichez la valeur du plat Poisson\n",
    "valeur_poisson = menu['plat_poisson']\n",
    "print(\"Le prix du poisson est :\",  valeur_poisson) \n",
    "\n",
    "# Modifier le prix du burger à 150, puis affichez le menu\n",
    "prix_burger = menu['plat_burger'] = 150\n",
    "print(\"Le nouveau prix du burger est de :\", prix_burger)\n",
    "\n",
    "# Ajouter un nouveau plat, le Double Burger à 290, puis affichez le menu\n",
    "menu['double_burger'] = 290\n",
    "print(\"Le menu a été modifié:\", menu)\n",
    "\n",
    "#Supprimez le plat Burger, puis affichez.\n",
    "menu.pop('plat_burger')  #ou del menu['plat_burger']\n",
    "print(\"Le burger est supprimé du menu: \", menu)"
   ]
  },
  {
   "cell_type": "code",
   "execution_count": 15,
   "id": "f7c42554",
   "metadata": {
    "ExecuteTime": {
     "end_time": "2022-04-25T10:53:30.370455Z",
     "start_time": "2022-04-25T10:53:30.356160Z"
    }
   },
   "outputs": [
    {
     "name": "stdout",
     "output_type": "stream",
     "text": [
      " Le nombre de plat est  3\n",
      "Nous n'avons pas ce {None} ce soir\n",
      "Nous avons du poisson  {True} ce soir\n",
      "{'plat_poisson': 100, 'double_burger': 290}\n"
     ]
    }
   ],
   "source": [
    "# Afficher le nombre de plat dans le menu\n",
    "nombre_plat = len(menu)\n",
    "print(\" Le nombre de plat est \", nombre_plat)\n",
    "\n",
    "#trouver le plat bolognaise dans le menu\n",
    "plat = menu.get('bolognaise')\n",
    "print(\"Nous n'avons pas ce\", {plat}, \"ce soir\")\n",
    "\n",
    "# trouver le plat de poisson \n",
    "plat_poisson = ('plat_poisson' in menu)\n",
    "print(\"Nous avons du poisson \", {plat_poisson}, \"ce soir\")\n",
    "\n",
    "# supprimer le plat végé du menu\n",
    "menu.pop('plat_vege')\n",
    "print(menu)"
   ]
  },
  {
   "cell_type": "code",
   "execution_count": 26,
   "id": "553f45f0",
   "metadata": {
    "ExecuteTime": {
     "end_time": "2022-04-25T11:01:00.086236Z",
     "start_time": "2022-04-25T11:01:00.072311Z"
    }
   },
   "outputs": [
    {
     "name": "stdout",
     "output_type": "stream",
     "text": [
      "Le couple de cléfs valeur est  dict_items([(' plat_poisson', 100), ('plat_vege', 90), ('double_burger', 290)])\n",
      "Le couple de valeur est  dict_values([100, 90, 290])\n",
      "Les clés valeurs sont  dict_keys([' plat_poisson', 'plat_vege', 'double_burger'])\n"
     ]
    }
   ],
   "source": [
    "menus = {' plat_poisson': 100, 'plat_vege': 90, 'double_burger' : 290}\n",
    "# Obtenir la liste des paires clef-valeur\n",
    "couple_cle_valeur = menus.items()\n",
    "print(\"Le couple de cléfs valeur est \", couple_cle_valeur)\n",
    "\n",
    "# La valeur des cléfs\n",
    "couple_valeur = menus.values()\n",
    "print(\"Le couple de valeur est \", couple_valeur)\n",
    "\n",
    "# la cléfs valeur\n",
    "cles_valeur = menus.keys()\n",
    "print(\"Les clés valeurs sont \", cles_valeur)"
   ]
  },
  {
   "cell_type": "code",
   "execution_count": null,
   "id": "1299ebad",
   "metadata": {},
   "outputs": [],
   "source": []
  }
 ],
 "metadata": {
  "kernelspec": {
   "display_name": "Python 3",
   "language": "python",
   "name": "python3"
  },
  "language_info": {
   "codemirror_mode": {
    "name": "ipython",
    "version": 3
   },
   "file_extension": ".py",
   "mimetype": "text/x-python",
   "name": "python",
   "nbconvert_exporter": "python",
   "pygments_lexer": "ipython3",
   "version": "3.8.8"
  },
  "toc": {
   "base_numbering": 1,
   "nav_menu": {},
   "number_sections": true,
   "sideBar": true,
   "skip_h1_title": false,
   "title_cell": "Table of Contents",
   "title_sidebar": "Contents",
   "toc_cell": false,
   "toc_position": {},
   "toc_section_display": true,
   "toc_window_display": false
  }
 },
 "nbformat": 4,
 "nbformat_minor": 5
}
