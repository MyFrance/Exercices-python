{
 "cells": [
  {
   "cell_type": "markdown",
   "id": "146483e5",
   "metadata": {},
   "source": [
    "# Exercice 1 - Une erreur courante à connaître absolument\n",
    "Ce bout de code ne fonctionne pas. C'est une erreur très fréquente qu'il faut absolument savoir repérer.\n",
    "\n",
    "Recopier le code puis exécutez le pour constater où se trouve l'erreur. Puis essayez de déboguer le code pour le faire fonctionner.\n",
    "\n",
    "Posez vous la question suivante sérieusement et prenez le temps d'y répondre. \"À l'avenir comment puis-je faire en sorte de ne pas commettre cette erreur? Comment faire pour la repérer rapidement?\""
   ]
  },
  {
   "cell_type": "code",
   "execution_count": 1,
   "id": "a6d9a489",
   "metadata": {
    "ExecuteTime": {
     "end_time": "2022-04-27T13:39:53.843742Z",
     "start_time": "2022-04-27T13:39:53.823758Z"
    }
   },
   "outputs": [
    {
     "ename": "SyntaxError",
     "evalue": "invalid syntax (<ipython-input-1-cbf4f386bd7e>, line 3)",
     "output_type": "error",
     "traceback": [
      "\u001b[1;36m  File \u001b[1;32m\"<ipython-input-1-cbf4f386bd7e>\"\u001b[1;36m, line \u001b[1;32m3\u001b[0m\n\u001b[1;33m    if prix = monnaie:\u001b[0m\n\u001b[1;37m            ^\u001b[0m\n\u001b[1;31mSyntaxError\u001b[0m\u001b[1;31m:\u001b[0m invalid syntax\n"
     ]
    }
   ],
   "source": [
    "prix = 10\n",
    "monnaie = 10\n",
    "if prix = monnaie:\n",
    "    print(\"Vous avez donné pile le on montant, merci\")\n",
    "\n",
    "    \n",
    "# Voici l'erreur résultant du code:\n",
    "#  File \"<ipython-input-1-cbf4f386bd7e>\", line 3\n",
    "    #if prix = monnaie:\n",
    "            ^\n",
    "#SyntaxError: invalid syntax\n",
    "\n",
    "# on a une erreur de syntaxe."
   ]
  },
  {
   "cell_type": "code",
   "execution_count": 6,
   "id": "3eb95342",
   "metadata": {
    "ExecuteTime": {
     "end_time": "2022-04-27T13:44:21.028728Z",
     "start_time": "2022-04-27T13:44:21.018756Z"
    }
   },
   "outputs": [
    {
     "name": "stdout",
     "output_type": "stream",
     "text": [
      "Vous avez donné pile le bon montant, merci\n"
     ]
    }
   ],
   "source": [
    "#Voici comment on devrait l'écrire  \n",
    "prix = 10\n",
    "monnaie = 10\n",
    "\n",
    "if prix == monnaie: \n",
    "    print(\"Vous avez donné pile le bon montant, merci\")\n",
    "\n",
    "#Ultra-fréquent d'écrire = au lieu d'==. Personnellement, \n",
    "#je lis mes conditions à haute-voix \"if prix égale monnaie deux-points\" \n",
    "#et je sais que je ne dois pas dire \"égale\" qu'une fois. \n",
    "#Une condition correcte se lit \"if prix égale égale monnaie deux-points\"."
   ]
  },
  {
   "cell_type": "markdown",
   "id": "f49bcbb8",
   "metadata": {},
   "source": [
    "# Exercice 2 - Une autre erreur et utilisation du modulo dans les IF\n",
    "Le code ci-dessous va afficher une erreur.\n",
    "\n",
    "Recopier le code puis exécutez le pour constater l'erreur.\n",
    "\n",
    "Corriger cette erreur, puis étudier le bout de code en changeant la variable valeur.\n",
    "\n",
    "Retenez bien ce bout de code pour tester si un nombre est pair ou impair, c'est un bout de code qu'on utilise très souvent."
   ]
  },
  {
   "cell_type": "code",
   "execution_count": 7,
   "id": "fd293645",
   "metadata": {
    "ExecuteTime": {
     "end_time": "2022-04-27T13:49:09.073439Z",
     "start_time": "2022-04-27T13:49:09.064465Z"
    }
   },
   "outputs": [
    {
     "ename": "SyntaxError",
     "evalue": "invalid syntax (<ipython-input-7-85016f4576d1>, line 3)",
     "output_type": "error",
     "traceback": [
      "\u001b[1;36m  File \u001b[1;32m\"<ipython-input-7-85016f4576d1>\"\u001b[1;36m, line \u001b[1;32m3\u001b[0m\n\u001b[1;33m    if valeur % 2 = 0:\u001b[0m\n\u001b[1;37m                  ^\u001b[0m\n\u001b[1;31mSyntaxError\u001b[0m\u001b[1;31m:\u001b[0m invalid syntax\n"
     ]
    }
   ],
   "source": [
    "valeur = 10 \n",
    "\n",
    "if valeur % 2 = 0: \n",
    "    print(f'{valeur} est paire')\n",
    "else:\n",
    "    print(f'{valeur} est impaire)\n",
    "          \n",
    "          \n",
    "# Voici l'erreur résultant du code:          \n",
    "#File \"<ipython-input-7-85016f4576d1>\", line 3\n",
    "  #   if valeur % 2 = 0:\n",
    "        #          ^\n",
    "#SyntaxError: invalid syntax\n"
   ]
  },
  {
   "cell_type": "code",
   "execution_count": 10,
   "id": "5538d496",
   "metadata": {
    "ExecuteTime": {
     "end_time": "2022-04-27T13:52:35.279346Z",
     "start_time": "2022-04-27T13:52:35.267376Z"
    }
   },
   "outputs": [
    {
     "name": "stdout",
     "output_type": "stream",
     "text": [
      "10 est paire\n"
     ]
    }
   ],
   "source": [
    "# Voici comment on devrait l'écrire \n",
    "\n",
    "valeur = 10\n",
    "\n",
    "if valeur % 2 ==0:\n",
    "    print(f'{valeur} est paire')\n",
    "else:\n",
    "    print(f'{valeur} est impaire')"
   ]
  },
  {
   "cell_type": "code",
   "execution_count": 11,
   "id": "150150b1",
   "metadata": {
    "ExecuteTime": {
     "end_time": "2022-04-27T13:54:38.788111Z",
     "start_time": "2022-04-27T13:54:38.777141Z"
    }
   },
   "outputs": [
    {
     "name": "stdout",
     "output_type": "stream",
     "text": [
      "5 est impaire\n"
     ]
    }
   ],
   "source": [
    "# On va tester avec d'autres valeurs\n",
    "valeur = 5\n",
    "\n",
    "if valeur % 2 ==0:\n",
    "    print(f'{valeur} est paire')\n",
    "else:\n",
    "    print(f'{valeur} est impaire')"
   ]
  },
  {
   "cell_type": "code",
   "execution_count": 12,
   "id": "54439721",
   "metadata": {
    "ExecuteTime": {
     "end_time": "2022-04-27T13:56:22.449358Z",
     "start_time": "2022-04-27T13:56:22.441378Z"
    }
   },
   "outputs": [
    {
     "name": "stdout",
     "output_type": "stream",
     "text": [
      "-7 est impaire\n"
     ]
    }
   ],
   "source": [
    " valeur = -7\n",
    "    \n",
    "if valeur % 2 ==0:\n",
    "    print(f'{valeur} est paire')\n",
    "else:\n",
    "    print(f'{valeur} est impaire')"
   ]
  },
  {
   "cell_type": "markdown",
   "id": "641894c0",
   "metadata": {},
   "source": [
    "# Exercice 3 - Structures conditionnelles et listes \n",
    "Que va afficher le code ci-dessous? Mentalement, remplacer la valeur de liste par l'une des valeurs suggérées. Que devrait afficher le code dans ce cas?\n",
    "\n",
    "Recopier le code puis exécuter le pour vérifier votre réponse.\n",
    "\n",
    "Ensuite, prenez le temps d'étudier le fonctionnement de ce bout de code en remplaçant le contenu de la variable liste par les valeurs suggérées en commentaire.\n",
    "\n",
    "Ce bout de code est à garder sous la main également, il montre comment tester si une liste est vide, ou si une liste est non-vide. C'est probablement quelque chose que vous allez rencontrer quotidiennement dans votre carrière."
   ]
  },
  {
   "cell_type": "code",
   "execution_count": 15,
   "id": "e2a99de6",
   "metadata": {
    "ExecuteTime": {
     "end_time": "2022-04-27T14:03:33.868145Z",
     "start_time": "2022-04-27T14:03:33.859166Z"
    }
   },
   "outputs": [],
   "source": [
    "liste = []\n",
    "if liste: \n",
    "    print('liste non vide', liste)\n",
    "elif not liste: \n",
    "    print('liste vide', liste)"
   ]
  },
  {
   "cell_type": "code",
   "execution_count": 16,
   "id": "f1eed4be",
   "metadata": {
    "ExecuteTime": {
     "end_time": "2022-04-27T14:05:08.239154Z",
     "start_time": "2022-04-27T14:05:08.226191Z"
    }
   },
   "outputs": [
    {
     "name": "stdout",
     "output_type": "stream",
     "text": [
      "liste non vide [1]\n"
     ]
    }
   ],
   "source": [
    "liste = [1]\n",
    "\n",
    "if liste : \n",
    "    print('liste non vide', liste)\n",
    "elif not liste: \n",
    "    print('liste vide', liste)"
   ]
  },
  {
   "cell_type": "code",
   "execution_count": 17,
   "id": "655ca2f6",
   "metadata": {
    "ExecuteTime": {
     "end_time": "2022-04-27T14:06:10.936227Z",
     "start_time": "2022-04-27T14:06:10.928209Z"
    }
   },
   "outputs": [
    {
     "name": "stdout",
     "output_type": "stream",
     "text": [
      "liste non vide [1, 2]\n"
     ]
    }
   ],
   "source": [
    "liste = [1, 2]\n",
    "\n",
    "if liste : \n",
    "    print('liste non vide', liste)\n",
    "    \n",
    "elif not liste:\n",
    "    print('liste vide' , liste )"
   ]
  },
  {
   "cell_type": "markdown",
   "id": "64b07b5a",
   "metadata": {},
   "source": [
    "# Exercice 4 - Chaînes de caractères et IF\n",
    "Ce bout de code montre comment tester si une chaîne de caractère est vide ou non. \n",
    "\n",
    "Que va afficher le code ci-dessous? Mentalement, remplacer la valeur de liste par l'une des valeurs suggérées. Que devrait afficher le code dans ce cas?\n",
    "\n",
    "Recopier le code puis exécuter le pour vérifier votre réponse.\n",
    "\n",
    "Par un raisonnement similaire que dans l'exercice précédent, prenez le temps de modifier le contenu de la variable texte pour étudier comment le code se comporte."
   ]
  },
  {
   "cell_type": "code",
   "execution_count": 18,
   "id": "7e8c3d9c",
   "metadata": {
    "ExecuteTime": {
     "end_time": "2022-04-27T14:15:23.871587Z",
     "start_time": "2022-04-27T14:15:23.866601Z"
    }
   },
   "outputs": [
    {
     "name": "stdout",
     "output_type": "stream",
     "text": [
      "texte vide  !\n"
     ]
    }
   ],
   "source": [
    "texte = \"\"\n",
    "\n",
    "if texte: \n",
    "    print(\"texte non vide\", texte, '!')\n",
    "elif not texte:\n",
    "    print('texte vide', texte, '!')"
   ]
  },
  {
   "cell_type": "code",
   "execution_count": 20,
   "id": "5fefac94",
   "metadata": {
    "ExecuteTime": {
     "end_time": "2022-04-27T14:18:50.409475Z",
     "start_time": "2022-04-27T14:18:50.396511Z"
    }
   },
   "outputs": [
    {
     "name": "stdout",
     "output_type": "stream",
     "text": [
      "texte non vide            !\n"
     ]
    }
   ],
   "source": [
    "texte = \"          \"\n",
    "if texte : \n",
    "    print(\"texte non vide\", texte, '!')\n",
    "elif not texte:\n",
    "    print('texte vide', texte, '!')\n",
    "    \n",
    "# Ici on peut observer l'impact des espaces dans le code en utilisant le if\n",
    "# lorsqu'on a des espaces, cela suggère que la liste n'est pas vide"
   ]
  },
  {
   "cell_type": "code",
   "execution_count": 21,
   "id": "cf0bc800",
   "metadata": {
    "ExecuteTime": {
     "end_time": "2022-04-27T14:20:29.981072Z",
     "start_time": "2022-04-27T14:20:29.971139Z"
    }
   },
   "outputs": [
    {
     "name": "stdout",
     "output_type": "stream",
     "text": [
      "texte non vide bravo !\n"
     ]
    }
   ],
   "source": [
    "texte = 'bravo'\n",
    "\n",
    "if texte: \n",
    "    print('texte non vide', texte, '!')\n",
    "elif not texte: \n",
    "    print('texte vide', texte, '!')"
   ]
  },
  {
   "cell_type": "markdown",
   "id": "70b502d0",
   "metadata": {},
   "source": [
    "# Exercice 5 - Contourner les KeyError avec les dictionnaires et les if\n",
    "Que va afficher le code ci-dessous? \n",
    "\n",
    "Essayer les valeurs \"Patates\", Poisson\", \"Végé\", \"Citrouille\", \"Pizza\".\n",
    "Que constatez vous? Prenez votre temps pour déconstruire cette exemple. étudier \n",
    "\n",
    "Ensuite modifier la valeur renvoyée par défaut \"N'existe pas\" par -1 et faites les modification nécessaire pour faire marcher le code.\n",
    "\n",
    "N'hésitez pas à vous appuyer sur les informations renvoyée par la ligne de debug pour vérifier que votre script se comporte comme vous le désirez."
   ]
  },
  {
   "cell_type": "code",
   "execution_count": 2,
   "id": "d47ccde4",
   "metadata": {
    "ExecuteTime": {
     "end_time": "2022-04-27T20:00:33.844444Z",
     "start_time": "2022-04-27T20:00:33.830455Z"
    }
   },
   "outputs": [
    {
     "name": "stdout",
     "output_type": "stream",
     "text": [
      "pour débug citrouille -1 \n",
      "\n",
      "patates n'existe pas \n",
      "\n",
      "Poisson n'existe pas  \n",
      "\n",
      "Pizza n'existe pas\n"
     ]
    }
   ],
   "source": [
    "menu = { 'poisson' : 100,\n",
    "            'vege' :  56,\n",
    "            'pizza':  80, \n",
    "           'salade':  56 }\n",
    "\n",
    "choix = \"citrouille\"\n",
    "\n",
    "# Variable à remplacer : \"Patates\", Poisson\", \"Végé\", \"Citrouille\", \"Pizza\"\n",
    "\n",
    "prix = menu.get(choix, -1)\n",
    "\n",
    "# Cette ligne vous sert à observer les valeurs importantes, on appelle ça débugger.\n",
    "\n",
    "print(\"pour débug\",choix,  prix, '\\n')\n",
    "\n",
    "# on remplace citrouille par Patates\n",
    "choix = \"patates\"\n",
    "prix = menu.get(choix, \"n'existe pas\")\n",
    "print(choix, prix, '\\n')\n",
    "\n",
    "# on remplace choix par poisson\n",
    "\n",
    "choix = 'Poisson'\n",
    "\n",
    "prix = menu.get(choix, \"n'existe pas \")\n",
    "print(choix, prix, '\\n')\n",
    "\n",
    "choix = 'Pizza'\n",
    "prix = menu.get(choix, \"n'existe pas\")\n",
    "print(choix, prix)"
   ]
  },
  {
   "cell_type": "code",
   "execution_count": 28,
   "id": "a9c6df69",
   "metadata": {
    "ExecuteTime": {
     "end_time": "2022-04-27T20:21:50.918240Z",
     "start_time": "2022-04-27T20:21:50.894210Z"
    }
   },
   "outputs": [
    {
     "name": "stdout",
     "output_type": "stream",
     "text": [
      "Vous avez choisi le poisson, excellent. Cela vous coutera 100 euros svp\n"
     ]
    }
   ],
   "source": [
    "# On va résoudre cette exercice en utilisant le if\n",
    "menu = {'poisson' : 100,\n",
    "            'vege' :  56,\n",
    "            'pizza':  80, \n",
    "           'salade':  56 }\n",
    "\n",
    "# Ici on choisit le poisson en prmier et la valeur n'existe pas on la met à -1\n",
    "choix = 'poisson'\n",
    "prix = menu.get(choix, -1 )\n",
    "\n",
    "if prix!= -1:\n",
    "    print(f'Vous avez choisi le {choix}, excellent. Cela vous coutera {prix} euros svp')\n",
    "else:\n",
    "    print(f'Le plat que vous avez choisi {choix}, n\\'est malheureusement pas au menu ce soir')\n",
    "    print(f'Choisissez autre chose s\\'il vous plait')"
   ]
  },
  {
   "cell_type": "code",
   "execution_count": 29,
   "id": "f1f55e14",
   "metadata": {
    "ExecuteTime": {
     "end_time": "2022-04-27T20:25:21.598110Z",
     "start_time": "2022-04-27T20:25:21.581156Z"
    }
   },
   "outputs": [
    {
     "name": "stdout",
     "output_type": "stream",
     "text": [
      "Le plat que vous avez choisi citrouille, n'est malheureusement pas au menu ce soir\n",
      "Choisissez autre chose s'il vous plait\n"
     ]
    }
   ],
   "source": [
    "# On choisit citrouille\n",
    "menu = {'poisson' : 100,\n",
    "            'vege' :  56,\n",
    "            'pizza':  80, \n",
    "           'salade':  56 }\n",
    "choix = 'citrouille'\n",
    "prix  = menu.get(choix, -1)\n",
    "\n",
    "if prix != -1: \n",
    "    print(f'Vous avez choisi le {choix}, excellent. Cela vous coutera {prix} euros svp')\n",
    "else: \n",
    "    print(f'Le plat que vous avez choisi {choix}, n\\'est malheureusement pas au menu ce soir')\n",
    "    print(f'Choisissez autre chose s\\'il vous plait')"
   ]
  },
  {
   "cell_type": "code",
   "execution_count": 1,
   "id": "1493630f",
   "metadata": {
    "ExecuteTime": {
     "end_time": "2022-04-28T08:28:58.367951Z",
     "start_time": "2022-04-28T08:28:58.350002Z"
    }
   },
   "outputs": [
    {
     "name": "stdout",
     "output_type": "stream",
     "text": [
      "Vous avez choisi le salade, excellent. Cela vous coûtera 56 euros svp\n"
     ]
    }
   ],
   "source": [
    "# On choisit salade\n",
    "menu = {'poisson' : 100,\n",
    "            'vege': 56,\n",
    "          'pizza' : 80,\n",
    "         'salade' : 56}\n",
    "\n",
    "choix = 'salade'\n",
    "prix = menu.get(choix, -1)\n",
    "\n",
    "if prix != -1:\n",
    "    print(f'Vous avez choisi la {choix}, excellent. Cela vous coûtera {prix} euros svp')\n",
    "else: \n",
    "    print(f'Le plat que vous avez choisi{choix}, n\\'est pas disponible ce soir ')\n",
    "    print(f'Choississez autre chose')"
   ]
  },
  {
   "cell_type": "markdown",
   "id": "18f4a838",
   "metadata": {},
   "source": [
    "# Exercice 6 - Bien utilisez les if-elif-else.\n",
    "Que va afficher le code ci-dessous? \n",
    "\n",
    "Recopier le code puis exécuter le en testant chacune des valeurs suggérées en commentaire.\n",
    "\n",
    "Que constatez vous? (Indice, vous devez constater que le code ne se comporte pas comme on souhaiterait qu'il se comporte)\n",
    "\n",
    "Corrigez le code pour que le code se comporte d'une façon sensée. (Il y a plusieurs manières de procéder, s'il vous plaît utiliser la manière utilisant des elif.)\n",
    "\n",
    "Pour finir, rajoutez une close else affichant \"Le secret de la longévité. 5 fruits et légumes par jour.\""
   ]
  },
  {
   "cell_type": "code",
   "execution_count": null,
   "id": "63940e28",
   "metadata": {},
   "outputs": [],
   "source": [
    "age =  0  # Variable à remplacer. Tester les valeurs -5, 5, 6, 17, 18, 29, 30, 99, 100, 199, 200\n",
    "if age < 6:\n",
    "    print(\"Vous avez moins de cinq ans\")\n",
    "if age < 18:\n",
    "    print(\"Vous êtes ado\")\n",
    "if age < 30:\n",
    "    print(\"Vous êtes jeune adulte\")\n",
    "if age < 100:\n",
    "    print(\"Vous êtes adulte\")\n",
    "if age < 200:\n",
    "    print(\"Vous êtes centenaire\")\n",
    "#  et rajoutez une close else disant 'Le secret de la longévité. 5 fruits et légumes par jour.'\n"
   ]
  },
  {
   "cell_type": "code",
   "execution_count": 29,
   "id": "3a29b9ec",
   "metadata": {
    "ExecuteTime": {
     "end_time": "2022-04-28T08:58:30.269669Z",
     "start_time": "2022-04-28T08:58:25.156551Z"
    }
   },
   "outputs": [
    {
     "name": "stdout",
     "output_type": "stream",
     "text": [
      "Votre âge est 100\n",
      "vous êtes centenaire\n"
     ]
    }
   ],
   "source": [
    "#On va donc réécrire ce bout de code\n",
    "#Tester les valeurs -5, 5 , 6, 17, 18, 29, 30, 99, 100, 199, 200\n",
    "\n",
    "age = int(input( \"Votre âge est \"))\n",
    "if age < 6: \n",
    "    print(\"Vous avez moins de 5 ans\")\n",
    "elif age < 18:\n",
    "     print(\"Vous êtes ado\")\n",
    "elif age < 30:\n",
    "    print(\"vous êtes une jeune adulte\")\n",
    "elif age < 100:\n",
    "    print(\"Vous êtes adulte\")\n",
    "elif age < 200: \n",
    "    print( \"vous êtes centenaire\")\n",
    "else: \n",
    "    print(\"Le secret de la longévité. 5 fuits et légumes par jour.\")"
   ]
  },
  {
   "cell_type": "markdown",
   "id": "3adc19de",
   "metadata": {},
   "source": [
    "# Exercice 7 - Attention à la casse, utilisez la méthode lower() pour comparer des strings entre elles.\n",
    "Selon un cahier des charges fictif, le code ci-dessous devrait afficher l'aide si l'utilisateur envoit comme message \"Aide\", peu importe les majuscules ou les minuscules.\n",
    "\n",
    "Recopier le code puis exécuter le pour constater son comportement.\n",
    "\n",
    "Puis corriger le bout de code ci-dessous pour qu'il fonctionne comme attendu."
   ]
  },
  {
   "cell_type": "code",
   "execution_count": 31,
   "id": "ed802fb3",
   "metadata": {
    "ExecuteTime": {
     "end_time": "2022-04-28T09:02:54.018768Z",
     "start_time": "2022-04-28T09:02:54.003807Z"
    }
   },
   "outputs": [
    {
     "name": "stdout",
     "output_type": "stream",
     "text": [
      "On passe à la suite\n"
     ]
    }
   ],
   "source": [
    "message_utilisateur = 'AIDE'\n",
    "\n",
    "if message_utilisateur == 'aide':\n",
    "    print(\"Afficher l'aide.\")\n",
    "else:\n",
    "    print(\"On passe à la suite\")"
   ]
  },
  {
   "cell_type": "code",
   "execution_count": 35,
   "id": "204763ba",
   "metadata": {
    "ExecuteTime": {
     "end_time": "2022-04-28T09:07:39.992590Z",
     "start_time": "2022-04-28T09:07:39.986637Z"
    }
   },
   "outputs": [
    {
     "name": "stdout",
     "output_type": "stream",
     "text": [
      "Afficher l'aide\n"
     ]
    }
   ],
   "source": [
    "#Pour commparer cela on va écrire \n",
    "message_utilisateur = 'AIDE'\n",
    "\n",
    "if message_utilisateur.lower() == 'aide':\n",
    "    print(\"Afficher l'aide\")\n",
    "else:\n",
    "    print(\"On passe à la suite\")"
   ]
  },
  {
   "cell_type": "markdown",
   "id": "cf35f9b9",
   "metadata": {},
   "source": [
    "# Exercice 8 - Se repérer dans une structure if-elif-else complexe\n",
    "Recopier le code ci-dessous puis exécuter le.\n",
    "\n",
    "Puis modifier la variable note_au_bac en lui faisant prendre successivement les valeurs suggérées en commentaire. \n",
    "\n",
    "Après chaque modification essayer de visualiser mentalement \"le chemin\" que va emprunter la variable note_au_bac dans la structure if-elif-else.\n",
    "\n",
    "À chaque fois, appuyez vous sur l'affichage de debug pour vérifier si votre raisonnement est correct.\n",
    "\n"
   ]
  },
  {
   "cell_type": "code",
   "execution_count": 42,
   "id": "8732abba",
   "metadata": {
    "ExecuteTime": {
     "end_time": "2022-04-28T09:25:22.729798Z",
     "start_time": "2022-04-28T09:25:13.984179Z"
    }
   },
   "outputs": [
    {
     "name": "stdout",
     "output_type": "stream",
     "text": [
      "votre note au bac est de 16.99\n",
      "Pour débug 16.99 \n",
      "\n",
      "Félications vous avez le bac avec mention Très Bien\n"
     ]
    }
   ],
   "source": [
    "# Valeurs à remplacer 7.99, 8.5, 10.0, 12.5, 14.5, 16.99, 999\n",
    "\n",
    "note_au_bac = float(input(\"votre note au bac est de \"))\n",
    "\n",
    "print('Pour débug', note_au_bac, '\\n')\n",
    "\n",
    "message = ''\n",
    "\n",
    "if note_au_bac >= 10:\n",
    "    message += \"Félications vous avez le bac\"\n",
    "    \n",
    "    if 12 <= note_au_bac < 14:\n",
    "        message += \"avec mention Assez Bien\"\n",
    "        \n",
    "    elif 14 <= note_au_bac < 16:\n",
    "        message += \"Avec mention Bien\"\n",
    "    \n",
    "    elif 16 <= note_au_bac:\n",
    "        message += \" avec mention Très Bien\"\n",
    "    else: \n",
    "        message += \"sans mention\"\n",
    "        \n",
    "else:\n",
    "    if note_au_bac > 8:\n",
    "        message += \"désolé vous devez aller au rattrapage\"\n",
    "    \n",
    "    else: \n",
    "        message += \"vous pouvez réessayer l'année prochaine\"\n",
    "        \n",
    "print(message)\n",
    "    \n",
    "        \n",
    "    "
   ]
  },
  {
   "cell_type": "code",
   "execution_count": null,
   "id": "414f082c",
   "metadata": {},
   "outputs": [],
   "source": []
  },
  {
   "cell_type": "code",
   "execution_count": null,
   "id": "5ae33fd5",
   "metadata": {},
   "outputs": [],
   "source": []
  },
  {
   "cell_type": "code",
   "execution_count": null,
   "id": "09037433",
   "metadata": {},
   "outputs": [],
   "source": []
  },
  {
   "cell_type": "code",
   "execution_count": null,
   "id": "1a922e38",
   "metadata": {},
   "outputs": [],
   "source": []
  },
  {
   "cell_type": "code",
   "execution_count": null,
   "id": "31b104ec",
   "metadata": {},
   "outputs": [],
   "source": []
  },
  {
   "cell_type": "code",
   "execution_count": null,
   "id": "8efa9072",
   "metadata": {},
   "outputs": [],
   "source": [
    "note_au_bac = 10.0 # Valeur à remplacer 7.99, 8.5, 10.0, 12.5, 14.5, 16.99, 999\n",
    "print('Pour débug', note_au_bac, '\\n')\n",
    "\n",
    "message = ''\n",
    "\n",
    "if note_au_bac >= 10:\n",
    "    message += 'Félicitations. Vous avez le bac '\n",
    "    if 12 <= note_au_bac < 14:\n",
    "        message += 'avec mention \"Assez Bien\"'\n",
    "    elif 14 <= note_au_bac < 16:\n",
    "        message += 'avec mention \"Bien\"'\n",
    "    elif 16 <= note_au_bac:\n",
    "        message += 'avec mention \"Très Bien\"'\n",
    "    else:\n",
    "\n",
    "        message += 'sans mention.'\n",
    "else:\n",
    "    if note_au_bac > 8:\n",
    "        message += 'Désolé, vous devez aller au rattrapage.'\n",
    "    else:\n",
    "        message += 'Désolé, vous pouvez réessayer l\\'année prochaine.'\n",
    "\n",
    "print(message)"
   ]
  }
 ],
 "metadata": {
  "kernelspec": {
   "display_name": "Python 3",
   "language": "python",
   "name": "python3"
  },
  "language_info": {
   "codemirror_mode": {
    "name": "ipython",
    "version": 3
   },
   "file_extension": ".py",
   "mimetype": "text/x-python",
   "name": "python",
   "nbconvert_exporter": "python",
   "pygments_lexer": "ipython3",
   "version": "3.8.8"
  },
  "toc": {
   "base_numbering": 1,
   "nav_menu": {},
   "number_sections": true,
   "sideBar": true,
   "skip_h1_title": false,
   "title_cell": "Table of Contents",
   "title_sidebar": "Contents",
   "toc_cell": false,
   "toc_position": {},
   "toc_section_display": true,
   "toc_window_display": false
  }
 },
 "nbformat": 4,
 "nbformat_minor": 5
}
