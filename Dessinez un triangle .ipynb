{
 "cells": [
  {
   "cell_type": "raw",
   "id": "62a99ba7",
   "metadata": {},
   "source": [
    "Ecrire un programme permettant de prendre un nombre L de lignes puis de réaliser un \"triangle d'étoile\"\n",
    "Triangle rectangle"
   ]
  },
  {
   "cell_type": "code",
   "execution_count": 1,
   "id": "ba9671eb",
   "metadata": {
    "ExecuteTime": {
     "end_time": "2022-05-06T12:13:48.557990Z",
     "start_time": "2022-05-06T12:13:45.751709Z"
    }
   },
   "outputs": [
    {
     "name": "stdout",
     "output_type": "stream",
     "text": [
      "Entrer un nombre 15\n",
      " *  \n",
      " *   *  \n",
      " *   *   *  \n",
      " *   *   *   *  \n",
      " *   *   *   *   *  \n",
      " *   *   *   *   *   *  \n",
      " *   *   *   *   *   *   *  \n",
      " *   *   *   *   *   *   *   *  \n",
      " *   *   *   *   *   *   *   *   *  \n",
      " *   *   *   *   *   *   *   *   *   *  \n",
      " *   *   *   *   *   *   *   *   *   *   *  \n",
      " *   *   *   *   *   *   *   *   *   *   *   *  \n",
      " *   *   *   *   *   *   *   *   *   *   *   *   *  \n",
      " *   *   *   *   *   *   *   *   *   *   *   *   *   *  \n",
      " *   *   *   *   *   *   *   *   *   *   *   *   *   *   *  \n"
     ]
    }
   ],
   "source": [
    "L = int(input(\"Entrer un nombre \"))\n",
    "\n",
    "for i in range(1, L + 1):\n",
    "    for j in range(i):\n",
    "        print(\" * \", end = ' ')\n",
    "    print()\n",
    "    "
   ]
  },
  {
   "cell_type": "raw",
   "id": "65c97ff2",
   "metadata": {},
   "source": [
    "Ecrire un programme permettant de prendre un nombre L de lignes puis de réaliser un \"triangle d'étoile\"\n",
    "Triangle quelconque"
   ]
  },
  {
   "cell_type": "code",
   "execution_count": 20,
   "id": "e265263d",
   "metadata": {
    "ExecuteTime": {
     "end_time": "2022-05-06T12:37:47.522053Z",
     "start_time": "2022-05-06T12:37:43.610824Z"
    }
   },
   "outputs": [
    {
     "name": "stdout",
     "output_type": "stream",
     "text": [
      "Rentrer une valeur 25\n",
      "                                                  *  \n",
      "                                                *  *  \n",
      "                                              *  *  *  \n",
      "                                            *  *  *  *  \n",
      "                                          *  *  *  *  *  \n",
      "                                        *  *  *  *  *  *  \n",
      "                                      *  *  *  *  *  *  *  \n",
      "                                    *  *  *  *  *  *  *  *  \n",
      "                                  *  *  *  *  *  *  *  *  *  \n",
      "                                *  *  *  *  *  *  *  *  *  *  \n",
      "                              *  *  *  *  *  *  *  *  *  *  *  \n",
      "                            *  *  *  *  *  *  *  *  *  *  *  *  \n",
      "                          *  *  *  *  *  *  *  *  *  *  *  *  *  \n",
      "                        *  *  *  *  *  *  *  *  *  *  *  *  *  *  \n",
      "                      *  *  *  *  *  *  *  *  *  *  *  *  *  *  *  \n",
      "                    *  *  *  *  *  *  *  *  *  *  *  *  *  *  *  *  \n",
      "                  *  *  *  *  *  *  *  *  *  *  *  *  *  *  *  *  *  \n",
      "                *  *  *  *  *  *  *  *  *  *  *  *  *  *  *  *  *  *  \n",
      "              *  *  *  *  *  *  *  *  *  *  *  *  *  *  *  *  *  *  *  \n",
      "            *  *  *  *  *  *  *  *  *  *  *  *  *  *  *  *  *  *  *  *  \n",
      "          *  *  *  *  *  *  *  *  *  *  *  *  *  *  *  *  *  *  *  *  *  \n",
      "        *  *  *  *  *  *  *  *  *  *  *  *  *  *  *  *  *  *  *  *  *  *  \n",
      "      *  *  *  *  *  *  *  *  *  *  *  *  *  *  *  *  *  *  *  *  *  *  *  \n",
      "    *  *  *  *  *  *  *  *  *  *  *  *  *  *  *  *  *  *  *  *  *  *  *  *  \n",
      "  *  *  *  *  *  *  *  *  *  *  *  *  *  *  *  *  *  *  *  *  *  *  *  *  *  \n"
     ]
    }
   ],
   "source": [
    "L = int(input(\"Rentrer une valeur \"))\n",
    "\n",
    "for i in range(1, L + 1):\n",
    "    for j in range(L - i + 1):\n",
    "        print(' ', end = ' ')\n",
    "    for j in range(1, i + 1):\n",
    "        print('* ', end = ' ')\n",
    "    print()"
   ]
  },
  {
   "cell_type": "raw",
   "id": "9fdafc2d",
   "metadata": {},
   "source": [
    "Ecrire un programme permettant de prendre un nombre L de lignes et un nombre c de colonne puis de réaliser un cardre d'étoile\n",
    "de L lignes et Colonne"
   ]
  },
  {
   "cell_type": "code",
   "execution_count": 39,
   "id": "ee08c42d",
   "metadata": {
    "ExecuteTime": {
     "end_time": "2022-05-06T13:26:37.841192Z",
     "start_time": "2022-05-06T13:26:32.373727Z"
    }
   },
   "outputs": [
    {
     "name": "stdout",
     "output_type": "stream",
     "text": [
      "\n",
      "Rentrer la longeur 15\n",
      "\n",
      "rentrer la largeur\n",
      " 5\n",
      "* * * * * * * * * * * * * * * \n",
      "*                           * \n",
      "*                           * \n",
      "*                           * \n",
      "* * * * * * * * * * * * * * * \n"
     ]
    }
   ],
   "source": [
    "C = int(input(\"\\nRentrer la longeur \"))\n",
    "L = int(input(\"\\nrentrer la largeur\\n \"))\n",
    "\n",
    "for i in range(1, L +1):\n",
    "    for j in range(1, C + 1):\n",
    "        if i ==1 or i == L or j ==1 or j==C:\n",
    "            print('*', end = ' ')\n",
    "        else:\n",
    "            \n",
    "            print(' ', end = ' ')\n",
    "    print()\n",
    "  "
   ]
  },
  {
   "cell_type": "raw",
   "id": "4de925d4",
   "metadata": {},
   "source": [
    "Ecrire un programme permettant à l'utilisateur d'entrer la longueur d'un côté L (impaire) d'un carré puis le programme dessine la forme suivante: \n",
    "https://www.youtube.com/watch?v=3BlBA3yhk9A&list=PLZpzLuUp9qXyo-9QC34eJH0zCCYe_IogU&index=50"
   ]
  },
  {
   "cell_type": "code",
   "execution_count": 84,
   "id": "45cd2e90",
   "metadata": {
    "ExecuteTime": {
     "end_time": "2022-05-06T14:50:00.651203Z",
     "start_time": "2022-05-06T14:49:58.483021Z"
    }
   },
   "outputs": [
    {
     "name": "stdout",
     "output_type": "stream",
     "text": [
      "\n",
      "Entrer un nombre impaire \n",
      "\n",
      "9\n",
      "*  *  *  *  *  *  *  *  *  \n",
      "*  *                 *  *  \n",
      "*     *           *     *  \n",
      "*        *     *        *  \n",
      "*           *           *  \n",
      "*        *     *        *  \n",
      "*     *           *     *  \n",
      "*  *                 *  *  \n",
      "*  *  *  *  *  *  *  *  *  \n"
     ]
    }
   ],
   "source": [
    "L = int(input('\\nEntrer un nombre impaire \\n\\n'))\n",
    "\n",
    "for i in range(1, L+1):\n",
    "    for j in range(1, L+1):\n",
    "        if i ==1 or i==L or j==1 or j==L or i==j or j ==L-i+1:\n",
    "            print('* ', end=' ')\n",
    "        else: \n",
    "            print('   ', end = '')\n",
    "    print()\n",
    "        \n",
    "        "
   ]
  },
  {
   "cell_type": "raw",
   "id": "7f085c81",
   "metadata": {},
   "source": [
    "Dessinez un losange "
   ]
  },
  {
   "cell_type": "code",
   "execution_count": 91,
   "id": "ae79a548",
   "metadata": {
    "ExecuteTime": {
     "end_time": "2022-05-06T15:12:39.314066Z",
     "start_time": "2022-05-06T15:12:37.437834Z"
    }
   },
   "outputs": [
    {
     "name": "stdout",
     "output_type": "stream",
     "text": [
      "entrez une valeur 15\n",
      "                                          ***************\n",
      "                                       ***************\n",
      "                                    ***************\n",
      "                                 ***************\n",
      "                              ***************\n",
      "                           ***************\n",
      "                        ***************\n",
      "                     ***************\n",
      "                  ***************\n",
      "               ***************\n",
      "            ***************\n",
      "         ***************\n",
      "      ***************\n",
      "   ***************\n",
      "***************\n"
     ]
    }
   ],
   "source": [
    "L = int(input(\"entrez une valeur \"))\n",
    "\n",
    "for i in range(1, L+1):\n",
    "    for j in range(1, L-i + 1):\n",
    "        print('   ', end = '')\n",
    "    for j in range (1, L+1): \n",
    "        print('*', end= '')\n",
    "    print()\n",
    "        "
   ]
  },
  {
   "cell_type": "code",
   "execution_count": null,
   "id": "a8b9520a",
   "metadata": {},
   "outputs": [],
   "source": []
  },
  {
   "cell_type": "code",
   "execution_count": null,
   "id": "ad0b399a",
   "metadata": {},
   "outputs": [],
   "source": []
  },
  {
   "cell_type": "code",
   "execution_count": null,
   "id": "fd21d8dc",
   "metadata": {},
   "outputs": [],
   "source": []
  },
  {
   "cell_type": "code",
   "execution_count": null,
   "id": "a2ce4768",
   "metadata": {},
   "outputs": [],
   "source": []
  },
  {
   "cell_type": "code",
   "execution_count": null,
   "id": "3348ca80",
   "metadata": {},
   "outputs": [],
   "source": []
  },
  {
   "cell_type": "code",
   "execution_count": null,
   "id": "8b3f7102",
   "metadata": {},
   "outputs": [],
   "source": []
  },
  {
   "cell_type": "code",
   "execution_count": null,
   "id": "1dfb41bb",
   "metadata": {},
   "outputs": [],
   "source": []
  },
  {
   "cell_type": "code",
   "execution_count": null,
   "id": "ce8a2304",
   "metadata": {},
   "outputs": [],
   "source": []
  },
  {
   "cell_type": "code",
   "execution_count": null,
   "id": "d2469810",
   "metadata": {},
   "outputs": [],
   "source": []
  },
  {
   "cell_type": "code",
   "execution_count": null,
   "id": "a73ec6da",
   "metadata": {},
   "outputs": [],
   "source": []
  },
  {
   "cell_type": "code",
   "execution_count": null,
   "id": "fa03c8ce",
   "metadata": {},
   "outputs": [],
   "source": []
  },
  {
   "cell_type": "code",
   "execution_count": null,
   "id": "4fd55b27",
   "metadata": {},
   "outputs": [],
   "source": []
  },
  {
   "cell_type": "code",
   "execution_count": null,
   "id": "b5f875ca",
   "metadata": {},
   "outputs": [],
   "source": []
  },
  {
   "cell_type": "code",
   "execution_count": null,
   "id": "f6de4e3e",
   "metadata": {},
   "outputs": [],
   "source": []
  },
  {
   "cell_type": "code",
   "execution_count": null,
   "id": "b40012eb",
   "metadata": {},
   "outputs": [],
   "source": []
  },
  {
   "cell_type": "code",
   "execution_count": null,
   "id": "dc4a4e3a",
   "metadata": {},
   "outputs": [],
   "source": []
  },
  {
   "cell_type": "code",
   "execution_count": null,
   "id": "94464956",
   "metadata": {},
   "outputs": [],
   "source": []
  },
  {
   "cell_type": "code",
   "execution_count": null,
   "id": "dc6bfc75",
   "metadata": {},
   "outputs": [],
   "source": []
  },
  {
   "cell_type": "code",
   "execution_count": null,
   "id": "673f5c45",
   "metadata": {},
   "outputs": [],
   "source": []
  },
  {
   "cell_type": "code",
   "execution_count": null,
   "id": "c1c5d8b5",
   "metadata": {},
   "outputs": [],
   "source": []
  },
  {
   "cell_type": "code",
   "execution_count": null,
   "id": "43cfd463",
   "metadata": {},
   "outputs": [],
   "source": []
  },
  {
   "cell_type": "code",
   "execution_count": null,
   "id": "22e25078",
   "metadata": {},
   "outputs": [],
   "source": []
  },
  {
   "cell_type": "code",
   "execution_count": null,
   "id": "1b9dd2ec",
   "metadata": {},
   "outputs": [],
   "source": []
  },
  {
   "cell_type": "code",
   "execution_count": null,
   "id": "76193db5",
   "metadata": {},
   "outputs": [],
   "source": []
  },
  {
   "cell_type": "code",
   "execution_count": null,
   "id": "aa84e22e",
   "metadata": {},
   "outputs": [],
   "source": []
  },
  {
   "cell_type": "code",
   "execution_count": null,
   "id": "11cc9e6a",
   "metadata": {},
   "outputs": [],
   "source": []
  },
  {
   "cell_type": "code",
   "execution_count": null,
   "id": "c17b3d3a",
   "metadata": {},
   "outputs": [],
   "source": []
  },
  {
   "cell_type": "code",
   "execution_count": null,
   "id": "af5e8ecd",
   "metadata": {},
   "outputs": [],
   "source": []
  },
  {
   "cell_type": "code",
   "execution_count": null,
   "id": "c7eebdda",
   "metadata": {},
   "outputs": [],
   "source": []
  },
  {
   "cell_type": "code",
   "execution_count": null,
   "id": "8e1506d7",
   "metadata": {},
   "outputs": [],
   "source": []
  },
  {
   "cell_type": "code",
   "execution_count": null,
   "id": "86000233",
   "metadata": {},
   "outputs": [],
   "source": []
  },
  {
   "cell_type": "code",
   "execution_count": null,
   "id": "510ac4b2",
   "metadata": {},
   "outputs": [],
   "source": []
  },
  {
   "cell_type": "code",
   "execution_count": null,
   "id": "5130cc76",
   "metadata": {},
   "outputs": [],
   "source": []
  },
  {
   "cell_type": "code",
   "execution_count": null,
   "id": "e950b1f7",
   "metadata": {},
   "outputs": [],
   "source": []
  },
  {
   "cell_type": "code",
   "execution_count": null,
   "id": "6cd27e11",
   "metadata": {},
   "outputs": [],
   "source": []
  },
  {
   "cell_type": "code",
   "execution_count": null,
   "id": "3f384fb5",
   "metadata": {},
   "outputs": [],
   "source": []
  },
  {
   "cell_type": "code",
   "execution_count": null,
   "id": "09a37fdd",
   "metadata": {},
   "outputs": [],
   "source": []
  },
  {
   "cell_type": "code",
   "execution_count": null,
   "id": "62b5f7c0",
   "metadata": {},
   "outputs": [],
   "source": []
  },
  {
   "cell_type": "code",
   "execution_count": null,
   "id": "83181b11",
   "metadata": {},
   "outputs": [],
   "source": []
  },
  {
   "cell_type": "code",
   "execution_count": null,
   "id": "7d71c3eb",
   "metadata": {},
   "outputs": [],
   "source": []
  },
  {
   "cell_type": "code",
   "execution_count": null,
   "id": "ad724b24",
   "metadata": {},
   "outputs": [],
   "source": []
  },
  {
   "cell_type": "code",
   "execution_count": null,
   "id": "ed0b6749",
   "metadata": {},
   "outputs": [],
   "source": []
  },
  {
   "cell_type": "code",
   "execution_count": null,
   "id": "efcdc6d2",
   "metadata": {},
   "outputs": [],
   "source": []
  },
  {
   "cell_type": "code",
   "execution_count": null,
   "id": "d41163a9",
   "metadata": {},
   "outputs": [],
   "source": []
  },
  {
   "cell_type": "code",
   "execution_count": null,
   "id": "b34914d1",
   "metadata": {},
   "outputs": [],
   "source": []
  },
  {
   "cell_type": "code",
   "execution_count": null,
   "id": "6d66e424",
   "metadata": {},
   "outputs": [],
   "source": []
  },
  {
   "cell_type": "code",
   "execution_count": null,
   "id": "77f1996c",
   "metadata": {},
   "outputs": [],
   "source": []
  },
  {
   "cell_type": "code",
   "execution_count": null,
   "id": "16333692",
   "metadata": {},
   "outputs": [],
   "source": []
  },
  {
   "cell_type": "code",
   "execution_count": null,
   "id": "9d433cc6",
   "metadata": {},
   "outputs": [],
   "source": []
  },
  {
   "cell_type": "code",
   "execution_count": null,
   "id": "22a91540",
   "metadata": {},
   "outputs": [],
   "source": []
  },
  {
   "cell_type": "code",
   "execution_count": null,
   "id": "d94d6929",
   "metadata": {},
   "outputs": [],
   "source": []
  },
  {
   "cell_type": "code",
   "execution_count": null,
   "id": "5b81256b",
   "metadata": {},
   "outputs": [],
   "source": []
  },
  {
   "cell_type": "code",
   "execution_count": null,
   "id": "7e989181",
   "metadata": {},
   "outputs": [],
   "source": []
  },
  {
   "cell_type": "code",
   "execution_count": null,
   "id": "38a4de74",
   "metadata": {},
   "outputs": [],
   "source": []
  },
  {
   "cell_type": "code",
   "execution_count": null,
   "id": "a4255acc",
   "metadata": {},
   "outputs": [],
   "source": []
  },
  {
   "cell_type": "code",
   "execution_count": null,
   "id": "e225a42e",
   "metadata": {},
   "outputs": [],
   "source": []
  },
  {
   "cell_type": "code",
   "execution_count": null,
   "id": "38dca8a0",
   "metadata": {},
   "outputs": [],
   "source": []
  },
  {
   "cell_type": "code",
   "execution_count": null,
   "id": "957acd4a",
   "metadata": {},
   "outputs": [],
   "source": []
  },
  {
   "cell_type": "code",
   "execution_count": null,
   "id": "7bf17bdd",
   "metadata": {},
   "outputs": [],
   "source": []
  },
  {
   "cell_type": "code",
   "execution_count": null,
   "id": "d87547a8",
   "metadata": {},
   "outputs": [],
   "source": []
  },
  {
   "cell_type": "code",
   "execution_count": null,
   "id": "5ed444fc",
   "metadata": {},
   "outputs": [],
   "source": []
  },
  {
   "cell_type": "code",
   "execution_count": null,
   "id": "47dfcce4",
   "metadata": {},
   "outputs": [],
   "source": []
  },
  {
   "cell_type": "code",
   "execution_count": null,
   "id": "7ea6520a",
   "metadata": {},
   "outputs": [],
   "source": []
  },
  {
   "cell_type": "code",
   "execution_count": null,
   "id": "3e55c4dc",
   "metadata": {},
   "outputs": [],
   "source": []
  },
  {
   "cell_type": "code",
   "execution_count": null,
   "id": "f18a9191",
   "metadata": {},
   "outputs": [],
   "source": []
  },
  {
   "cell_type": "code",
   "execution_count": null,
   "id": "770ab32e",
   "metadata": {},
   "outputs": [],
   "source": []
  },
  {
   "cell_type": "code",
   "execution_count": null,
   "id": "8d33241e",
   "metadata": {},
   "outputs": [],
   "source": []
  },
  {
   "cell_type": "code",
   "execution_count": null,
   "id": "0479b593",
   "metadata": {},
   "outputs": [],
   "source": []
  },
  {
   "cell_type": "code",
   "execution_count": null,
   "id": "75d21ee8",
   "metadata": {},
   "outputs": [],
   "source": []
  },
  {
   "cell_type": "code",
   "execution_count": null,
   "id": "cc22f709",
   "metadata": {},
   "outputs": [],
   "source": []
  },
  {
   "cell_type": "code",
   "execution_count": null,
   "id": "a72e23b2",
   "metadata": {},
   "outputs": [],
   "source": []
  },
  {
   "cell_type": "code",
   "execution_count": null,
   "id": "c43f1407",
   "metadata": {},
   "outputs": [],
   "source": []
  },
  {
   "cell_type": "code",
   "execution_count": null,
   "id": "1d76355b",
   "metadata": {},
   "outputs": [],
   "source": []
  },
  {
   "cell_type": "code",
   "execution_count": null,
   "id": "86626868",
   "metadata": {},
   "outputs": [],
   "source": []
  },
  {
   "cell_type": "code",
   "execution_count": null,
   "id": "04f32acf",
   "metadata": {},
   "outputs": [],
   "source": []
  },
  {
   "cell_type": "code",
   "execution_count": null,
   "id": "b9c4ec47",
   "metadata": {},
   "outputs": [],
   "source": []
  },
  {
   "cell_type": "code",
   "execution_count": null,
   "id": "4bd82d17",
   "metadata": {},
   "outputs": [],
   "source": []
  },
  {
   "cell_type": "code",
   "execution_count": null,
   "id": "d464f090",
   "metadata": {},
   "outputs": [],
   "source": []
  },
  {
   "cell_type": "code",
   "execution_count": null,
   "id": "c4f3d219",
   "metadata": {},
   "outputs": [],
   "source": []
  },
  {
   "cell_type": "code",
   "execution_count": null,
   "id": "00a840ce",
   "metadata": {},
   "outputs": [],
   "source": []
  },
  {
   "cell_type": "code",
   "execution_count": null,
   "id": "5c66161f",
   "metadata": {},
   "outputs": [],
   "source": []
  },
  {
   "cell_type": "code",
   "execution_count": null,
   "id": "b929b843",
   "metadata": {},
   "outputs": [],
   "source": []
  },
  {
   "cell_type": "code",
   "execution_count": null,
   "id": "ca80f893",
   "metadata": {},
   "outputs": [],
   "source": []
  },
  {
   "cell_type": "code",
   "execution_count": null,
   "id": "1bc9521e",
   "metadata": {},
   "outputs": [],
   "source": []
  },
  {
   "cell_type": "code",
   "execution_count": null,
   "id": "8e2b73cf",
   "metadata": {},
   "outputs": [],
   "source": []
  },
  {
   "cell_type": "code",
   "execution_count": null,
   "id": "056c90b5",
   "metadata": {},
   "outputs": [],
   "source": []
  },
  {
   "cell_type": "code",
   "execution_count": null,
   "id": "eeae8782",
   "metadata": {},
   "outputs": [],
   "source": []
  }
 ],
 "metadata": {
  "kernelspec": {
   "display_name": "Python 3",
   "language": "python",
   "name": "python3"
  },
  "language_info": {
   "codemirror_mode": {
    "name": "ipython",
    "version": 3
   },
   "file_extension": ".py",
   "mimetype": "text/x-python",
   "name": "python",
   "nbconvert_exporter": "python",
   "pygments_lexer": "ipython3",
   "version": "3.8.8"
  },
  "toc": {
   "base_numbering": 1,
   "nav_menu": {},
   "number_sections": true,
   "sideBar": true,
   "skip_h1_title": false,
   "title_cell": "Table of Contents",
   "title_sidebar": "Contents",
   "toc_cell": false,
   "toc_position": {},
   "toc_section_display": true,
   "toc_window_display": false
  }
 },
 "nbformat": 4,
 "nbformat_minor": 5
}
