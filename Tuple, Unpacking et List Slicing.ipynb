{
 "cells": [
  {
   "cell_type": "markdown",
   "id": "c8c50cae",
   "metadata": {},
   "source": [
    "# Exercice 1 - Il est possible de faire de l'unpacking avec les listes aussi\n",
    "Que va afficher le code ci-dessous? \n",
    "\n",
    "Recopiez-le puis modifiez-le afin d'observer ce qu'il se passe. \n",
    "\n",
    "Le but de cette exercice est de vous convaincre que le tuple unpacking et le list unpacking se comporte exactement de la même manière."
   ]
  },
  {
   "cell_type": "code",
   "execution_count": 2,
   "id": "9675226c",
   "metadata": {
    "ExecuteTime": {
     "end_time": "2022-04-21T14:05:40.375123Z",
     "start_time": "2022-04-21T14:05:40.361128Z"
    }
   },
   "outputs": [
    {
     "name": "stdout",
     "output_type": "stream",
     "text": [
      "1 2 hey\n",
      "1 2 hey\n"
     ]
    }
   ],
   "source": [
    "un_tuple = (1,2,'hey')\n",
    "une_liste = [1,2, 'hey']\n",
    "\n",
    "# déballage du tuple\n",
    "a, b, c = un_tuple\n",
    "print(a, b, c)\n",
    "\n",
    "# déballage liste (unpacking)\n",
    "x, y, z = une_liste\n",
    "print(x, y, z)"
   ]
  },
  {
   "cell_type": "markdown",
   "id": "beaf9868",
   "metadata": {},
   "source": [
    "# Exercice 2 - Unpacking classique\n",
    "Procédez au déballage (unpacking) de cette liste en remplaçant les points d'interrogations par le bon nombre de variables.\n",
    "\n",
    "Ensuite affichez ces variables.\n",
    "\n",
    "Rappel: Déballage (unpacking) signifie ranger les éléments d'une même liste dans des variables distinctes."
   ]
  },
  {
   "cell_type": "code",
   "execution_count": 6,
   "id": "bdd73ebe",
   "metadata": {
    "ExecuteTime": {
     "end_time": "2022-04-21T14:09:44.376034Z",
     "start_time": "2022-04-21T14:09:44.360081Z"
    }
   },
   "outputs": [
    {
     "name": "stdout",
     "output_type": "stream",
     "text": [
      "A B C D\n"
     ]
    }
   ],
   "source": [
    "x, y, z, u  = ['A', 'B', 'C', 'D']\n",
    "print(x, y, z, u)\n",
    "\n"
   ]
  },
  {
   "cell_type": "markdown",
   "id": "eb54a34e",
   "metadata": {},
   "source": [
    "# Exercice 3 - Premier, Reste (liste slicing et indexing)\n",
    "Le but de cet exercice est de séparer le contenu d'une liste en deux variables distinctes en utilisant le list slicing et le list indexing.\n",
    "\n",
    "Recopier le bout de code ci-dessous puis remplacer les points d’interrogations par des list slicing ou des list indexing qui permettent d'obtenir le résultat souhaité."
   ]
  },
  {
   "cell_type": "code",
   "execution_count": 9,
   "id": "1da36295",
   "metadata": {
    "ExecuteTime": {
     "end_time": "2022-04-21T14:16:43.751000Z",
     "start_time": "2022-04-21T14:16:43.736759Z"
    }
   },
   "outputs": [
    {
     "name": "stdout",
     "output_type": "stream",
     "text": [
      "premier 1\n",
      "reste [2, 3, 4, 5]\n"
     ]
    }
   ],
   "source": [
    "ma_liste = [1, 2, 3, 4, 5]\n",
    "premier, reste = ma_liste[0], ma_liste[1:]\n",
    "print('Premier', premier) # premier doit afficher 1 \n",
    "print('Reste', reste) # reste [2,3,4,5]\n"
   ]
  },
  {
   "cell_type": "markdown",
   "id": "bd04ae0b",
   "metadata": {},
   "source": [
    "# Exercice 4 - Premier, Reste (star unpacking)\n",
    "Ce code va générer une erreur.\n",
    "\n",
    "Pour résoudre le bug, vous devez ajouter une astérisque au bonne endroit.\n",
    "\n",
    "Recopiez le code puis exécutez-le pour constater l'erreur par vous même, puis modifiez le pour obtenir le même résultat que dans l'exercice précédent, mais en utilisant cette fois le concept de star unpacking."
   ]
  },
  {
   "cell_type": "code",
   "execution_count": 12,
   "id": "696c8362",
   "metadata": {
    "ExecuteTime": {
     "end_time": "2022-04-21T14:18:10.712551Z",
     "start_time": "2022-04-21T14:18:10.695581Z"
    }
   },
   "outputs": [
    {
     "ename": "ValueError",
     "evalue": "too many values to unpack (expected 2)",
     "output_type": "error",
     "traceback": [
      "\u001b[1;31m---------------------------------------------------------------------------\u001b[0m",
      "\u001b[1;31mValueError\u001b[0m                                Traceback (most recent call last)",
      "\u001b[1;32m<ipython-input-12-8a1e1f811ca8>\u001b[0m in \u001b[0;36m<module>\u001b[1;34m\u001b[0m\n\u001b[0;32m      1\u001b[0m \u001b[0mma_liste\u001b[0m \u001b[1;33m=\u001b[0m \u001b[1;33m[\u001b[0m\u001b[1;36m1\u001b[0m\u001b[1;33m,\u001b[0m\u001b[1;36m2\u001b[0m\u001b[1;33m,\u001b[0m\u001b[1;36m3\u001b[0m\u001b[1;33m,\u001b[0m\u001b[1;36m4\u001b[0m\u001b[1;33m,\u001b[0m\u001b[1;36m5\u001b[0m\u001b[1;33m]\u001b[0m\u001b[1;33m\u001b[0m\u001b[1;33m\u001b[0m\u001b[0m\n\u001b[1;32m----> 2\u001b[1;33m \u001b[0mpremier\u001b[0m\u001b[1;33m,\u001b[0m \u001b[0mreste\u001b[0m \u001b[1;33m=\u001b[0m \u001b[0mma_liste\u001b[0m\u001b[1;33m\u001b[0m\u001b[1;33m\u001b[0m\u001b[0m\n\u001b[0m\u001b[0;32m      3\u001b[0m \u001b[0mprint\u001b[0m\u001b[1;33m(\u001b[0m\u001b[1;34m'Premier'\u001b[0m\u001b[1;33m,\u001b[0m \u001b[0mpremier\u001b[0m\u001b[1;33m)\u001b[0m \u001b[1;31m# doit afficher 1\u001b[0m\u001b[1;33m\u001b[0m\u001b[1;33m\u001b[0m\u001b[0m\n\u001b[0;32m      4\u001b[0m \u001b[0mprint\u001b[0m\u001b[1;33m(\u001b[0m\u001b[1;34m'Reste'\u001b[0m\u001b[1;33m,\u001b[0m \u001b[0mreste\u001b[0m\u001b[1;33m)\u001b[0m \u001b[1;31m# doit afficher [2,3,4,5]\u001b[0m\u001b[1;33m\u001b[0m\u001b[1;33m\u001b[0m\u001b[0m\n",
      "\u001b[1;31mValueError\u001b[0m: too many values to unpack (expected 2)"
     ]
    }
   ],
   "source": [
    "ma_liste = [1,2,3,4,5]\n",
    "premier, reste = ma_liste\n",
    "print('Premier', premier) # doit afficher 1\n",
    "print('Reste', reste) # doit afficher [2,3,4,5]"
   ]
  },
  {
   "cell_type": "code",
   "execution_count": 13,
   "id": "8aeec9b9",
   "metadata": {
    "ExecuteTime": {
     "end_time": "2022-04-21T14:18:32.444509Z",
     "start_time": "2022-04-21T14:18:32.439523Z"
    }
   },
   "outputs": [
    {
     "name": "stdout",
     "output_type": "stream",
     "text": [
      "Premier 1\n",
      "Reste [2, 3, 4, 5]\n"
     ]
    }
   ],
   "source": [
    "ma_liste = [1,2,3,4,5]\n",
    "premier, *reste = ma_liste\n",
    "print('Premier', premier) # doit afficher 1\n",
    "print('Reste', reste) # doit afficher [2,3,4,5]"
   ]
  },
  {
   "cell_type": "markdown",
   "id": "7c561f35",
   "metadata": {},
   "source": [
    "# Exercice 5 - Reste, Dernier (liste slicing et indexing)\n",
    "Le but de cet exercice est de séparer le contenu d'une liste en deux variables distinctes en utilisant le list slicing et le list indexing.\n",
    "\n",
    "Recopier le bout de code ci-dessous puis remplacer les points d’interrogations par des list slicing ou des list indexing qui permettent d'obtenir le résultat souhaité."
   ]
  },
  {
   "cell_type": "code",
   "execution_count": 16,
   "id": "3df0e953",
   "metadata": {
    "ExecuteTime": {
     "end_time": "2022-04-21T14:22:21.044301Z",
     "start_time": "2022-04-21T14:22:21.031335Z"
    }
   },
   "outputs": [
    {
     "name": "stdout",
     "output_type": "stream",
     "text": [
      "Reste [1, 2, 3]\n",
      "Dernier 5\n"
     ]
    }
   ],
   "source": [
    "ma_liste = [1,2,3,4,5]\n",
    "reste, dernier = ma_liste[0:3], ma_liste[-1]\n",
    "print('Reste', reste) # reste doit afficher [1,2,3,4]\n",
    "print('Dernier', dernier) # dernier doit afficher 5"
   ]
  },
  {
   "cell_type": "markdown",
   "id": "b7b44cb5",
   "metadata": {},
   "source": [
    "# Exercice 6 - Premier, Reste, Dernier (star unpacking)\n",
    "Ce code va générer une erreur.\n",
    "\n",
    "Pour résoudre le bug, vous devez ajouter une astérisque au bonne endroit.\n",
    "\n",
    "Recopiez le code puis exécutez-le pour constater l'erreur par vous même, puis modifiez le pour obtenir le même résultat que dans l'exercice précédent, mais en utilisant cette fois le concept de star unpacking."
   ]
  },
  {
   "cell_type": "code",
   "execution_count": 17,
   "id": "270fb526",
   "metadata": {
    "ExecuteTime": {
     "end_time": "2022-04-21T14:25:31.842246Z",
     "start_time": "2022-04-21T14:25:31.831276Z"
    }
   },
   "outputs": [
    {
     "name": "stdout",
     "output_type": "stream",
     "text": [
      "Reste [1, 2, 3, 4]\n",
      "Dernier 5\n"
     ]
    }
   ],
   "source": [
    "ma_liste = [1,2,3,4,5]\n",
    "*reste, dernier = ma_liste\n",
    "print('Reste', reste) # doit afficher [1,2,3,4]\n",
    "print('Dernier', dernier) # doit afficher 5"
   ]
  },
  {
   "cell_type": "markdown",
   "id": "f165bc1b",
   "metadata": {},
   "source": [
    "# Exercice 7 - Premier, Avant-Dernier, Dernier (liste slicing et indexing)\n",
    "Le but de cet exercice est de séparer le contenu d'une liste en trois variables distinctes en utilisant le list slicing et le list indexing.\n",
    "\n",
    "Recopier le bout de code ci-dessous puis remplacer les points d’interrogations par des list slicing ou des list indexing qui permettent d'obtenir le résultat souhaité."
   ]
  },
  {
   "cell_type": "code",
   "execution_count": 19,
   "id": "b037031e",
   "metadata": {
    "ExecuteTime": {
     "end_time": "2022-04-21T14:29:37.814296Z",
     "start_time": "2022-04-21T14:29:37.796346Z"
    }
   },
   "outputs": [
    {
     "name": "stdout",
     "output_type": "stream",
     "text": [
      "Premier 1\n",
      "Reste [2, 3, 4]\n",
      "Dernier 5\n"
     ]
    }
   ],
   "source": [
    "ma_liste = [1,2,3,4,5]\n",
    "premier, reste, dernier = ma_liste[0], ma_liste[1:4], ma_liste[-1]\n",
    "print('Premier', premier) # doit afficher 1\n",
    "print('Reste', reste) # doit afficher [2,3,4]\n",
    "print('Dernier', dernier) # doit afficher 5"
   ]
  },
  {
   "cell_type": "markdown",
   "id": "8991db76",
   "metadata": {},
   "source": [
    "# Exercice 8 -  Premier, Reste, Dernier (star unpacking)\n",
    "Ce code va générer une erreur.\n",
    "\n",
    "Pour résoudre le bug, vous devez ajouter une astérisque au bonne endroit.\n",
    "\n",
    "Recopiez le code puis exécutez-le pour constater l'erreur par vous même, puis modifiez le pour obtenir le même résultat que dans l'exercice précédent, mais en utilisant cette fois le concept de star unpacking."
   ]
  },
  {
   "cell_type": "code",
   "execution_count": 20,
   "id": "88d45bc3",
   "metadata": {
    "ExecuteTime": {
     "end_time": "2022-04-21T14:32:41.866771Z",
     "start_time": "2022-04-21T14:32:41.847837Z"
    }
   },
   "outputs": [
    {
     "name": "stdout",
     "output_type": "stream",
     "text": [
      "Premier 1\n",
      "Reste [2, 3, 4]\n",
      "Dernier 5\n"
     ]
    }
   ],
   "source": [
    "ma_liste = [1,2,3,4,5]\n",
    "premier, *reste, dernier = ma_liste\n",
    "print('Premier', premier) # doit afficher 1\n",
    "print('Reste', reste), # doit afficher [2,3,4]\n",
    "print('Dernier', dernier) # doit afficher 5"
   ]
  },
  {
   "cell_type": "markdown",
   "id": "29af8fe9",
   "metadata": {},
   "source": [
    "# Exercice 9 - Premier, Reste, Avant-Dernier, Dernier (liste slicing et indexing)\n",
    "Le but de cet exercice est de séparer le contenu d'une liste en quatre variables distinctes en utilisant le list slicing et le list indexing.\n",
    "\n",
    "Recopier le bout de code ci-dessous puis remplacer les points d’interrogations par des list slicing ou des list indexing qui permettent d'obtenir le résultat souhaité."
   ]
  },
  {
   "cell_type": "code",
   "execution_count": 21,
   "id": "f5706ee7",
   "metadata": {
    "ExecuteTime": {
     "end_time": "2022-04-21T14:36:05.544387Z",
     "start_time": "2022-04-21T14:36:05.528395Z"
    }
   },
   "outputs": [
    {
     "name": "stdout",
     "output_type": "stream",
     "text": [
      "Premier 1\n",
      "Reste [2, 3, 4, 5, 6]\n",
      "Avant dernier 7\n",
      "Dernier 8\n"
     ]
    }
   ],
   "source": [
    "ma_liste = [1, 2, 3, 4, 5, 6, 7, 8]\n",
    "premier, *reste, avant_dernier, dernier = ma_liste\n",
    "print('Premier', premier) # doit afficher 1\n",
    "print('Reste', reste) # doit afficher [2,3,4,5,6]\n",
    "print('Avant dernier', avant_dernier) # doit afficher 7\n",
    "print('Dernier', dernier) # doit afficher 8 "
   ]
  },
  {
   "cell_type": "code",
   "execution_count": null,
   "id": "062b2e9e",
   "metadata": {},
   "outputs": [],
   "source": []
  }
 ],
 "metadata": {
  "kernelspec": {
   "display_name": "Python 3",
   "language": "python",
   "name": "python3"
  },
  "language_info": {
   "codemirror_mode": {
    "name": "ipython",
    "version": 3
   },
   "file_extension": ".py",
   "mimetype": "text/x-python",
   "name": "python",
   "nbconvert_exporter": "python",
   "pygments_lexer": "ipython3",
   "version": "3.8.8"
  },
  "toc": {
   "base_numbering": 1,
   "nav_menu": {},
   "number_sections": true,
   "sideBar": true,
   "skip_h1_title": false,
   "title_cell": "Table of Contents",
   "title_sidebar": "Contents",
   "toc_cell": false,
   "toc_position": {},
   "toc_section_display": true,
   "toc_window_display": false
  }
 },
 "nbformat": 4,
 "nbformat_minor": 5
}
