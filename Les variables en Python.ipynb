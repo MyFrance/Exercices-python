{
 "cells": [
  {
   "cell_type": "code",
   "execution_count": 1,
   "id": "f522295c",
   "metadata": {},
   "outputs": [],
   "source": [
    "import pandas as pd \n",
    "import numpy as np"
   ]
  },
  {
   "cell_type": "code",
   "execution_count": 3,
   "id": "0af79412",
   "metadata": {},
   "outputs": [
    {
     "name": "stdout",
     "output_type": "stream",
     "text": [
      "\n",
      "Here is a list of the Python keywords.  Enter any keyword to get more help.\n",
      "\n",
      "False               class               from                or\n",
      "None                continue            global              pass\n",
      "True                def                 if                  raise\n",
      "and                 del                 import              return\n",
      "as                  elif                in                  try\n",
      "assert              else                is                  while\n",
      "async               except              lambda              with\n",
      "await               finally             nonlocal            yield\n",
      "break               for                 not                 \n",
      "\n"
     ]
    }
   ],
   "source": [
    "help('keywords')"
   ]
  },
  {
   "cell_type": "markdown",
   "id": "ec57835e",
   "metadata": {},
   "source": [
    "## Exercice 1 - Afecctation chaînée"
   ]
  },
  {
   "cell_type": "code",
   "execution_count": 5,
   "id": "af267ace",
   "metadata": {},
   "outputs": [
    {
     "name": "stdout",
     "output_type": "stream",
     "text": [
      "10 10 10\n"
     ]
    }
   ],
   "source": [
    "a = b = c = 10\n",
    "print(a, b, c)"
   ]
  },
  {
   "cell_type": "markdown",
   "id": "ce32281b",
   "metadata": {},
   "source": [
    "## Exercice 2 - Unpacking"
   ]
  },
  {
   "cell_type": "code",
   "execution_count": 6,
   "id": "50dae0e1",
   "metadata": {},
   "outputs": [
    {
     "name": "stdout",
     "output_type": "stream",
     "text": [
      "1\n",
      "2\n"
     ]
    }
   ],
   "source": [
    "a, b = 1, 2\n",
    "print(a)\n",
    "print(b)"
   ]
  },
  {
   "cell_type": "markdown",
   "id": "7e33b1c7",
   "metadata": {},
   "source": [
    "## Exercice 3- Unpacking & types de données"
   ]
  },
  {
   "cell_type": "code",
   "execution_count": 7,
   "id": "d08f7224",
   "metadata": {},
   "outputs": [
    {
     "name": "stdout",
     "output_type": "stream",
     "text": [
      "1\n",
      "Texte!\n"
     ]
    }
   ],
   "source": [
    "a, b = 1, 'Texte!'\n",
    "print(a)\n",
    "print(b)"
   ]
  },
  {
   "cell_type": "markdown",
   "id": "7761ffe9",
   "metadata": {},
   "source": [
    "## Exercice 4 - Réaffectation"
   ]
  },
  {
   "cell_type": "code",
   "execution_count": 8,
   "id": "db676076",
   "metadata": {},
   "outputs": [
    {
     "name": "stdout",
     "output_type": "stream",
     "text": [
      "5\n",
      "3\n"
     ]
    }
   ],
   "source": [
    "a = 2\n",
    "b = 3\n",
    "a = a + b\n",
    "print(a)\n",
    "print(b)"
   ]
  },
  {
   "cell_type": "markdown",
   "id": "22e393e1",
   "metadata": {},
   "source": [
    "## Exercice 5 - Réaffectation (suite)"
   ]
  },
  {
   "cell_type": "code",
   "execution_count": 9,
   "id": "90e76949",
   "metadata": {},
   "outputs": [
    {
     "name": "stdout",
     "output_type": "stream",
     "text": [
      "10\n"
     ]
    }
   ],
   "source": [
    "a = 5\n",
    "b = 6\n",
    "a = a + 1\n",
    "b = 2\n",
    "b = 2 + b\n",
    "a = a + b\n",
    "print(a)"
   ]
  },
  {
   "cell_type": "markdown",
   "id": "4a2f52a0",
   "metadata": {},
   "source": [
    "## Exercice 6 -Il faut donner des noms explicites à ses variables"
   ]
  }
 ],
 "metadata": {
  "kernelspec": {
   "display_name": "Python 3",
   "language": "python",
   "name": "python3"
  },
  "language_info": {
   "codemirror_mode": {
    "name": "ipython",
    "version": 3
   },
   "file_extension": ".py",
   "mimetype": "text/x-python",
   "name": "python",
   "nbconvert_exporter": "python",
   "pygments_lexer": "ipython3",
   "version": "3.8.8"
  }
 },
 "nbformat": 4,
 "nbformat_minor": 5
}
