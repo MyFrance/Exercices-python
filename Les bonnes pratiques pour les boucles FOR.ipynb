{
 "cells": [
  {
   "cell_type": "markdown",
   "id": "9ab0dad3",
   "metadata": {},
   "source": [
    "# Exercice 1 - Factoriser son code avec des boucles For\n",
    "Recopier le code puis exécuter le pour constater ce qu'il affiche. Puis remplacer le code par une boucle for qui obtient exactement le même résultat.\n",
    "\n",
    "Ensuite rajouter des éléments à notre liste pour bien vérifier que le bout de code s'adapte à la taille de la liste."
   ]
  },
  {
   "cell_type": "code",
   "execution_count": 1,
   "id": "09869457",
   "metadata": {
    "ExecuteTime": {
     "end_time": "2022-05-04T12:49:56.806951Z",
     "start_time": "2022-05-04T12:49:56.791986Z"
    }
   },
   "outputs": [
    {
     "name": "stdout",
     "output_type": "stream",
     "text": [
      "a\n",
      "b\n",
      "c\n"
     ]
    }
   ],
   "source": [
    "collection = ['A', 'B', 'C']\n",
    "index = 0\n",
    "each = collection[index]\n",
    "print(each.lower())\n",
    "index = index + 1\n",
    "each = collection[index]\n",
    "print(each.lower())\n",
    "index = index + 1\n",
    "each = collection[index]\n",
    "print(each.lower())"
   ]
  },
  {
   "cell_type": "code",
   "execution_count": 6,
   "id": "e84442f8",
   "metadata": {
    "ExecuteTime": {
     "end_time": "2022-05-04T12:53:55.807284Z",
     "start_time": "2022-05-04T12:53:55.793295Z"
    }
   },
   "outputs": [
    {
     "name": "stdout",
     "output_type": "stream",
     "text": [
      "a\n",
      "b\n",
      "c\n"
     ]
    }
   ],
   "source": [
    "collection = [\"A\", 'B', 'C']\n",
    "\n",
    "# ici on veut affciher les éléments de la liste en miniscule\n",
    "\n",
    "for each in collections:\n",
    "    print(each.lower())\n"
   ]
  },
  {
   "cell_type": "markdown",
   "id": "11970290",
   "metadata": {},
   "source": [
    "# Exercice 2 - Bien choisir ses noms de variables.\n",
    "Que va afficher le code ci-dessous? Décrivez en une phrase simple ce que fait ce bout de code.\n",
    "\n",
    "Ensuite recopiez-le puis exécutez-le pour vérifier votre réponse.\n",
    "\n",
    "Après, renommez les variables pour leur donner un nom explicite en suivant la nomenclature ci-dessous.\n",
    "\n",
    "liste -> nombres_pairs\n",
    "each -> nombre_pair\n",
    "result -> carré"
   ]
  },
  {
   "cell_type": "code",
   "execution_count": 8,
   "id": "3c6e9b08",
   "metadata": {
    "ExecuteTime": {
     "end_time": "2022-05-04T13:02:51.794833Z",
     "start_time": "2022-05-04T13:02:51.777882Z"
    }
   },
   "outputs": [
    {
     "name": "stdout",
     "output_type": "stream",
     "text": [
      "0\n",
      "4\n",
      "16\n",
      "36\n",
      "64\n",
      "100\n",
      "144\n",
      "196\n",
      "256\n",
      "324\n",
      "400\n",
      "484\n",
      "576\n",
      "676\n",
      "784\n"
     ]
    }
   ],
   "source": [
    "# Le affiche chaque élément élevé au caré\n",
    "\n",
    "nombres_pairs = [0,2,4,6,8,10,12,14,16,18,20,22,24,26,28]\n",
    "\n",
    "for nombre_pair in nombres_pairs:\n",
    "    carre = nombre_pair **2 \n",
    "    print(carre)"
   ]
  },
  {
   "cell_type": "markdown",
   "id": "331b8bd4",
   "metadata": {},
   "source": [
    "# Exercice 3 - Utilisez enumerate() plutôt que de créer des compteurs\n",
    "Que va afficher le code ci-dessous? Que fait-il?\n",
    "\n",
    "Recopiez ce code puis exécutez-le pour vérifier votre réponse.\n",
    "\n",
    "Puis raccourcissez ce bout de code en utilisant la fonction built-in enumerate()."
   ]
  },
  {
   "cell_type": "code",
   "execution_count": 9,
   "id": "4d377682",
   "metadata": {
    "ExecuteTime": {
     "end_time": "2022-05-04T13:07:01.386993Z",
     "start_time": "2022-05-04T13:07:01.370037Z"
    }
   },
   "outputs": [
    {
     "name": "stdout",
     "output_type": "stream",
     "text": [
      "Le multiple de tois n°1 est 0.\n",
      "Le multiple de tois n°2 est 3.\n",
      "Le multiple de tois n°3 est 6.\n",
      "Le multiple de tois n°4 est 9.\n",
      "Le multiple de tois n°5 est 12.\n",
      "Le multiple de tois n°6 est 15.\n",
      "Le multiple de tois n°7 est 18.\n",
      "Le multiple de tois n°8 est 21.\n",
      "Le multiple de tois n°9 est 24.\n",
      "Le multiple de tois n°10 est 27.\n",
      "Le multiple de tois n°11 est 30.\n",
      "Le multiple de tois n°12 est 33.\n",
      "Le multiple de tois n°13 est 36.\n",
      "Le multiple de tois n°14 est 39.\n",
      "Le multiple de tois n°15 est 42.\n",
      "Le multiple de tois n°16 est 45.\n",
      "Le multiple de tois n°17 est 48.\n",
      "Le multiple de tois n°18 est 51.\n",
      "Le multiple de tois n°19 est 54.\n",
      "Le multiple de tois n°20 est 57.\n",
      "Le multiple de tois n°21 est 60.\n",
      "Le multiple de tois n°22 est 63.\n",
      "Le multiple de tois n°23 est 66.\n",
      "Le multiple de tois n°24 est 69.\n",
      "Le multiple de tois n°25 est 72.\n",
      "Le multiple de tois n°26 est 75.\n",
      "Le multiple de tois n°27 est 78.\n",
      "Le multiple de tois n°28 est 81.\n",
      "Le multiple de tois n°29 est 84.\n",
      "Le multiple de tois n°30 est 87.\n",
      "Le multiple de tois n°31 est 90.\n",
      "Le multiple de tois n°32 est 93.\n",
      "Le multiple de tois n°33 est 96.\n",
      "Le multiple de tois n°34 est 99.\n"
     ]
    }
   ],
   "source": [
    "# Ici on cherche à compter le nombre de multitples de 3 entre 0 et 100\n",
    "\n",
    "multiples_de_trois = list(range(0,100,3))\n",
    "i = 0 \n",
    "for each in multiples_de_trois:\n",
    "    # Ci-dessous, {i + 1} car i commence à zéro et on veut compter à partir de 1\n",
    "    print(f'Le multiple de tois n°{i + 1} est {each}.')\n",
    "    i = i + 1"
   ]
  },
  {
   "cell_type": "code",
   "execution_count": 21,
   "id": "512cb139",
   "metadata": {
    "ExecuteTime": {
     "end_time": "2022-05-04T13:15:46.851521Z",
     "start_time": "2022-05-04T13:15:46.825752Z"
    }
   },
   "outputs": [
    {
     "name": "stdout",
     "output_type": "stream",
     "text": [
      "Le multiple de trois est 1: 0\n",
      "Le multiple de trois est 2: 3\n",
      "Le multiple de trois est 3: 6\n",
      "Le multiple de trois est 4: 9\n",
      "Le multiple de trois est 5: 12\n",
      "Le multiple de trois est 6: 15\n",
      "Le multiple de trois est 7: 18\n",
      "Le multiple de trois est 8: 21\n",
      "Le multiple de trois est 9: 24\n",
      "Le multiple de trois est 10: 27\n",
      "Le multiple de trois est 11: 30\n",
      "Le multiple de trois est 12: 33\n",
      "Le multiple de trois est 13: 36\n",
      "Le multiple de trois est 14: 39\n",
      "Le multiple de trois est 15: 42\n",
      "Le multiple de trois est 16: 45\n",
      "Le multiple de trois est 17: 48\n",
      "Le multiple de trois est 18: 51\n",
      "Le multiple de trois est 19: 54\n",
      "Le multiple de trois est 20: 57\n",
      "Le multiple de trois est 21: 60\n",
      "Le multiple de trois est 22: 63\n",
      "Le multiple de trois est 23: 66\n",
      "Le multiple de trois est 24: 69\n",
      "Le multiple de trois est 25: 72\n",
      "Le multiple de trois est 26: 75\n",
      "Le multiple de trois est 27: 78\n",
      "Le multiple de trois est 28: 81\n",
      "Le multiple de trois est 29: 84\n",
      "Le multiple de trois est 30: 87\n",
      "Le multiple de trois est 31: 90\n",
      "Le multiple de trois est 32: 93\n",
      "Le multiple de trois est 33: 96\n",
      "Le multiple de trois est 34: 99\n"
     ]
    }
   ],
   "source": [
    "multiples_de_trois = list(range(0,100,3))\n",
    "\n",
    "for i, multiple_de_trois in enumerate(multiples_de_trois):\n",
    "    print(f'Le multiple de trois est {i +1 }:', (multiple_de_trois))"
   ]
  },
  {
   "cell_type": "markdown",
   "id": "4e3f0c91",
   "metadata": {},
   "source": [
    "# Exercice 4 - Utilisez zip() pour itérer en parallèle sur deux listes distinctes.\n",
    "Que va afficher le code ci-dessous? \n",
    "\n",
    "Que fait-il?\n",
    "\n",
    "Recopiez ce code puis exécutez-le pour vérifier votre réponse.\n",
    "\n",
    "Puis raccourcissez la deuxième boucle en utilisant la fonction built-in zip().\n",
    "\n",
    "Trouvez-vous le code plus facile à lire après avoir fait la modification?"
   ]
  },
  {
   "cell_type": "code",
   "execution_count": 25,
   "id": "d1ac3355",
   "metadata": {
    "ExecuteTime": {
     "end_time": "2022-05-04T13:23:12.009083Z",
     "start_time": "2022-05-04T13:23:12.003137Z"
    }
   },
   "outputs": [
    {
     "name": "stdout",
     "output_type": "stream",
     "text": [
      " La racine carrée du nombre 1  est 1.0.\n",
      " La racine carrée du nombre 2  est 1.4142135623730951.\n",
      " La racine carrée du nombre 3  est 1.7320508075688772.\n",
      " La racine carrée du nombre 4  est 2.0.\n",
      " La racine carrée du nombre 5  est 2.23606797749979.\n",
      " La racine carrée du nombre 6  est 2.449489742783178.\n",
      " La racine carrée du nombre 7  est 2.6457513110645907.\n",
      " La racine carrée du nombre 8  est 2.8284271247461903.\n",
      " La racine carrée du nombre 9  est 3.0.\n",
      " La racine carrée du nombre 10  est 3.1622776601683795.\n",
      " La racine carrée du nombre 11  est 3.3166247903554.\n",
      " La racine carrée du nombre 12  est 3.4641016151377544.\n",
      " La racine carrée du nombre 13  est 3.605551275463989.\n",
      " La racine carrée du nombre 14  est 3.7416573867739413.\n",
      " La racine carrée du nombre 15  est 3.872983346207417.\n",
      " La racine carrée du nombre 16  est 4.0.\n",
      " La racine carrée du nombre 17  est 4.123105625617661.\n",
      " La racine carrée du nombre 18  est 4.242640687119285.\n",
      " La racine carrée du nombre 19  est 4.358898943540674.\n"
     ]
    }
   ],
   "source": [
    "nombres = list(range(1,20))\n",
    "racines_carrées = []\n",
    "# Cette boucle nous permet de créer une liste des racines carrés des nombre de 1 à 19\n",
    "\n",
    "for nombre in nombres:\n",
    "    racine = nombre **0.5\n",
    "    racines_carrées.append(racine)\n",
    "    \n",
    "# Remplacez la deuxième boucle par une plus succinte en utilisant zip(...)\n",
    "for i in range(len(racines_carrées)):\n",
    "    nombre = nombres[i]\n",
    "    racine = racines_carrées[i]\n",
    "    print(f' La racine carrée du nombre {nombre}  est {racine}.')"
   ]
  },
  {
   "cell_type": "code",
   "execution_count": 32,
   "id": "791fca15",
   "metadata": {
    "ExecuteTime": {
     "end_time": "2022-05-04T13:31:41.234553Z",
     "start_time": "2022-05-04T13:31:41.212654Z"
    }
   },
   "outputs": [
    {
     "name": "stdout",
     "output_type": "stream",
     "text": [
      " La racine carrée du nombre 1  est 1.0\n",
      " La racine carrée du nombre 2  est 1.4142135623730951\n",
      " La racine carrée du nombre 3  est 1.7320508075688772\n",
      " La racine carrée du nombre 4  est 2.0\n",
      " La racine carrée du nombre 5  est 2.23606797749979\n",
      " La racine carrée du nombre 6  est 2.449489742783178\n",
      " La racine carrée du nombre 7  est 2.6457513110645907\n",
      " La racine carrée du nombre 8  est 2.8284271247461903\n",
      " La racine carrée du nombre 9  est 3.0\n",
      " La racine carrée du nombre 10  est 3.1622776601683795\n",
      " La racine carrée du nombre 11  est 3.3166247903554\n",
      " La racine carrée du nombre 12  est 3.4641016151377544\n",
      " La racine carrée du nombre 13  est 3.605551275463989\n",
      " La racine carrée du nombre 14  est 3.7416573867739413\n",
      " La racine carrée du nombre 15  est 3.872983346207417\n",
      " La racine carrée du nombre 16  est 4.0\n",
      " La racine carrée du nombre 17  est 4.123105625617661\n",
      " La racine carrée du nombre 18  est 4.242640687119285\n",
      " La racine carrée du nombre 19  est 4.358898943540674\n"
     ]
    }
   ],
   "source": [
    "nombres = list(range(1,20))\n",
    "racines_carrées = []\n",
    "\n",
    "# Cette boucle nous permet de créer une liste des racines carrés des nombre de 1 à 19\n",
    "for nombre in nombres:\n",
    "    racine = nombre **0.5\n",
    "    racines_carrées.append(racine)\n",
    "for nombre, racine_carre in zip(nombres, racines_carrées):\n",
    "    print(f' La racine carrée du nombre {nombre}  est {racine_carre}')"
   ]
  },
  {
   "cell_type": "markdown",
   "id": "ffff8a08",
   "metadata": {},
   "source": [
    "# Exercice 5 - Utilisez reversed() pour inverser l'ordre de lecture d'une liste.\n",
    "Que va afficher le code ci-dessous?\n",
    "\n",
    "Modifier la boucle pour obtenir le même résultat mais en utilisant le built-in reversed(..).\n",
    "\n",
    "Trouvez-vous que le code se lit plus facilement après modification?\n",
    "\n",
    "Pour votre culture générale: En programmation il est courant d'utiliser `i` comme nom de la variable d'index. Et si on a besoin d'un second index au même moment, on va lui donner le nom d'une lettre après `i`.. Donc `j` puis `k` et ainsi de suite."
   ]
  },
  {
   "cell_type": "code",
   "execution_count": 35,
   "id": "82838fdd",
   "metadata": {
    "ExecuteTime": {
     "end_time": "2022-05-04T13:42:56.700344Z",
     "start_time": "2022-05-04T13:42:56.685384Z"
    }
   },
   "outputs": [
    {
     "name": "stdout",
     "output_type": "stream",
     "text": [
      "30\n",
      "29\n",
      "28\n",
      "27\n",
      "26\n",
      "25\n",
      "24\n",
      "23\n",
      "22\n",
      "21\n",
      "20\n",
      "19\n",
      "18\n",
      "17\n",
      "16\n",
      "15\n",
      "14\n",
      "13\n",
      "12\n",
      "11\n",
      "10\n",
      "9\n",
      "8\n",
      "7\n",
      "6\n",
      "5\n",
      "4\n",
      "3\n",
      "2\n",
      "1\n",
      "0\n"
     ]
    }
   ],
   "source": [
    "# Afficher les nombres de 1 à 30 en ordre décroissant (commencer par 30)\n",
    "un_a_trente = list(range(0,30+1))\n",
    "\n",
    "for i in range(len(un_a_trente)):\n",
    "    j = -(i +1 ) # # Ici on transforme un index positif en index négatif pour commencer par la fin de la liste\n",
    "    print(un_a_trente[j])"
   ]
  },
  {
   "cell_type": "code",
   "execution_count": 43,
   "id": "41fd8b8e",
   "metadata": {
    "ExecuteTime": {
     "end_time": "2022-05-04T13:49:02.944304Z",
     "start_time": "2022-05-04T13:49:02.927350Z"
    }
   },
   "outputs": [
    {
     "name": "stdout",
     "output_type": "stream",
     "text": [
      "30\n",
      "29\n",
      "28\n",
      "27\n",
      "26\n",
      "25\n",
      "24\n",
      "23\n",
      "22\n",
      "21\n",
      "20\n",
      "19\n",
      "18\n",
      "17\n",
      "16\n",
      "15\n",
      "14\n",
      "13\n",
      "12\n",
      "11\n",
      "10\n",
      "9\n",
      "8\n",
      "7\n",
      "6\n",
      "5\n",
      "4\n",
      "3\n",
      "2\n",
      "1\n"
     ]
    }
   ],
   "source": [
    "# on crée une liste de 1 à 30\n",
    "listes= list(range(1, 31))\n",
    "\n",
    "#Afficher l'inverse de la liste \n",
    "\n",
    "for liste in reversed(listes):\n",
    "    print(liste)\n"
   ]
  },
  {
   "cell_type": "markdown",
   "id": "c878488f",
   "metadata": {},
   "source": [
    "# Exercice 6 - Utilisez .items() pour itérer sur les éléments d'un dict.\n",
    "Que va afficher le code ci-dessous? \n",
    "\n",
    "Bien que cette manière d'itérer sur les clefs et les valeurs d'un dictionnaire soit tout à fait valable, modifiez la boucle pour utiliser la méthode de dictionnaires .items() et parvenir au même résultat."
   ]
  },
  {
   "cell_type": "code",
   "execution_count": 44,
   "id": "2f88bc95",
   "metadata": {
    "ExecuteTime": {
     "end_time": "2022-05-04T13:52:34.698427Z",
     "start_time": "2022-05-04T13:52:34.690449Z"
    }
   },
   "outputs": [
    {
     "name": "stdout",
     "output_type": "stream",
     "text": [
      "Le coût du plat poisson est 100€\n",
      "Le coût du plat vege est 40€\n",
      "Le coût du plat pizza est 70€\n"
     ]
    }
   ],
   "source": [
    "menu = {'poisson' : 100,\n",
    "           'vege' : 40,\n",
    "          'pizza' : 70}\n",
    "\n",
    "for plat in menu:\n",
    "    prix = menu[plat]\n",
    "    print(f'Le coût du plat {plat} est {prix}€')"
   ]
  },
  {
   "cell_type": "code",
   "execution_count": 51,
   "id": "f82ea290",
   "metadata": {
    "ExecuteTime": {
     "end_time": "2022-05-04T13:56:09.162655Z",
     "start_time": "2022-05-04T13:56:09.147661Z"
    }
   },
   "outputs": [
    {
     "name": "stdout",
     "output_type": "stream",
     "text": [
      "Le coût du plat Poisson est 100 €\n",
      "Le coût du plat Végé est 40 €\n",
      "Le coût du plat Pizza est 70 €\n"
     ]
    }
   ],
   "source": [
    "menu = {'Poisson':100,\n",
    "       'Végé'   : 40,\n",
    "       'Pizza'  : 70,}\n",
    "\n",
    "for plat, prix in menu.items(): \n",
    "    print(f'Le coût du plat {plat} est {prix} €')"
   ]
  },
  {
   "cell_type": "markdown",
   "id": "10369ab5",
   "metadata": {},
   "source": [
    "# Exercice 7 - Utilisez `continue` pour ignorer des cas dans une boucle FOR\n",
    "Je voulais écrire un script qui me permet d'afficher le nom de tous les fichiers .mp3 que j'ai dans mes_fichiers. Pouvez-vous m'aider et corriger le bout de code s'il vous plaît? (Si possible) "
   ]
  },
  {
   "cell_type": "code",
   "execution_count": null,
   "id": "fb62ad1c",
   "metadata": {},
   "outputs": [],
   "source": [
    "# rechercher tous les fichiers .mp3\n",
    "mes_fichiers = ['musique_rock.mp3', 'fast_and_furious_18.MP4',\n",
    "                'twilight_4_le_retour.MP4', 'game_of_thrones_S1E1.mp4',\n",
    "                'musique_zumba.MP3', 'musique_techno.mp3',\n",
    "                'avengers_5.mp4', 'podcast_cool.MP3']\n",
    "for fichier in mes_fichiers:\n",
    "    ext = fichier.split('.')[-1]\n",
    "    if ext != '.MP3':\n",
    "        continue\n",
    "    print(fichier)"
   ]
  },
  {
   "cell_type": "code",
   "execution_count": 76,
   "id": "7f4df304",
   "metadata": {
    "ExecuteTime": {
     "end_time": "2022-05-04T14:29:14.526154Z",
     "start_time": "2022-05-04T14:29:14.505209Z"
    }
   },
   "outputs": [
    {
     "name": "stdout",
     "output_type": "stream",
     "text": [
      "musique_rock.mp3\n",
      "musique_zumba.MP3\n",
      "musique_techno.mp3\n",
      "podcast_cool.MP3\n"
     ]
    }
   ],
   "source": [
    "# Recherche tous les fichiers .mp3\n",
    "mes_fichiers = ['musique_rock.mp3', 'fast_and_furious_18.MP4',\n",
    "                'twilight_4_le_retour.MP4', 'game_of_thrones_S1E1.mp4',\n",
    "                'musique_zumba.MP3', 'musique_techno.mp3',\n",
    "                'avengers_5.mp4', 'podcast_cool.MP3']\n",
    "#On va dans un premier temps séparer les éléments de la liste \n",
    "\n",
    "for fichier in mes_fichiers:\n",
    "    if fichier.lower().endswith('mp3'):\n",
    "        print(fichier)"
   ]
  },
  {
   "cell_type": "markdown",
   "id": "cdc3c789",
   "metadata": {},
   "source": [
    "# Exercice 8 - We need to go deeper, les boucles FOR imbriquées.\n",
    "Souvenez-vous de l'époque fastidieuses où l'on devait apprendre les tables de multiplications?\n",
    "\n",
    "Cette époque est révolue.\n",
    "\n",
    "Le bout de code ci-dessous permet d'afficher toutes les tables de multiplications que l'on souhaite.\n",
    "\n",
    "Prenez le temps de recopier ce bout de code et d'étudier son fonctionnement.\n",
    "\n",
    "Puis essayez d'apporter les modifications permettant de répondre aux requêtes suivantes.\n",
    "\n",
    "1) Affichez les tables de multiplications de 11 à 20 plutôt que celles de 1 à 10.\n",
    "2) Affichez des tables plus grandes qui vont de 0 à 19 plutôt que de 0 à 10.\n",
    "3) Affichez le nombre dont c'est la table en deuxième plutôt qu'en premier. (Exemple: dans la table de 3, affichez \"10 x 3\" plutôt que \"3 x 10\")"
   ]
  },
  {
   "cell_type": "code",
   "execution_count": null,
   "id": "013acde5",
   "metadata": {},
   "outputs": [],
   "source": [
    "for i in range(1, 10+1):\n",
    "    print(f'Table de multiplication de {i}')\n",
    "    for j in range(10+1):\n",
    "        print(f'{i} x {j} = {i * j}')\n",
    "    print('\\n')"
   ]
  },
  {
   "cell_type": "code",
   "execution_count": 79,
   "id": "4321acc2",
   "metadata": {
    "ExecuteTime": {
     "end_time": "2022-05-04T14:36:45.966181Z",
     "start_time": "2022-05-04T14:36:45.954212Z"
    }
   },
   "outputs": [
    {
     "name": "stdout",
     "output_type": "stream",
     "text": [
      "table de multiplication de 1\n",
      "1 * 0 = 0\n",
      "1 * 1 = 1\n",
      "1 * 2 = 2\n",
      "1 * 3 = 3\n",
      "1 * 4 = 4\n",
      "1 * 5 = 5\n",
      "1 * 6 = 6\n",
      "1 * 7 = 7\n",
      "1 * 8 = 8\n",
      "1 * 9 = 9\n",
      "1 * 10 = 10\n",
      "\n",
      "table de multiplication de 2\n",
      "2 * 0 = 0\n",
      "2 * 1 = 2\n",
      "2 * 2 = 4\n",
      "2 * 3 = 6\n",
      "2 * 4 = 8\n",
      "2 * 5 = 10\n",
      "2 * 6 = 12\n",
      "2 * 7 = 14\n",
      "2 * 8 = 16\n",
      "2 * 9 = 18\n",
      "2 * 10 = 20\n",
      "\n",
      "table de multiplication de 3\n",
      "3 * 0 = 0\n",
      "3 * 1 = 3\n",
      "3 * 2 = 6\n",
      "3 * 3 = 9\n",
      "3 * 4 = 12\n",
      "3 * 5 = 15\n",
      "3 * 6 = 18\n",
      "3 * 7 = 21\n",
      "3 * 8 = 24\n",
      "3 * 9 = 27\n",
      "3 * 10 = 30\n",
      "\n",
      "table de multiplication de 4\n",
      "4 * 0 = 0\n",
      "4 * 1 = 4\n",
      "4 * 2 = 8\n",
      "4 * 3 = 12\n",
      "4 * 4 = 16\n",
      "4 * 5 = 20\n",
      "4 * 6 = 24\n",
      "4 * 7 = 28\n",
      "4 * 8 = 32\n",
      "4 * 9 = 36\n",
      "4 * 10 = 40\n",
      "\n",
      "table de multiplication de 5\n",
      "5 * 0 = 0\n",
      "5 * 1 = 5\n",
      "5 * 2 = 10\n",
      "5 * 3 = 15\n",
      "5 * 4 = 20\n",
      "5 * 5 = 25\n",
      "5 * 6 = 30\n",
      "5 * 7 = 35\n",
      "5 * 8 = 40\n",
      "5 * 9 = 45\n",
      "5 * 10 = 50\n",
      "\n",
      "table de multiplication de 6\n",
      "6 * 0 = 0\n",
      "6 * 1 = 6\n",
      "6 * 2 = 12\n",
      "6 * 3 = 18\n",
      "6 * 4 = 24\n",
      "6 * 5 = 30\n",
      "6 * 6 = 36\n",
      "6 * 7 = 42\n",
      "6 * 8 = 48\n",
      "6 * 9 = 54\n",
      "6 * 10 = 60\n",
      "\n",
      "table de multiplication de 7\n",
      "7 * 0 = 0\n",
      "7 * 1 = 7\n",
      "7 * 2 = 14\n",
      "7 * 3 = 21\n",
      "7 * 4 = 28\n",
      "7 * 5 = 35\n",
      "7 * 6 = 42\n",
      "7 * 7 = 49\n",
      "7 * 8 = 56\n",
      "7 * 9 = 63\n",
      "7 * 10 = 70\n",
      "\n",
      "table de multiplication de 8\n",
      "8 * 0 = 0\n",
      "8 * 1 = 8\n",
      "8 * 2 = 16\n",
      "8 * 3 = 24\n",
      "8 * 4 = 32\n",
      "8 * 5 = 40\n",
      "8 * 6 = 48\n",
      "8 * 7 = 56\n",
      "8 * 8 = 64\n",
      "8 * 9 = 72\n",
      "8 * 10 = 80\n",
      "\n",
      "table de multiplication de 9\n",
      "9 * 0 = 0\n",
      "9 * 1 = 9\n",
      "9 * 2 = 18\n",
      "9 * 3 = 27\n",
      "9 * 4 = 36\n",
      "9 * 5 = 45\n",
      "9 * 6 = 54\n",
      "9 * 7 = 63\n",
      "9 * 8 = 72\n",
      "9 * 9 = 81\n",
      "9 * 10 = 90\n",
      "\n",
      "table de multiplication de 10\n",
      "10 * 0 = 0\n",
      "10 * 1 = 10\n",
      "10 * 2 = 20\n",
      "10 * 3 = 30\n",
      "10 * 4 = 40\n",
      "10 * 5 = 50\n",
      "10 * 6 = 60\n",
      "10 * 7 = 70\n",
      "10 * 8 = 80\n",
      "10 * 9 = 90\n",
      "10 * 10 = 100\n",
      "\n"
     ]
    }
   ],
   "source": [
    "for i in range (1, 10+1):\n",
    "    print(f'table de multiplication de {i}')\n",
    "    \n",
    "    for j in range(10+1):\n",
    "        print(f'{i} * {j} = {i * j}')\n",
    "    print()"
   ]
  },
  {
   "cell_type": "code",
   "execution_count": null,
   "id": "058df30c",
   "metadata": {},
   "outputs": [],
   "source": []
  },
  {
   "cell_type": "code",
   "execution_count": null,
   "id": "6a47c0b1",
   "metadata": {},
   "outputs": [],
   "source": []
  },
  {
   "cell_type": "code",
   "execution_count": null,
   "id": "59c60ca7",
   "metadata": {},
   "outputs": [],
   "source": []
  },
  {
   "cell_type": "code",
   "execution_count": null,
   "id": "9c522c7e",
   "metadata": {},
   "outputs": [],
   "source": []
  },
  {
   "cell_type": "code",
   "execution_count": null,
   "id": "439158c1",
   "metadata": {},
   "outputs": [],
   "source": []
  },
  {
   "cell_type": "code",
   "execution_count": null,
   "id": "1ebf33ac",
   "metadata": {},
   "outputs": [],
   "source": []
  },
  {
   "cell_type": "code",
   "execution_count": null,
   "id": "6acdaf23",
   "metadata": {},
   "outputs": [],
   "source": []
  },
  {
   "cell_type": "code",
   "execution_count": null,
   "id": "c558df79",
   "metadata": {},
   "outputs": [],
   "source": []
  },
  {
   "cell_type": "code",
   "execution_count": null,
   "id": "80b237c2",
   "metadata": {},
   "outputs": [],
   "source": []
  },
  {
   "cell_type": "code",
   "execution_count": null,
   "id": "c4347755",
   "metadata": {},
   "outputs": [],
   "source": []
  },
  {
   "cell_type": "code",
   "execution_count": null,
   "id": "c08fe5bf",
   "metadata": {},
   "outputs": [],
   "source": []
  },
  {
   "cell_type": "code",
   "execution_count": null,
   "id": "9f52475d",
   "metadata": {},
   "outputs": [],
   "source": []
  },
  {
   "cell_type": "code",
   "execution_count": null,
   "id": "28d1a348",
   "metadata": {},
   "outputs": [],
   "source": []
  },
  {
   "cell_type": "code",
   "execution_count": null,
   "id": "79656a77",
   "metadata": {},
   "outputs": [],
   "source": []
  },
  {
   "cell_type": "code",
   "execution_count": null,
   "id": "470b2418",
   "metadata": {},
   "outputs": [],
   "source": []
  }
 ],
 "metadata": {
  "kernelspec": {
   "display_name": "Python 3",
   "language": "python",
   "name": "python3"
  },
  "language_info": {
   "codemirror_mode": {
    "name": "ipython",
    "version": 3
   },
   "file_extension": ".py",
   "mimetype": "text/x-python",
   "name": "python",
   "nbconvert_exporter": "python",
   "pygments_lexer": "ipython3",
   "version": "3.8.8"
  },
  "toc": {
   "base_numbering": 1,
   "nav_menu": {},
   "number_sections": true,
   "sideBar": true,
   "skip_h1_title": false,
   "title_cell": "Table of Contents",
   "title_sidebar": "Contents",
   "toc_cell": false,
   "toc_position": {},
   "toc_section_display": true,
   "toc_window_display": false
  }
 },
 "nbformat": 4,
 "nbformat_minor": 5
}
