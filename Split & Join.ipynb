{
 "cells": [
  {
   "cell_type": "markdown",
   "id": "c2975cee",
   "metadata": {},
   "source": [
    "# Exercice 1 - Split sans rien entre les parenthèses\n",
    "Que va afficher le code ci-dessous? \n",
    "\n",
    "Recopier puis exécuter le code pour vérifier votre réponse."
   ]
  },
  {
   "cell_type": "code",
   "execution_count": 1,
   "id": "a45bf843",
   "metadata": {
    "ExecuteTime": {
     "end_time": "2022-04-19T13:56:49.212507Z",
     "start_time": "2022-04-19T13:56:49.191564Z"
    }
   },
   "outputs": [
    {
     "name": "stdout",
     "output_type": "stream",
     "text": [
      "['lundi', 'mardi', 'mercredi', 'jeudi', 'vendredi', 'samedi', 'dimanche']\n"
     ]
    }
   ],
   "source": [
    "jours = \"lundi mardi mercredi jeudi vendredi samedi dimanche\"\n",
    "liste_jours = jours.split()\n",
    "print(liste_jours)"
   ]
  },
  {
   "cell_type": "code",
   "execution_count": 3,
   "id": "b713e932",
   "metadata": {
    "ExecuteTime": {
     "end_time": "2022-04-19T13:57:55.898954Z",
     "start_time": "2022-04-19T13:57:55.882228Z"
    }
   },
   "outputs": [
    {
     "name": "stdout",
     "output_type": "stream",
     "text": [
      "lundi-mardi-mercredi-jeudi-vendredi-samedi-dimanche\n"
     ]
    }
   ],
   "source": [
    "jours= '-'.join(liste_jours)\n",
    "print(jours)"
   ]
  },
  {
   "cell_type": "markdown",
   "id": "b907ac3c",
   "metadata": {},
   "source": [
    "# Exercice 2 - Comprendre l'utilisation de split & join\n",
    "\n",
    "\n",
    "Le but de ce code est d'afficher les jours séparés par des espaces.\n",
    "\n",
    "Il va falloir faire des changements lors de l'appel de split() pour mettre le bon caractère entre les parenthèses, ainsi que lors de l'appel de join().\n",
    "\n",
    "S'il vous plaît, recopier le code manuellement puis exécuter le pour identifier où est le problème.\n",
    "\n",
    "Puis corrigez le de manière à afficher les jours de la semaine séparés par des espaces."
   ]
  },
  {
   "cell_type": "code",
   "execution_count": null,
   "id": "e894bc32",
   "metadata": {
    "ExecuteTime": {
     "end_time": "2022-04-19T13:59:57.936425Z",
     "start_time": "2022-04-19T13:59:57.931478Z"
    }
   },
   "outputs": [],
   "source": [
    "jours = \"lundi-mardi-mercredi-jeudi-vendredi-samedi-dimanche\"\n",
    "# liste_jours = jours.split()\n",
    "# print(liste_jours)"
   ]
  },
  {
   "cell_type": "code",
   "execution_count": 7,
   "id": "da7b7862",
   "metadata": {
    "ExecuteTime": {
     "end_time": "2022-04-19T14:01:37.279245Z",
     "start_time": "2022-04-19T14:01:37.259327Z"
    }
   },
   "outputs": [
    {
     "name": "stdout",
     "output_type": "stream",
     "text": [
      "['lundi', 'mardi', 'mercredi', 'jeudi', 'vendredi', 'samedi', 'dimanche']\n"
     ]
    }
   ],
   "source": [
    "# on va séparer par des espaces et retirer le \"-\"\n",
    "liste_jours = jours.split('-')\n",
    "print(liste_jours)"
   ]
  },
  {
   "cell_type": "code",
   "execution_count": 8,
   "id": "d876578f",
   "metadata": {
    "ExecuteTime": {
     "end_time": "2022-04-19T14:03:41.103124Z",
     "start_time": "2022-04-19T14:03:41.086205Z"
    }
   },
   "outputs": [
    {
     "name": "stdout",
     "output_type": "stream",
     "text": [
      "lundimardimercredijeudivendredisamedidimanche\n"
     ]
    }
   ],
   "source": [
    "jours = ''.join(liste_jours)\n",
    "print(jours)"
   ]
  },
  {
   "cell_type": "code",
   "execution_count": 9,
   "id": "440a5f57",
   "metadata": {
    "ExecuteTime": {
     "end_time": "2022-04-19T14:04:42.375122Z",
     "start_time": "2022-04-19T14:04:42.355146Z"
    }
   },
   "outputs": [
    {
     "name": "stdout",
     "output_type": "stream",
     "text": [
      "lundi mardi mercredi jeudi vendredi samedi dimanche\n"
     ]
    }
   ],
   "source": [
    "# On veut rajouter les espaces dans ce bout de code \n",
    "jours = ' '.join(liste_jours)\n",
    "print(jours)"
   ]
  },
  {
   "cell_type": "markdown",
   "id": "420d3a92",
   "metadata": {},
   "source": [
    "# Exercice 3 - Découverte des fonctionnalités avancées des listes\n",
    "Prenez votre temps pour recopier ce bout de code et pour essayer de prédire ce qu'il va afficher.\n",
    "\n",
    "Dans ce bout de code, je vous présente une fonctionnalité des listes que l'on a déjà étudié pour les chaînes de caractères... le list indexing.\n",
    "\n",
    "Cette exercice est pour vous donner un avant goût de ce qui nous attend dans la prochaine leçon.\n",
    "\n",
    "Prenez donc votre temps et essayez d'ajouter des commentaires au dessus de chaque ligne pour expliquer ce que la ligne fait."
   ]
  },
  {
   "cell_type": "code",
   "execution_count": 16,
   "id": "ed0c5fc8",
   "metadata": {
    "ExecuteTime": {
     "end_time": "2022-04-19T14:13:34.710971Z",
     "start_time": "2022-04-19T14:13:34.691754Z"
    }
   },
   "outputs": [
    {
     "name": "stdout",
     "output_type": "stream",
     "text": [
      "exe\n",
      "exe\n"
     ]
    }
   ],
   "source": [
    "nom_fichier1 = \"pas_de_la_musique.mp3.exe\"\n",
    "nom_fichier2 = \"ma_musique.mp3\"\n",
    "\n",
    "# Ici on souhaite récuper le bout de texte \"exe\"\n",
    "# Première méthode:\n",
    "    \n",
    "fichier1_extension = nom_fichier1[-3:]\n",
    "print(fichier1_extension)\n",
    "\n",
    "# Deuxième méthode\n",
    "fichier1_extension2 = nom_fichier1.split(\".\")[-1]\n",
    "print(fichier1_extension2)"
   ]
  },
  {
   "cell_type": "code",
   "execution_count": 18,
   "id": "f0237dbb",
   "metadata": {
    "ExecuteTime": {
     "end_time": "2022-04-19T14:16:15.730411Z",
     "start_time": "2022-04-19T14:16:15.722435Z"
    }
   },
   "outputs": [
    {
     "name": "stdout",
     "output_type": "stream",
     "text": [
      "mp3\n",
      "mp3\n"
     ]
    }
   ],
   "source": [
    "# Ici on souhaite récuper le bout de texte \"mp3\"\n",
    "# Première méthode:\n",
    "fichier2_extension = nom_fichier2[-3:]\n",
    "print(fichier2_extension)\n",
    "\n",
    "# Deuxième méthode\n",
    "fichier2_extension2 = nom_fichier2.split('.')[-1]\n",
    "print(fichier2_extension2)"
   ]
  },
  {
   "cell_type": "code",
   "execution_count": 22,
   "id": "1b0b6af5",
   "metadata": {
    "ExecuteTime": {
     "end_time": "2022-04-19T14:20:05.146321Z",
     "start_time": "2022-04-19T14:20:05.138303Z"
    }
   },
   "outputs": [
    {
     "name": "stdout",
     "output_type": "stream",
     "text": [
      "fichier 1 est un mp3? False\n",
      "Fichier 2 est un mp3? True\n"
     ]
    }
   ],
   "source": [
    "print('fichier 1 est un mp3?', fichier1_extension =='mp3')\n",
    "print('Fichier 2 est un mp3?', fichier2_extension == 'mp3')"
   ]
  },
  {
   "cell_type": "code",
   "execution_count": null,
   "id": "70f52c44",
   "metadata": {},
   "outputs": [],
   "source": []
  }
 ],
 "metadata": {
  "kernelspec": {
   "display_name": "Python 3",
   "language": "python",
   "name": "python3"
  },
  "language_info": {
   "codemirror_mode": {
    "name": "ipython",
    "version": 3
   },
   "file_extension": ".py",
   "mimetype": "text/x-python",
   "name": "python",
   "nbconvert_exporter": "python",
   "pygments_lexer": "ipython3",
   "version": "3.8.8"
  },
  "toc": {
   "base_numbering": 1,
   "nav_menu": {},
   "number_sections": true,
   "sideBar": true,
   "skip_h1_title": false,
   "title_cell": "Table of Contents",
   "title_sidebar": "Contents",
   "toc_cell": false,
   "toc_position": {},
   "toc_section_display": true,
   "toc_window_display": false
  }
 },
 "nbformat": 4,
 "nbformat_minor": 5
}
