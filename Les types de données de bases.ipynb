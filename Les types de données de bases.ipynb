{
 "cells": [
  {
   "cell_type": "code",
   "execution_count": 3,
   "id": "84860daa",
   "metadata": {},
   "outputs": [
    {
     "data": {
      "text/plain": [
       "\"Exercice 1 - Déclaration d'objets de type int et opérations mathématiques\""
      ]
     },
     "execution_count": 3,
     "metadata": {},
     "output_type": "execute_result"
    }
   ],
   "source": [
    "'''Exercice 1 - Déclaration d'objets de type int et opérations mathématiques'''"
   ]
  },
  {
   "cell_type": "code",
   "execution_count": 4,
   "id": "08124309",
   "metadata": {},
   "outputs": [
    {
     "name": "stdout",
     "output_type": "stream",
     "text": [
      "5 <class 'int'>\n",
      "10 <class 'int'>\n",
      "15 <class 'int'>\n",
      "50 <class 'int'>\n",
      "1 <class 'int'>\n",
      "0.5 <class 'float'>\n"
     ]
    }
   ],
   "source": [
    "a = 5\n",
    "b = 10\n",
    "somme = a + b\n",
    "produit = a * b\n",
    "difference = a - 4\n",
    "quotient = a / b\n",
    "\n",
    "print(a, type(a))\n",
    "print(b, type(b))\n",
    "print(somme, type(somme))\n",
    "print(produit, type(produit))\n",
    "print(difference, type(difference))\n",
    "print(quotient, type(quotient))"
   ]
  },
  {
   "cell_type": "code",
   "execution_count": 1,
   "id": "3eaeeb85",
   "metadata": {},
   "outputs": [
    {
     "data": {
      "text/plain": [
       "\"Exercice 2 - Déclaration d'objets de type float \""
      ]
     },
     "execution_count": 1,
     "metadata": {},
     "output_type": "execute_result"
    }
   ],
   "source": [
    "'''Exercice 2 - Déclaration d'objets de type float '''"
   ]
  },
  {
   "cell_type": "code",
   "execution_count": 2,
   "id": "aee7de74",
   "metadata": {},
   "outputs": [
    {
     "name": "stdout",
     "output_type": "stream",
     "text": [
      "0.005 <class 'float'>\n",
      "1.0 <class 'float'>\n",
      "12.1 <class 'float'>\n",
      "12.0 <class 'float'>\n"
     ]
    }
   ],
   "source": [
    "a = .005\n",
    "b = 1.\n",
    "c = 12.10\n",
    "d = 12.0\n",
    "print(a, type(a))\n",
    "print(b, type(b))\n",
    "print(c, type(c))\n",
    "print(d, type(d))"
   ]
  },
  {
   "cell_type": "code",
   "execution_count": 3,
   "id": "1c9b18c3",
   "metadata": {},
   "outputs": [
    {
     "data": {
      "text/plain": [
       "'Exercice 3 - Opérations mathématiques mélangeant float et int'"
      ]
     },
     "execution_count": 3,
     "metadata": {},
     "output_type": "execute_result"
    }
   ],
   "source": [
    "'''Exercice 3 - Opérations mathématiques mélangeant float et int'''"
   ]
  },
  {
   "cell_type": "code",
   "execution_count": 4,
   "id": "cd061f88",
   "metadata": {},
   "outputs": [
    {
     "name": "stdout",
     "output_type": "stream",
     "text": [
      "15.0 <class 'float'>\n",
      "50.0 <class 'float'>\n",
      "5.0 <class 'float'>\n",
      "5.0 <class 'float'>\n"
     ]
    }
   ],
   "source": [
    "n_entier = 10\n",
    "n_virgule = 5.0\n",
    "somme = n_entier + n_virgule\n",
    "produit = n_entier * n_virgule\n",
    "différence = n_entier - n_virgule\n",
    "quotient = n_entier - n_virgule\n",
    "\n",
    "print(somme, type(somme))\n",
    "print(produit, type(produit))\n",
    "print(différence, type(différence))\n",
    "print(quotient, type(quotient))\n",
    "\n"
   ]
  },
  {
   "cell_type": "code",
   "execution_count": 5,
   "id": "989be695",
   "metadata": {},
   "outputs": [
    {
     "data": {
      "text/plain": [
       "\"Exercice 4 - Conversion d'un objet float et un objet de type int\""
      ]
     },
     "execution_count": 5,
     "metadata": {},
     "output_type": "execute_result"
    }
   ],
   "source": [
    "'''Exercice 4 - Conversion d'un objet float et un objet de type int'''"
   ]
  },
  {
   "cell_type": "code",
   "execution_count": 9,
   "id": "9d56f773",
   "metadata": {},
   "outputs": [
    {
     "data": {
      "text/plain": [
       "'Script 4.1 - conversion avec la fonction int()'"
      ]
     },
     "execution_count": 9,
     "metadata": {},
     "output_type": "execute_result"
    }
   ],
   "source": [
    "'''Script 4.1 - conversion avec la fonction int()'''"
   ]
  },
  {
   "cell_type": "code",
   "execution_count": 8,
   "id": "0c572363",
   "metadata": {},
   "outputs": [
    {
     "name": "stdout",
     "output_type": "stream",
     "text": [
      "4.9 4\n",
      "4.51 4\n",
      "4.5 4\n",
      "4.1 4\n"
     ]
    }
   ],
   "source": [
    "a = 4.9 \n",
    "b = 4.51\n",
    "c = 4.5\n",
    "d = 4.49\n",
    "d = 4.1\n",
    "\n",
    "print(a, int(a))\n",
    "print(b, int(b))\n",
    "print(c, int(c))\n",
    "print(d, int(d))"
   ]
  },
  {
   "cell_type": "code",
   "execution_count": 10,
   "id": "d3c82993",
   "metadata": {},
   "outputs": [
    {
     "data": {
      "text/plain": [
       "\"Script 4.2 - conversion à l'aide la fonction round()\""
      ]
     },
     "execution_count": 10,
     "metadata": {},
     "output_type": "execute_result"
    }
   ],
   "source": [
    "'''Script 4.2 - conversion à l'aide la fonction round()'''"
   ]
  },
  {
   "cell_type": "code",
   "execution_count": 11,
   "id": "e95584b5",
   "metadata": {},
   "outputs": [
    {
     "name": "stdout",
     "output_type": "stream",
     "text": [
      "4.9 5\n",
      "4.51 5\n",
      "4.5 4\n",
      "4.1 4\n"
     ]
    }
   ],
   "source": [
    "a = 4.9 \n",
    "b = 4.51\n",
    "c = 4.5\n",
    "d = 4.49\n",
    "d = 4.1\n",
    "\n",
    "print(a, round(a))\n",
    "print(b, round(b))\n",
    "print(c, round(c))\n",
    "print(d, round(d))"
   ]
  },
  {
   "cell_type": "code",
   "execution_count": 12,
   "id": "fc1ac2af",
   "metadata": {},
   "outputs": [
    {
     "data": {
      "text/plain": [
       "'Exercice 5 - Déclarations de chaines de caractères str'"
      ]
     },
     "execution_count": 12,
     "metadata": {},
     "output_type": "execute_result"
    }
   ],
   "source": [
    "'''Exercice 5 - Déclarations de chaines de caractères str'''"
   ]
  },
  {
   "cell_type": "code",
   "execution_count": 13,
   "id": "3e7c1f85",
   "metadata": {},
   "outputs": [
    {
     "name": "stdout",
     "output_type": "stream",
     "text": [
      "Hello world <class 'str'>\n",
      "Hello world <class 'str'>\n"
     ]
    }
   ],
   "source": [
    "#Script 5.1 - Déclaration de chaînes de caractères mono-lignes \n",
    "single_quotes = 'Hello world'\n",
    "double_quotes = \"Hello world\"\n",
    "\n",
    "print( single_quotes, type(single_quotes))\n",
    "print(double_quotes, type(double_quotes))"
   ]
  },
  {
   "cell_type": "code",
   "execution_count": 14,
   "id": "fdde2148",
   "metadata": {},
   "outputs": [
    {
     "name": "stdout",
     "output_type": "stream",
     "text": [
      "\n",
      "Hello world\n",
      "\n",
      "Hello world <class 'str'>\n",
      "\n",
      "\n",
      "Hello world\n",
      "\n",
      "Hello world <class 'str'>\n"
     ]
    }
   ],
   "source": [
    "#Script 5.2 - Déclaration de chaînes de caractères multi-lignes \n",
    "triple_single_quotes = '''\n",
    "Hello world\n",
    "\n",
    "Hello world'''\n",
    "\n",
    "print(triple_single_quotes, type(triple_single_quotes))\n",
    "\n",
    "triple_double_quotes = \"\"\"\n",
    "\n",
    "Hello world\n",
    "\n",
    "Hello world\"\"\"\n",
    "\n",
    "print(triple_double_quotes, type(triple_double_quotes))"
   ]
  },
  {
   "cell_type": "code",
   "execution_count": 15,
   "id": "cb57b4ea",
   "metadata": {},
   "outputs": [
    {
     "data": {
      "text/plain": [
       "'Exercice 6 - Séquence échappement & Backslash'"
      ]
     },
     "execution_count": 15,
     "metadata": {},
     "output_type": "execute_result"
    }
   ],
   "source": [
    "'''Exercice 6 - Séquence échappement & Backslash'''"
   ]
  },
  {
   "cell_type": "code",
   "execution_count": 17,
   "id": "55a2bd60",
   "metadata": {},
   "outputs": [
    {
     "name": "stdout",
     "output_type": "stream",
     "text": [
      "Une ligne\n",
      "Deux lignes\n"
     ]
    }
   ],
   "source": [
    "# Comment puis-je faire pour sauter une ligne à l'intérieur d'une str mono-ligne?\n",
    "texte_multiligne = \"Une ligne\\nDeux lignes\"\n",
    "print(texte_multiligne)\n",
    "\n",
    "#On met une \\n"
   ]
  },
  {
   "cell_type": "code",
   "execution_count": 21,
   "id": "604d3be6",
   "metadata": {},
   "outputs": [
    {
     "name": "stdout",
     "output_type": "stream",
     "text": [
      "Et là je met des \"doubles quotes\" dans ma string!\n"
     ]
    }
   ],
   "source": [
    "#Si je déclare un str avec des guillemets doubles, comment puis-je y intégrer du texte qui contient une paire de guillemet double?\n",
    "texte_echape_1 = \"Et là je met des \\\"doubles quotes\\\" dans ma string!\"\n",
    "print(texte_echape_1)"
   ]
  },
  {
   "cell_type": "code",
   "execution_count": 20,
   "id": "03099561",
   "metadata": {},
   "outputs": [
    {
     "name": "stdout",
     "output_type": "stream",
     "text": [
      "Il n'y a que des simples quotes dans c'ette ligne de code, n'est ce pas?\n"
     ]
    }
   ],
   "source": [
    "#Si je déclare un str avec des guillemets simples, comment puis-je y intégrer du texte qui contient un guillemet simple (ou apostrophe)?\n",
    "texte_echape_2 = 'Il n\\'y a que des simples quotes dans c\\'ette ligne de code, n\\'est ce pas?'\n",
    "print(texte_echape_2)\n",
    "\n",
    "# on met n\\"
   ]
  },
  {
   "cell_type": "code",
   "execution_count": 22,
   "id": "5076ba44",
   "metadata": {},
   "outputs": [
    {
     "data": {
      "text/plain": [
       "'Exercice 7 - Raw Strings'"
      ]
     },
     "execution_count": 22,
     "metadata": {},
     "output_type": "execute_result"
    }
   ],
   "source": [
    "'''Exercice 7 - Raw Strings'''"
   ]
  },
  {
   "cell_type": "raw",
   "id": "892af8f6",
   "metadata": {},
   "source": [
    "texte_échappé_raw = r'C:\\Windows\\Users\\nom_dossier\\nom_fichier.txt'\n",
    "mettre le r pour contrer le \\"
   ]
  },
  {
   "cell_type": "code",
   "execution_count": 23,
   "id": "8dd99a3a",
   "metadata": {},
   "outputs": [
    {
     "data": {
      "text/plain": [
       "'Exercice 8 - Déclaration de list'"
      ]
     },
     "execution_count": 23,
     "metadata": {},
     "output_type": "execute_result"
    }
   ],
   "source": [
    "'''Exercice 8 - Déclaration de list'''"
   ]
  },
  {
   "cell_type": "code",
   "execution_count": 24,
   "id": "01146e40",
   "metadata": {},
   "outputs": [
    {
     "name": "stdout",
     "output_type": "stream",
     "text": [
      "[] <class 'list'>\n",
      "[] <class 'list'>\n",
      "[1, 2, 3, 'soleil'] <class 'list'>\n"
     ]
    }
   ],
   "source": [
    "une_liste = list()\n",
    "une_autre_liste = []\n",
    "encore_une_liste = [1, 2,3,\"soleil\"]\n",
    "\n",
    "print(une_liste, type(une_liste))\n",
    "print(une_autre_liste, type(une_autre_liste))\n",
    "print(encore_une_liste, type(encore_une_liste))\n",
    "\n"
   ]
  },
  {
   "cell_type": "code",
   "execution_count": 25,
   "id": "305c9084",
   "metadata": {},
   "outputs": [
    {
     "data": {
      "text/plain": [
       "'Exercice 9 - Déclaration de booléen'"
      ]
     },
     "execution_count": 25,
     "metadata": {},
     "output_type": "execute_result"
    }
   ],
   "source": [
    "'''Exercice 9 - Déclaration de booléen'''"
   ]
  },
  {
   "cell_type": "code",
   "execution_count": 26,
   "id": "a9b1fd3c",
   "metadata": {},
   "outputs": [
    {
     "name": "stdout",
     "output_type": "stream",
     "text": [
      "True <class 'bool'>\n",
      "False <class 'bool'>\n"
     ]
    }
   ],
   "source": [
    "vrai = True\n",
    "faux = False\n",
    "\n",
    "print(vrai, type(vrai))\n",
    "print(faux, type(faux))"
   ]
  },
  {
   "cell_type": "code",
   "execution_count": 27,
   "id": "df808c2a",
   "metadata": {},
   "outputs": [
    {
     "data": {
      "text/plain": [
       "'Exercice 10 - True et False sont des 1 et 0 déguisés'"
      ]
     },
     "execution_count": 27,
     "metadata": {},
     "output_type": "execute_result"
    }
   ],
   "source": [
    "'''Exercice 10 - True et False sont des 1 et 0 déguisés'''"
   ]
  },
  {
   "cell_type": "code",
   "execution_count": 28,
   "id": "0c605ab9",
   "metadata": {},
   "outputs": [
    {
     "name": "stdout",
     "output_type": "stream",
     "text": [
      "3\n",
      "0\n",
      "2\n",
      "1\n"
     ]
    }
   ],
   "source": [
    "print(True + True + True)\n",
    "print(False + False + False)\n",
    "print(True + True + False)\n",
    "print(False + False + True)"
   ]
  },
  {
   "cell_type": "code",
   "execution_count": 29,
   "id": "3bfb2f3f",
   "metadata": {},
   "outputs": [
    {
     "data": {
      "text/plain": [
       "'Exercice 11 - Évaluation booléenne de différents objets '"
      ]
     },
     "execution_count": 29,
     "metadata": {},
     "output_type": "execute_result"
    }
   ],
   "source": [
    "'''Exercice 11 - Évaluation booléenne de différents objets '''"
   ]
  },
  {
   "cell_type": "code",
   "execution_count": 30,
   "id": "c62304fb",
   "metadata": {},
   "outputs": [
    {
     "name": "stdout",
     "output_type": "stream",
     "text": [
      "[] False\n",
      " False\n",
      "[1, 2] True\n",
      "hey True\n",
      "0 False\n",
      "-0.01 True\n"
     ]
    }
   ],
   "source": [
    "liste_vide = []\n",
    "string_vide = ''\n",
    "liste_non_vide = [1,2]\n",
    "string_non_vide = 'hey'\n",
    "zéro = 0\n",
    "pas_zero = -0.01\n",
    "\n",
    "print(liste_vide, bool(liste_vide))\n",
    "print(string_vide, bool(string_vide))\n",
    "print(liste_non_vide, bool(liste_non_vide))\n",
    "print(string_non_vide, bool(string_non_vide))\n",
    "print(zéro, bool(zéro))\n",
    "print(pas_zero, bool(pas_zero))\n",
    "\n",
    "\n",
    "\n"
   ]
  },
  {
   "cell_type": "code",
   "execution_count": null,
   "id": "298e0bd2",
   "metadata": {},
   "outputs": [],
   "source": []
  }
 ],
 "metadata": {
  "kernelspec": {
   "display_name": "Python 3",
   "language": "python",
   "name": "python3"
  },
  "language_info": {
   "codemirror_mode": {
    "name": "ipython",
    "version": 3
   },
   "file_extension": ".py",
   "mimetype": "text/x-python",
   "name": "python",
   "nbconvert_exporter": "python",
   "pygments_lexer": "ipython3",
   "version": "3.8.8"
  }
 },
 "nbformat": 4,
 "nbformat_minor": 5
}
