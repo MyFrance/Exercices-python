{
 "cells": [
  {
   "cell_type": "markdown",
   "id": "2687f3f4",
   "metadata": {},
   "source": [
    "# Exercice 1 - Commande dans un restaurant (f-string)\n",
    "Que va afficher le code ci-dessous? \n",
    "\n",
    "Recopier le code à la main puis exécutez le pour vérifier votre réponse.\n",
    "\n",
    "Ensuite modifier le code pour commander du Poisson et de l'Eau Minéral."
   ]
  },
  {
   "cell_type": "code",
   "execution_count": null,
   "id": "ff65a5e2",
   "metadata": {},
   "outputs": [],
   "source": []
  },
  {
   "cell_type": "code",
   "execution_count": 1,
   "id": "450676df",
   "metadata": {
    "ExecuteTime": {
     "end_time": "2022-04-19T09:16:41.638173Z",
     "start_time": "2022-04-19T09:16:41.628199Z"
    }
   },
   "outputs": [
    {
     "name": "stdout",
     "output_type": "stream",
     "text": [
      " je prendrai le POULET avec comme boisson l'EAU PETILLANTE s'il vous plaît\n"
     ]
    }
   ],
   "source": [
    "plat_choix1 = \"POULET\"\n",
    "plat_choix2 = \"POISSON\"\n",
    "boisson_choix1 = \"EAU PETILLANTE\"\n",
    "boisson_choix2 = \"EAU MINERALE\"\n",
    "# passer la commande \n",
    "commande = f' je prendrai le {plat_choix1} avec comme boisson l\\'{boisson_choix1} s\\'il vous plaît'\n",
    "print(commande)"
   ]
  },
  {
   "cell_type": "markdown",
   "id": "2020fb83",
   "metadata": {},
   "source": [
    "# Exercice 2 - Mettre une string en lettres minuscule (dans une f-string)\n",
    "Recopier le code ci-dessous, avec les commentaires, puis modifier le code pour que les choix s'affichent en minuscule lors du passage de la commande.\n",
    "\n",
    "Vous pouvez vous servir de la string method .upper() dont vous pourrez trouver la documentation officielle."
   ]
  },
  {
   "cell_type": "code",
   "execution_count": 2,
   "id": "ad78ec01",
   "metadata": {
    "ExecuteTime": {
     "end_time": "2022-04-19T09:16:41.654129Z",
     "start_time": "2022-04-19T09:16:41.640168Z"
    }
   },
   "outputs": [
    {
     "name": "stdout",
     "output_type": "stream",
     "text": [
      "je prendrai le poulet avec comme boisson de l'eau petillante s'il vous plaît\n"
     ]
    }
   ],
   "source": [
    "commande = f'je prendrai le {plat_choix1.lower()} avec comme boisson de l\\'{boisson_choix1.lower()} s\\'il vous plaît'\n",
    "print(commande)"
   ]
  },
  {
   "cell_type": "markdown",
   "id": "7567eb5b",
   "metadata": {
    "ExecuteTime": {
     "end_time": "2022-04-19T07:42:19.711458Z",
     "start_time": "2022-04-19T07:42:19.693466Z"
    }
   },
   "source": [
    "# Exercice 3 - Commande dans un restaurant (template & format)\n",
    "Que va afficher le code ci-dessous? \n",
    "\n",
    "Recopier le code à la main puis exécutez le pour vérifier votre réponse.\n",
    "\n",
    "Ensuite modifier le code pour commander du Poisson et de l'Eau Pétillante"
   ]
  },
  {
   "cell_type": "code",
   "execution_count": 3,
   "id": "9c3a1875",
   "metadata": {
    "ExecuteTime": {
     "end_time": "2022-04-19T09:16:41.669456Z",
     "start_time": "2022-04-19T09:16:41.656130Z"
    }
   },
   "outputs": [
    {
     "name": "stdout",
     "output_type": "stream",
     "text": [
      "je prendrai le POULET avec comme boisson de l'EAU PETILLANTE s'il vous plaît\n",
      "je prendrai le POISSON avec comme boisson de l'EAU PETILLANTE s'il vous plaît\n"
     ]
    }
   ],
   "source": [
    "template_commande = 'je prendrai le {plat} avec comme boisson de l\\'{boisson} s\\'il vous plaît'\n",
    "ma_commande = template_commande.format(plat= plat_choix1, boisson = boisson_choix1)\n",
    "print(ma_commande)\n",
    "ma_commande = template_commande.format(plat = plat_choix2, boisson = boisson_choix1)\n",
    "print(ma_commande)"
   ]
  },
  {
   "cell_type": "markdown",
   "id": "4309cd16",
   "metadata": {},
   "source": [
    "# Exercice 4 - Mettre la première lettre en majuscule et le reste en minuscule\n",
    "Que va afficher le code ci-dessous? \n",
    "\n",
    "Prenez le temps de le recopier puis de l'exécuter pour vérifier votre réponse.\n",
    "\n",
    "Ensuite modifier la valeur de la variable prénom pour qu'elle contienne le votre. Exécutez le code en essayant différentes manières d'écrire votre prénom. (exemple: 'RéMi', 'réMI' 'Rémi', 'réMi')\n",
    "\n",
    "Que constatez-vous? \n",
    "\n",
    "Qu'est ce que ce bout de code permet de faire?\n",
    "\n",
    "Votre objectif est de modifier les commentaires au dessus de chaque ligne de code pour expliquer ce que chaque ligne fait clairement."
   ]
  },
  {
   "cell_type": "code",
   "execution_count": 4,
   "id": "7dd46b34",
   "metadata": {
    "ExecuteTime": {
     "end_time": "2022-04-19T09:16:41.696047Z",
     "start_time": "2022-04-19T09:16:41.670539Z"
    }
   },
   "outputs": [
    {
     "name": "stdout",
     "output_type": "stream",
     "text": [
      "Rémi\n",
      "cette ligne affiche Rémi\n"
     ]
    }
   ],
   "source": [
    "# Que fait cette ligne?\n",
    "prenom = 'Rémi'\n",
    "print(prenom)\n",
    "\n",
    "que_fait_cette_ligne = \"cette ligne affiche {affiche}\"\n",
    "cette_ligne = que_fait_cette_ligne.format(affiche = prenom)\n",
    "print(cette_ligne)"
   ]
  },
  {
   "cell_type": "code",
   "execution_count": 5,
   "id": "d7dac5b4",
   "metadata": {
    "ExecuteTime": {
     "end_time": "2022-04-19T09:16:41.709180Z",
     "start_time": "2022-04-19T09:16:41.696983Z"
    }
   },
   "outputs": [
    {
     "name": "stdout",
     "output_type": "stream",
     "text": [
      "Cette ligne affiche  la première lettre du prénom Rémi en majuscule\n"
     ]
    }
   ],
   "source": [
    "première_lettre = prenom[0].upper()\n",
    "description = \"Cette ligne affiche  {} du {} en {}\"\n",
    "cette_ligne = description.format('la première lettre', 'prénom Rémi', \"majuscule\")\n",
    "print(cette_ligne)"
   ]
  },
  {
   "cell_type": "code",
   "execution_count": 6,
   "id": "f314731d",
   "metadata": {
    "ExecuteTime": {
     "end_time": "2022-04-19T09:16:41.725616Z",
     "start_time": "2022-04-19T09:16:41.709180Z"
    }
   },
   "outputs": [
    {
     "name": "stdout",
     "output_type": "stream",
     "text": [
      "émi\n",
      "Cette ligne affiche  le reste des lettres du prénom Rémi en miniscucle\n"
     ]
    }
   ],
   "source": [
    "reste_du_prenom = prenom[1:].lower()\n",
    "print(reste_du_prenom)\n",
    "cette_ligne = description.format(\"le reste des lettres\", \"prénom Rémi\", \"miniscucle\" )\n",
    "print(cette_ligne)"
   ]
  },
  {
   "cell_type": "code",
   "execution_count": 7,
   "id": "57dc1055",
   "metadata": {
    "ExecuteTime": {
     "end_time": "2022-04-19T09:16:41.745363Z",
     "start_time": "2022-04-19T09:16:41.725616Z"
    }
   },
   "outputs": [
    {
     "name": "stdout",
     "output_type": "stream",
     "text": [
      "Rémi\n",
      "Cette ligne affiche  la concaténation du du R et émi en du prénom Rémi\n"
     ]
    }
   ],
   "source": [
    "prenom_premiere_lettre_majuscule = première_lettre + reste_du_prenom\n",
    "print(prenom_premiere_lettre_majuscule)\n",
    "cette_ligne = description.format(\"la concaténation\", \"du R et émi\", \"du prénom Rémi\")\n",
    "print(cette_ligne)"
   ]
  },
  {
   "cell_type": "markdown",
   "id": "9e875edf",
   "metadata": {},
   "source": [
    "# Exercice 5 - Une méthode équivalente pour obtenir un prénom en initiale majuscule\n",
    "Dans cet exercice on va apprendre à se simplifier la vie en cherchant une solution dans la documentation.\n",
    "\n",
    "Il existe une string method qui permet d'obtenir un résultat équivalent au code ci-dessous.\n",
    "\n",
    "Il s'agit soit de la méthode title() soit de la méthode swapcase().\n",
    "\n",
    "Lisez la documentation de title()\n",
    "ICI et la documentation de swapcase()\n",
    "LÀ.\n",
    "\n",
    "Puis essayez de modifier le code pour utiliser la bonne méthode et obtenir le même résultat en moins de lignes de code."
   ]
  },
  {
   "cell_type": "code",
   "execution_count": 8,
   "id": "f2177a7a",
   "metadata": {
    "ExecuteTime": {
     "end_time": "2022-04-19T09:16:41.760522Z",
     "start_time": "2022-04-19T09:16:41.746434Z"
    }
   },
   "outputs": [
    {
     "name": "stdout",
     "output_type": "stream",
     "text": [
      "R\n"
     ]
    }
   ],
   "source": [
    "prénom = 'REMI'\n",
    "première_lettre = prénom[0].title()\n",
    "print(première_lettre)"
   ]
  },
  {
   "cell_type": "code",
   "execution_count": 9,
   "id": "0c209b68",
   "metadata": {
    "ExecuteTime": {
     "end_time": "2022-04-19T09:16:41.777770Z",
     "start_time": "2022-04-19T09:16:41.760522Z"
    }
   },
   "outputs": [
    {
     "name": "stdout",
     "output_type": "stream",
     "text": [
      "ÉMI\n"
     ]
    }
   ],
   "source": [
    "reste_prénom = prenom[1:].swapcase()\n",
    "print(reste_prénom)"
   ]
  },
  {
   "cell_type": "code",
   "execution_count": 10,
   "id": "0cc2b60c",
   "metadata": {
    "ExecuteTime": {
     "end_time": "2022-04-19T09:16:41.794468Z",
     "start_time": "2022-04-19T09:16:41.779062Z"
    }
   },
   "outputs": [
    {
     "name": "stdout",
     "output_type": "stream",
     "text": [
      "Rémi\n"
     ]
    }
   ],
   "source": [
    "prenom_premiere_lettre_majuscule = première_lettre.title() + reste_du_prenom\n",
    "print(prenom_premiere_lettre_majuscule)"
   ]
  },
  {
   "cell_type": "markdown",
   "id": "099e1058",
   "metadata": {},
   "source": [
    "# Exercice 7 - Supprimez les espaces surperflus\n",
    "Dans le code ci-dessous nous rencontrons un problème car il y'a des espaces en trop dans l'email donné par l'utilisateur.\n",
    "\n",
    "Après avoir recopier le code manuellement et l'avoir exécutez pour constater le problème...\n",
    "\n",
    "Utilisez la méthode strip() pour résoudre le bug.\n",
    "\n",
    "Vous pouvez trouver la documentation officielle de la méthode strip() en cliquant ICI."
   ]
  },
  {
   "cell_type": "code",
   "execution_count": 11,
   "id": "44cfa7c4",
   "metadata": {
    "ExecuteTime": {
     "end_time": "2022-04-19T09:16:41.809781Z",
     "start_time": "2022-04-19T09:16:41.796451Z"
    }
   },
   "outputs": [
    {
     "name": "stdout",
     "output_type": "stream",
     "text": [
      "ma_super_adresse_mail@gmail.com\n"
     ]
    }
   ],
   "source": [
    "email_donné_par_lutilisateur = '    Ma_Super_Adresse_Mail@gmail.COM    '\n",
    "email_base_de_donnée = 'ma_super_adresse_mail@gmail.com'\n",
    "\n",
    "#  Ici on met tout en minuscule car les emails sont insensibles à la casse.\n",
    "email_donné_par_lutilisateur = email_base_de_donnée.lower()\n",
    "# Ici on supprime les espaces présents dans l'email\n",
    "email_donné_par_lutilisateur = email_donné_par_lutilisateur.strip()\n",
    "print(email_donné_par_lutilisateur)"
   ]
  },
  {
   "cell_type": "code",
   "execution_count": 12,
   "id": "e6fb7153",
   "metadata": {
    "ExecuteTime": {
     "end_time": "2022-04-19T09:16:41.828987Z",
     "start_time": "2022-04-19T09:16:41.813783Z"
    }
   },
   "outputs": [
    {
     "name": "stdout",
     "output_type": "stream",
     "text": [
      "True\n"
     ]
    }
   ],
   "source": [
    "# Ici on compare les emails pour voir s'il sont identiques?\n",
    "emails_identiques = email_donné_par_lutilisateur == email_base_de_donnée\n",
    "print(emails_identiques)\n"
   ]
  },
  {
   "cell_type": "code",
   "execution_count": 13,
   "id": "6c618264",
   "metadata": {
    "ExecuteTime": {
     "end_time": "2022-04-19T09:16:41.844909Z",
     "start_time": "2022-04-19T09:16:41.829803Z"
    }
   },
   "outputs": [
    {
     "name": "stdout",
     "output_type": "stream",
     "text": [
      "\n",
      "pour débugger...\n",
      "ma_super_adresse_mail@gmail.com\n",
      "ma_super_adresse_mail@gmail.com\n"
     ]
    }
   ],
   "source": [
    "print('\\npour débugger...')\n",
    "print(email_base_de_donnée)\n",
    "print(email_donné_par_lutilisateur)"
   ]
  },
  {
   "cell_type": "code",
   "execution_count": null,
   "id": "0672ffb4",
   "metadata": {},
   "outputs": [],
   "source": []
  }
 ],
 "metadata": {
  "kernelspec": {
   "display_name": "Python 3",
   "language": "python",
   "name": "python3"
  },
  "language_info": {
   "codemirror_mode": {
    "name": "ipython",
    "version": 3
   },
   "file_extension": ".py",
   "mimetype": "text/x-python",
   "name": "python",
   "nbconvert_exporter": "python",
   "pygments_lexer": "ipython3",
   "version": "3.8.8"
  },
  "toc": {
   "base_numbering": 1,
   "nav_menu": {},
   "number_sections": true,
   "sideBar": true,
   "skip_h1_title": false,
   "title_cell": "Table of Contents",
   "title_sidebar": "Contents",
   "toc_cell": false,
   "toc_position": {},
   "toc_section_display": true,
   "toc_window_display": false
  }
 },
 "nbformat": 4,
 "nbformat_minor": 5
}
