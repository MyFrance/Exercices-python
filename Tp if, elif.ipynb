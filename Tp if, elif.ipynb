{
 "cells": [
  {
   "cell_type": "markdown",
   "id": "87b5e1fe",
   "metadata": {},
   "source": [
    "Tp: le but de ce tp est de créer un programme d'un distributeur de boison qui sait rendre la monnaie et dire quand le montant entré n'est pas exacte"
   ]
  },
  {
   "cell_type": "code",
   "execution_count": 11,
   "id": "e1279bad",
   "metadata": {
    "ExecuteTime": {
     "end_time": "2022-04-28T16:00:03.321622Z",
     "start_time": "2022-04-28T15:59:49.894014Z"
    }
   },
   "outputs": [
    {
     "name": "stdout",
     "output_type": "stream",
     "text": [
      "Combien avez vous? 4.98\n",
      "L'article coûte 4.91\n",
      "Vous avez trop donné voici votre monnaie 0.07 €\n",
      "Merci et à bientôt\n"
     ]
    }
   ],
   "source": [
    "# Nous allons d'abord définir nos variables \n",
    "\n",
    "montant_donnee_par_client = float(input(\"Combien avez vous? \"))\n",
    "\n",
    "prix_article = float(input(\"L'article coûte \"))\n",
    "\n",
    "prix = round(abs(montant_donnee_par_client - prix_article), 2)\n",
    "\n",
    "# Premièrement nous allons dire que le montant donnée\n",
    "# par le client est le prix exacte de l'article\n",
    "\n",
    "if montant_donnee_par_client == prix_article:\n",
    "    print(f'Le compte y ait  {prix_article} €')\n",
    "    print(\"Merci et à bientôt\")\n",
    "    \n",
    "# Ici le montant donné par le client est supérieur\n",
    "elif montant_donnee_par_client > prix_article:\n",
    "    print(f'Vous avez trop donné voici votre monnaie {prix} €')\n",
    "    print(\"Merci et à bientôt\")\n",
    "    \n",
    "# Ici le client n'a pas assez donné \n",
    "elif montant_donnee_par_client < prix_article:\n",
    "    print(f'Vous n\\'avez pas assez donné, il manque {prix} €')\n",
    "    print(f'Merci de rajouter {prix} €')\n"
   ]
  },
  {
   "cell_type": "code",
   "execution_count": null,
   "id": "fba5f105",
   "metadata": {},
   "outputs": [],
   "source": []
  },
  {
   "cell_type": "code",
   "execution_count": null,
   "id": "033d89c6",
   "metadata": {},
   "outputs": [],
   "source": []
  },
  {
   "cell_type": "code",
   "execution_count": null,
   "id": "68f05eef",
   "metadata": {},
   "outputs": [],
   "source": []
  },
  {
   "cell_type": "code",
   "execution_count": null,
   "id": "05d8de0f",
   "metadata": {},
   "outputs": [],
   "source": []
  },
  {
   "cell_type": "code",
   "execution_count": null,
   "id": "5a5b30ba",
   "metadata": {},
   "outputs": [],
   "source": []
  },
  {
   "cell_type": "code",
   "execution_count": null,
   "id": "71b04574",
   "metadata": {},
   "outputs": [],
   "source": []
  },
  {
   "cell_type": "code",
   "execution_count": null,
   "id": "e8b9e9c4",
   "metadata": {},
   "outputs": [],
   "source": []
  },
  {
   "cell_type": "code",
   "execution_count": null,
   "id": "24272f7b",
   "metadata": {},
   "outputs": [],
   "source": []
  },
  {
   "cell_type": "code",
   "execution_count": null,
   "id": "3ef8c7a9",
   "metadata": {},
   "outputs": [],
   "source": []
  },
  {
   "cell_type": "code",
   "execution_count": null,
   "id": "6c13511c",
   "metadata": {},
   "outputs": [],
   "source": []
  },
  {
   "cell_type": "code",
   "execution_count": null,
   "id": "9065ee87",
   "metadata": {},
   "outputs": [],
   "source": []
  },
  {
   "cell_type": "code",
   "execution_count": null,
   "id": "3626d0ce",
   "metadata": {},
   "outputs": [],
   "source": []
  },
  {
   "cell_type": "code",
   "execution_count": null,
   "id": "7054d758",
   "metadata": {},
   "outputs": [],
   "source": []
  },
  {
   "cell_type": "code",
   "execution_count": null,
   "id": "049935d6",
   "metadata": {},
   "outputs": [],
   "source": []
  }
 ],
 "metadata": {
  "kernelspec": {
   "display_name": "Python 3",
   "language": "python",
   "name": "python3"
  },
  "language_info": {
   "codemirror_mode": {
    "name": "ipython",
    "version": 3
   },
   "file_extension": ".py",
   "mimetype": "text/x-python",
   "name": "python",
   "nbconvert_exporter": "python",
   "pygments_lexer": "ipython3",
   "version": "3.8.8"
  },
  "toc": {
   "base_numbering": 1,
   "nav_menu": {},
   "number_sections": true,
   "sideBar": true,
   "skip_h1_title": false,
   "title_cell": "Table of Contents",
   "title_sidebar": "Contents",
   "toc_cell": false,
   "toc_position": {},
   "toc_section_display": true,
   "toc_window_display": false
  }
 },
 "nbformat": 4,
 "nbformat_minor": 5
}
