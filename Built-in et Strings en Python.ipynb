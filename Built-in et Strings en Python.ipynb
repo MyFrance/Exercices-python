{
 "cells": [
  {
   "cell_type": "markdown",
   "id": "573a1679",
   "metadata": {},
   "source": [
    "# Exercice 1 - Len d'un caractère?\n",
    "Essayez de prédire ce que va afficher le script ci-dessous. Recopiez manuellement pour vérifier votre réponse."
   ]
  },
  {
   "cell_type": "code",
   "execution_count": 1,
   "id": "9c5c5f27",
   "metadata": {
    "ExecuteTime": {
     "end_time": "2022-04-15T12:51:59.049489Z",
     "start_time": "2022-04-15T12:51:59.034490Z"
    }
   },
   "outputs": [
    {
     "name": "stdout",
     "output_type": "stream",
     "text": [
      "0\n"
     ]
    }
   ],
   "source": [
    "caractere_vide = \"\"\n",
    "print(len(caractere_vide))"
   ]
  },
  {
   "cell_type": "code",
   "execution_count": 3,
   "id": "dd7d7734",
   "metadata": {
    "ExecuteTime": {
     "end_time": "2022-04-15T12:52:34.518410Z",
     "start_time": "2022-04-15T12:52:34.510432Z"
    }
   },
   "outputs": [
    {
     "name": "stdout",
     "output_type": "stream",
     "text": [
      "1\n"
     ]
    }
   ],
   "source": [
    "caractere_classique = \"A\"\n",
    "print(len(caractere_classique))"
   ]
  },
  {
   "cell_type": "code",
   "execution_count": 5,
   "id": "4ef8f928",
   "metadata": {
    "ExecuteTime": {
     "end_time": "2022-04-15T12:53:20.426462Z",
     "start_time": "2022-04-15T12:53:20.413537Z"
    }
   },
   "outputs": [
    {
     "name": "stdout",
     "output_type": "stream",
     "text": [
      "1\n"
     ]
    }
   ],
   "source": [
    "caractere_special = \"\\n\"\n",
    "print(len(caractere_special))"
   ]
  },
  {
   "cell_type": "raw",
   "id": "fed2febb",
   "metadata": {},
   "source": [
    "La longueur d'une chaine vide sera toujours zéro.\n",
    "\n",
    "La longueur d'un caractère classique sera toujours 1.\n",
    "\n",
    "Bien qu'il soient écrit avec plusieurs caractères, la longueur d'un caractère spéciale (précédé d'un backslash) sera toujours 1."
   ]
  },
  {
   "cell_type": "markdown",
   "id": "d6d471f7",
   "metadata": {},
   "source": [
    "# Exercice 2 - Savoir compter les caractères est HYPER-IMPORTANT\n",
    "Prédisez ce que le code ci-dessous va afficher.\n",
    "\n",
    "Ensuite, recopier manuellement le code pour vérifier votre réponse."
   ]
  },
  {
   "cell_type": "code",
   "execution_count": 6,
   "id": "dea4b135",
   "metadata": {
    "ExecuteTime": {
     "end_time": "2022-04-15T12:55:34.688512Z",
     "start_time": "2022-04-15T12:55:34.670560Z"
    }
   },
   "outputs": [
    {
     "name": "stdout",
     "output_type": "stream",
     "text": [
      "9\n"
     ]
    }
   ],
   "source": [
    "casse_tete = \"\\\\ \\\\ \\\\ \\\\ \\\\\"\n",
    "print(len(casse_tete))"
   ]
  },
  {
   "cell_type": "markdown",
   "id": "911592bd",
   "metadata": {},
   "source": [
    "# Exercice 3 - Alors entraînons nous...\n",
    "Prédisez ce que le code ci-dessous va afficher."
   ]
  },
  {
   "cell_type": "code",
   "execution_count": 7,
   "id": "b96640b3",
   "metadata": {
    "ExecuteTime": {
     "end_time": "2022-04-15T12:57:41.614291Z",
     "start_time": "2022-04-15T12:57:41.605317Z"
    }
   },
   "outputs": [
    {
     "name": "stdout",
     "output_type": "stream",
     "text": [
      "11\n"
     ]
    }
   ],
   "source": [
    "casse_tete = '\\n \\n \\n \\n \\n \\n'\n",
    "print(len(casse_tete))"
   ]
  },
  {
   "cell_type": "markdown",
   "id": "439acb89",
   "metadata": {},
   "source": [
    "# Exercice 4 - Encore.\n",
    "Que va afficher le code ci-dessous? "
   ]
  },
  {
   "cell_type": "code",
   "execution_count": 8,
   "id": "759b955b",
   "metadata": {
    "ExecuteTime": {
     "end_time": "2022-04-15T12:59:41.467346Z",
     "start_time": "2022-04-15T12:59:41.456375Z"
    }
   },
   "outputs": [
    {
     "name": "stdout",
     "output_type": "stream",
     "text": [
      "31\n"
     ]
    }
   ],
   "source": [
    "alphabet = \"abcdefg\\n\\nhijklmn\\n\\nopqrstuvwxyz\\n\"\n",
    "print(len(alphabet))"
   ]
  },
  {
   "cell_type": "code",
   "execution_count": 9,
   "id": "21036e17",
   "metadata": {
    "ExecuteTime": {
     "end_time": "2022-04-15T13:00:32.223150Z",
     "start_time": "2022-04-15T13:00:32.206202Z"
    }
   },
   "outputs": [
    {
     "name": "stdout",
     "output_type": "stream",
     "text": [
      "2\n"
     ]
    }
   ],
   "source": [
    "print(len(\"\\n\\n\"))"
   ]
  },
  {
   "cell_type": "markdown",
   "id": "2b1d16ff",
   "metadata": {},
   "source": [
    "# Exercice 5 - ... Encore.\n",
    "Que va afficher le code ci-dessous? "
   ]
  },
  {
   "cell_type": "code",
   "execution_count": 12,
   "id": "c35a5260",
   "metadata": {
    "ExecuteTime": {
     "end_time": "2022-04-15T13:04:42.813988Z",
     "start_time": "2022-04-15T13:04:42.804975Z"
    }
   },
   "outputs": [
    {
     "name": "stdout",
     "output_type": "stream",
     "text": [
      "Andrea a dit: \"1, 2, 3, soleil\".\n",
      "32\n"
     ]
    }
   ],
   "source": [
    "citation = \"Andrea a dit: \\\"1, 2, 3, soleil\\\".\"\n",
    "print(citation)\n",
    "print(len(citation))"
   ]
  },
  {
   "cell_type": "markdown",
   "id": "2c6ceda1",
   "metadata": {
    "ExecuteTime": {
     "end_time": "2022-04-15T13:06:06.510158Z",
     "start_time": "2022-04-15T13:06:06.492208Z"
    }
   },
   "source": [
    "# Exercice 6 ⭐Et encore.\n",
    "Prenez votre temps sur cette exercice.\n",
    "\n",
    "Dans ce bout de code on souhaite comparer la len d'une string multiligne à la somme des len de chacune de ses lignes.\n",
    "\n",
    "Essayez de prédire ce que va afficher ce bout de code une fois exécuter.\n",
    "\n",
    "Prenez votre temps pour trouver une réponse.\n",
    "\n",
    "Puis vérifier votre réponse en recopiant le code manuellement et rigoureusement.\n",
    "\n",
    "Pour terminer rajouter des commentaires afin de clarifier au mieux le code à vos yeux.\n",
    "\n",
    "Bon courage !"
   ]
  },
  {
   "cell_type": "code",
   "execution_count": 14,
   "id": "f7ed4c9d",
   "metadata": {
    "ExecuteTime": {
     "end_time": "2022-04-15T13:10:53.395822Z",
     "start_time": "2022-04-15T13:10:53.384822Z"
    }
   },
   "outputs": [],
   "source": [
    "multiligne = \"\"\"Des caractères supplémentaires se cachent\n",
    "dans les strings multilignes...\n",
    "saurez-vous les démasquez???\n",
    "\\n\n",
    "\"\"\""
   ]
  },
  {
   "cell_type": "code",
   "execution_count": null,
   "id": "b054fa11",
   "metadata": {},
   "outputs": [],
   "source": [
    "\"\" \"\"\n",
    "Des\n",
    "caractères\n",
    "supplémentaires"
   ]
  },
  {
   "cell_type": "code",
   "execution_count": 15,
   "id": "55734120",
   "metadata": {
    "ExecuteTime": {
     "end_time": "2022-04-15T13:17:20.296591Z",
     "start_time": "2022-04-15T13:17:20.278642Z"
    }
   },
   "outputs": [
    {
     "data": {
      "text/plain": [
       "105"
      ]
     },
     "execution_count": 15,
     "metadata": {},
     "output_type": "execute_result"
    }
   ],
   "source": [
    "n_caracteres_multiligne = len(multiligne)\n",
    "n_caracteres_multiligne"
   ]
  },
  {
   "cell_type": "code",
   "execution_count": 16,
   "id": "e0d797b8",
   "metadata": {
    "ExecuteTime": {
     "end_time": "2022-04-15T13:19:51.628047Z",
     "start_time": "2022-04-15T13:19:51.611093Z"
    }
   },
   "outputs": [
    {
     "name": "stdout",
     "output_type": "stream",
     "text": [
      "41\n"
     ]
    }
   ],
   "source": [
    "ligne_1 = \"Des caractères supplémentaires se cachent\"\n",
    "print(len(ligne_1))"
   ]
  },
  {
   "cell_type": "code",
   "execution_count": 17,
   "id": "df939a98",
   "metadata": {
    "ExecuteTime": {
     "end_time": "2022-04-15T13:22:06.413573Z",
     "start_time": "2022-04-15T13:22:06.404598Z"
    }
   },
   "outputs": [
    {
     "name": "stdout",
     "output_type": "stream",
     "text": [
      "31\n"
     ]
    }
   ],
   "source": [
    "ligne_2 =\"dans les strings multilignes...\"\n",
    "print(len(ligne_2))"
   ]
  },
  {
   "cell_type": "code",
   "execution_count": 18,
   "id": "8757386d",
   "metadata": {
    "ExecuteTime": {
     "end_time": "2022-04-15T13:24:41.848555Z",
     "start_time": "2022-04-15T13:24:41.844563Z"
    }
   },
   "outputs": [
    {
     "name": "stdout",
     "output_type": "stream",
     "text": [
      "28\n"
     ]
    }
   ],
   "source": [
    "ligne_3 = \"saurez-vous les démasquez???\"\n",
    "print(len(ligne_3))"
   ]
  },
  {
   "cell_type": "code",
   "execution_count": 19,
   "id": "91dcfe30",
   "metadata": {
    "ExecuteTime": {
     "end_time": "2022-04-15T13:25:12.643411Z",
     "start_time": "2022-04-15T13:25:12.636429Z"
    }
   },
   "outputs": [
    {
     "name": "stdout",
     "output_type": "stream",
     "text": [
      "1\n"
     ]
    }
   ],
   "source": [
    "ligne_4 = \"\\n\"\n",
    "print(len(ligne_4))"
   ]
  },
  {
   "cell_type": "code",
   "execution_count": 21,
   "id": "5f7e21b7",
   "metadata": {
    "ExecuteTime": {
     "end_time": "2022-04-15T13:27:00.757119Z",
     "start_time": "2022-04-15T13:27:00.749167Z"
    }
   },
   "outputs": [
    {
     "data": {
      "text/plain": [
       "101"
      ]
     },
     "execution_count": 21,
     "metadata": {},
     "output_type": "execute_result"
    }
   ],
   "source": [
    "n_caractere_ligne_par_ligne = len(ligne_1) + len(ligne_2) + len(ligne_3) + len(ligne_4)\n",
    "n_caractere_ligne_par_ligne"
   ]
  },
  {
   "cell_type": "code",
   "execution_count": 23,
   "id": "472515c4",
   "metadata": {
    "ExecuteTime": {
     "end_time": "2022-04-15T13:28:03.020301Z",
     "start_time": "2022-04-15T13:28:03.006338Z"
    }
   },
   "outputs": [
    {
     "data": {
      "text/plain": [
       "4"
      ]
     },
     "execution_count": 23,
     "metadata": {},
     "output_type": "execute_result"
    }
   ],
   "source": [
    "difference = n_caracteres_multiligne - n_caractere_ligne_par_ligne\n",
    "difference"
   ]
  },
  {
   "cell_type": "markdown",
   "id": "dc096087",
   "metadata": {
    "ExecuteTime": {
     "end_time": "2022-04-15T13:28:11.620770Z",
     "start_time": "2022-04-15T13:28:11.612782Z"
    }
   },
   "source": [
    "# Exercice 7 - Concaténation String & Types Numériques\n",
    "Le code ci-dessous résulte en une erreur.\n",
    "\n",
    "S'il vous plait corrigez là."
   ]
  },
  {
   "cell_type": "code",
   "execution_count": 57,
   "id": "99c7ca88",
   "metadata": {
    "ExecuteTime": {
     "end_time": "2022-04-15T13:54:59.876585Z",
     "start_time": "2022-04-15T13:54:59.868605Z"
    }
   },
   "outputs": [
    {
     "name": "stdout",
     "output_type": "stream",
     "text": [
      "Andréa a dit: \"1, 2, 3.0, Soleil\".\n"
     ]
    }
   ],
   "source": [
    "#message = \"Andréa a dit: \\\"\" + 1 + \", \" +  2 + \", \" + 3.0 +\", Soleil\\\".\"\n",
    "message = \"Andréa a dit: \\\"\" + str(1) + \", \" +  str(2) + \", \" + str(3.0) +\", Soleil\\\".\"\n",
    "print(message)"
   ]
  },
  {
   "cell_type": "code",
   "execution_count": null,
   "id": "85ae3d4f",
   "metadata": {},
   "outputs": [],
   "source": []
  }
 ],
 "metadata": {
  "kernelspec": {
   "display_name": "Python 3",
   "language": "python",
   "name": "python3"
  },
  "language_info": {
   "codemirror_mode": {
    "name": "ipython",
    "version": 3
   },
   "file_extension": ".py",
   "mimetype": "text/x-python",
   "name": "python",
   "nbconvert_exporter": "python",
   "pygments_lexer": "ipython3",
   "version": "3.8.8"
  },
  "toc": {
   "base_numbering": 1,
   "nav_menu": {},
   "number_sections": true,
   "sideBar": true,
   "skip_h1_title": false,
   "title_cell": "Table of Contents",
   "title_sidebar": "Contents",
   "toc_cell": false,
   "toc_position": {},
   "toc_section_display": true,
   "toc_window_display": false
  }
 },
 "nbformat": 4,
 "nbformat_minor": 5
}
