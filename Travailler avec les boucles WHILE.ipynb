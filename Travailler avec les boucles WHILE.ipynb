{
 "cells": [
  {
   "cell_type": "markdown",
   "id": "6204282a",
   "metadata": {},
   "source": [
    "# Exercice 1 - Commençons facile"
   ]
  },
  {
   "cell_type": "code",
   "execution_count": 1,
   "id": "aabdaf2f",
   "metadata": {
    "ExecuteTime": {
     "end_time": "2022-05-03T08:47:58.581339Z",
     "start_time": "2022-05-03T08:47:58.569332Z"
    }
   },
   "outputs": [
    {
     "name": "stdout",
     "output_type": "stream",
     "text": [
      "10\n",
      "9\n",
      "8\n",
      "7\n",
      "6\n",
      "5\n",
      "4\n",
      "3\n",
      "2\n",
      "1\n",
      "0\n"
     ]
    }
   ],
   "source": [
    "nombre = 10\n",
    "\n",
    "while nombre >= 0 :\n",
    "    print(nombre)\n",
    "    nombre = nombre - 1\n",
    "   "
   ]
  },
  {
   "cell_type": "markdown",
   "id": "6e352e1a",
   "metadata": {},
   "source": [
    "# Exercice 2 - Sortir d'une boucle infinie\n",
    "Le code ci-dessous va provoquer une boucle infinie.\n",
    "\n",
    "Recopier le code puis exécuter le.\n",
    "\n",
    "Votre but est d'arrêter l'exécution du script en appuyant sur CTRL+C ou CMD+C (mac) .\n",
    "\n",
    "Une fois que vous savez sortir d'une boucle, modifier la condition du while pour que la boucle ne soit jamais exécuter."
   ]
  },
  {
   "cell_type": "code",
   "execution_count": 2,
   "id": "dcaa84ca",
   "metadata": {
    "ExecuteTime": {
     "end_time": "2022-05-03T08:47:58.597296Z",
     "start_time": "2022-05-03T08:47:58.583292Z"
    }
   },
   "outputs": [
    {
     "name": "stdout",
     "output_type": "stream",
     "text": [
      "0\n"
     ]
    }
   ],
   "source": [
    "nombre = 0\n",
    "\n",
    "while nombre >= 0:\n",
    "    print(nombre)\n",
    "    nombre += 1\n",
    "    break"
   ]
  },
  {
   "cell_type": "markdown",
   "id": "0c0af428",
   "metadata": {},
   "source": [
    "# Exercice 3 - Comprendre l'instruction break\n",
    "Que va afficher le code ci-dessous? \n",
    "\n",
    "Recopier le code puis exécuter le pour vérifier votre réponse.\n",
    "\n",
    "Prenez votre temps pour étudier ce bout de code et comprendre son fonctionnement. Rajoutez des commentaires au dessus de chaque ligne pour préciser votre pensée.\n",
    "\n",
    "Par quel procédé la boucle s’interrompt-elle?"
   ]
  },
  {
   "cell_type": "code",
   "execution_count": 3,
   "id": "97c316bf",
   "metadata": {
    "ExecuteTime": {
     "end_time": "2022-05-03T08:47:58.612683Z",
     "start_time": "2022-05-03T08:47:58.599249Z"
    }
   },
   "outputs": [
    {
     "name": "stdout",
     "output_type": "stream",
     "text": [
      "10\n",
      "9\n",
      "8\n",
      "7\n",
      "6\n",
      "5\n",
      "4\n",
      "3\n",
      "2\n",
      "1\n",
      "0\n"
     ]
    }
   ],
   "source": [
    "nombre = 10\n",
    "\n",
    "while True:   # tant que la condition est un nombre on affiche le nombre - 1 \n",
    "    print(nombre)\n",
    "    nombre = nombre - 1 # on a donc une boucle infinie\n",
    "    \n",
    "    if nombre < 0: # Ici on casse le code lorsque le nombre est inférieure à 0\n",
    "        break"
   ]
  },
  {
   "cell_type": "markdown",
   "id": "1fd8239e",
   "metadata": {},
   "source": [
    "# Exercice 4 - Affichez tous les nombres de 10 à 100 (inclu)\n",
    "Remplacer les ??? par du code permettant d'afficher tous les nombres de 10 à 100 à l'aide d'une boucle while."
   ]
  },
  {
   "cell_type": "code",
   "execution_count": 11,
   "id": "eb0a6662",
   "metadata": {
    "ExecuteTime": {
     "end_time": "2022-05-03T08:54:07.857936Z",
     "start_time": "2022-05-03T08:54:07.839641Z"
    }
   },
   "outputs": [
    {
     "name": "stdout",
     "output_type": "stream",
     "text": [
      "10\n",
      "11\n",
      "12\n",
      "13\n",
      "14\n",
      "15\n",
      "16\n",
      "17\n",
      "18\n",
      "19\n",
      "20\n",
      "21\n",
      "22\n",
      "23\n",
      "24\n",
      "25\n",
      "26\n",
      "27\n",
      "28\n",
      "29\n",
      "30\n",
      "31\n",
      "32\n",
      "33\n",
      "34\n",
      "35\n",
      "36\n",
      "37\n",
      "38\n",
      "39\n",
      "40\n",
      "41\n",
      "42\n",
      "43\n",
      "44\n",
      "45\n",
      "46\n",
      "47\n",
      "48\n",
      "49\n",
      "50\n",
      "51\n",
      "52\n",
      "53\n",
      "54\n",
      "55\n",
      "56\n",
      "57\n",
      "58\n",
      "59\n",
      "60\n",
      "61\n",
      "62\n",
      "63\n",
      "64\n",
      "65\n",
      "66\n",
      "67\n",
      "68\n",
      "69\n",
      "70\n",
      "71\n",
      "72\n",
      "73\n",
      "74\n",
      "75\n",
      "76\n",
      "77\n",
      "78\n",
      "79\n",
      "80\n",
      "81\n",
      "82\n",
      "83\n",
      "84\n",
      "85\n",
      "86\n",
      "87\n",
      "88\n",
      "89\n",
      "90\n",
      "91\n",
      "92\n",
      "93\n",
      "94\n",
      "95\n",
      "96\n",
      "97\n",
      "98\n",
      "99\n",
      "100\n"
     ]
    }
   ],
   "source": [
    "nombre = 10\n",
    "\n",
    "while nombre <= 100: \n",
    "    print(nombre)\n",
    "    nombre += 1"
   ]
  },
  {
   "cell_type": "markdown",
   "id": "0a7c3cd3",
   "metadata": {},
   "source": [
    "# Exercice 5 - Affichez tous les multiples de 3 contenus entre 10 et 100\n",
    "Remplacer les ??? par du code permettant d'afficher tous les multiples de 3 compris entre 10 à 100 à l'aide d'une boucle while."
   ]
  },
  {
   "cell_type": "code",
   "execution_count": 33,
   "id": "30696040",
   "metadata": {
    "ExecuteTime": {
     "end_time": "2022-05-03T09:33:51.760084Z",
     "start_time": "2022-05-03T09:33:51.742169Z"
    }
   },
   "outputs": [
    {
     "name": "stdout",
     "output_type": "stream",
     "text": [
      "12\n",
      "15\n",
      "18\n",
      "21\n",
      "24\n",
      "27\n",
      "30\n",
      "33\n",
      "36\n",
      "39\n",
      "42\n",
      "45\n",
      "48\n",
      "51\n",
      "54\n",
      "57\n",
      "60\n",
      "63\n",
      "66\n",
      "69\n",
      "72\n",
      "75\n",
      "78\n",
      "81\n",
      "84\n",
      "87\n",
      "90\n",
      "93\n",
      "96\n",
      "99\n"
     ]
    }
   ],
   "source": [
    "nombre = 10\n",
    "\n",
    "while nombre <= 100:\n",
    "    if nombre % 3 == 0:\n",
    "        print(nombre)\n",
    "    nombre = nombre + 1"
   ]
  },
  {
   "cell_type": "markdown",
   "id": "db856f01",
   "metadata": {},
   "source": [
    "# Exercice 6 - Créez une liste des multiples de 3 contenus entre 10 et 100\n",
    "Ici vous devez créer une liste à la volée qui contient tous les nombres multiples de 3 compris entre 10 et 100, puis affichez cette liste"
   ]
  },
  {
   "cell_type": "code",
   "execution_count": 37,
   "id": "512fd9ca",
   "metadata": {
    "ExecuteTime": {
     "end_time": "2022-05-03T09:37:47.676929Z",
     "start_time": "2022-05-03T09:37:47.669949Z"
    }
   },
   "outputs": [
    {
     "name": "stdout",
     "output_type": "stream",
     "text": [
      "[12, 15, 18, 21, 24, 27, 30, 33, 36, 39, 42, 45, 48, 51, 54, 57, 60, 63, 66, 69, 72, 75, 78, 81, 84, 87, 90, 93, 96, 99]\n"
     ]
    }
   ],
   "source": [
    "nombre = 10\n",
    "\n",
    "liste_vide = []\n",
    "\n",
    "while nombre <= 100:\n",
    "    if nombre % 3 == 0:\n",
    "        liste_vide.append(nombre)\n",
    "    nombre = nombre + 1\n",
    "\n",
    "print(liste_vide)\n",
    "    "
   ]
  },
  {
   "cell_type": "markdown",
   "id": "2215a1f1",
   "metadata": {},
   "source": [
    "# Exercice 7 - IndexError et boucles While\n",
    "Ce code produit une erreur, recopier-le code et exécuter-le pour la constater.\n",
    "\n",
    "Ensuite corriger le code pour qu'il affiche chaque élément de la liste sans erreur. "
   ]
  },
  {
   "cell_type": "code",
   "execution_count": 42,
   "id": "e396d99f",
   "metadata": {
    "ExecuteTime": {
     "end_time": "2022-05-03T09:50:19.309479Z",
     "start_time": "2022-05-03T09:50:19.293561Z"
    }
   },
   "outputs": [
    {
     "name": "stdout",
     "output_type": "stream",
     "text": [
      "A\n",
      "B\n",
      "C\n",
      "D\n",
      "E\n",
      "F\n",
      "G\n"
     ]
    }
   ],
   "source": [
    "liste = ['A', 'B', 'C', 'D', 'E', 'F', 'G']\n",
    "\n",
    "index = 0\n",
    "\n",
    "while index <= len(liste) -1 : # Il faut rajouter ici - 1 pour avoir le dernier élément de la liste\n",
    "    print(liste[index])\n",
    "    index = index + 1"
   ]
  },
  {
   "cell_type": "markdown",
   "id": "e0c90fc6",
   "metadata": {},
   "source": [
    "# Exercice 8 - Indexing Négatif et boucle While\n",
    "Ce code comporte une erreur de raisonnement, et n'affiche pas la lettre A, pouvez vous corriger ce bug s'il vous plait.\n",
    "\n",
    "Commencer par recopier le code, exécuter-le pour constater l'erreur puis effectuer les modifications nécessaires."
   ]
  },
  {
   "cell_type": "code",
   "execution_count": 45,
   "id": "b8b5850e",
   "metadata": {
    "ExecuteTime": {
     "end_time": "2022-05-03T10:00:20.413735Z",
     "start_time": "2022-05-03T10:00:20.404760Z"
    }
   },
   "outputs": [
    {
     "name": "stdout",
     "output_type": "stream",
     "text": [
      "G\n",
      "F\n",
      "E\n",
      "D\n",
      "C\n",
      "B\n",
      "A\n"
     ]
    }
   ],
   "source": [
    "liste = ['A', 'B', 'C', 'D', 'E', 'F', 'G']\n",
    "\n",
    "index = -1\n",
    "\n",
    "while index > -len(liste) - 1: # il faut rajouter le -1 pour avoir la longueur de la liste complète\n",
    "    print(liste[index])\n",
    "    index = index -1 \n",
    "    \n"
   ]
  },
  {
   "cell_type": "code",
   "execution_count": null,
   "id": "6165c979",
   "metadata": {},
   "outputs": [],
   "source": []
  }
 ],
 "metadata": {
  "kernelspec": {
   "display_name": "Python 3",
   "language": "python",
   "name": "python3"
  },
  "language_info": {
   "codemirror_mode": {
    "name": "ipython",
    "version": 3
   },
   "file_extension": ".py",
   "mimetype": "text/x-python",
   "name": "python",
   "nbconvert_exporter": "python",
   "pygments_lexer": "ipython3",
   "version": "3.8.8"
  },
  "toc": {
   "base_numbering": 1,
   "nav_menu": {},
   "number_sections": true,
   "sideBar": true,
   "skip_h1_title": false,
   "title_cell": "Table of Contents",
   "title_sidebar": "Contents",
   "toc_cell": false,
   "toc_position": {},
   "toc_section_display": true,
   "toc_window_display": false
  }
 },
 "nbformat": 4,
 "nbformat_minor": 5
}
