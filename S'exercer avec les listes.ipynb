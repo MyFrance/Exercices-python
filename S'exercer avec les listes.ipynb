{
 "cells": [
  {
   "cell_type": "markdown",
   "id": "2f6bcba1",
   "metadata": {},
   "source": [
    "# Exercice 1 - Positive & Negative Indexing\n",
    "Que va afficher le code ci-dessous? \n",
    "\n",
    "Recopier manuellement le code puis exécutez le pour vérifier votre réponse.\n",
    "\n",
    "Ensuite, trouver les index positifs et négatifs qui permettent d'atteindre la valeur \"Fizz\" dans la liste."
   ]
  },
  {
   "cell_type": "code",
   "execution_count": 5,
   "id": "459fbda2",
   "metadata": {
    "ExecuteTime": {
     "end_time": "2022-04-20T10:30:28.435948Z",
     "start_time": "2022-04-20T10:30:28.427081Z"
    }
   },
   "outputs": [
    {
     "name": "stdout",
     "output_type": "stream",
     "text": [
      "fizz\n",
      "fizz\n"
     ]
    }
   ],
   "source": [
    "liste = ['aa', 'bb', 'fizz', 'dd']\n",
    "# pos_index = 0   modifie cette ligne\n",
    "pos_index = liste[2]\n",
    "print(pos_index)\n",
    "neg_index = liste[-2]\n",
    "print(neg_index)"
   ]
  },
  {
   "cell_type": "markdown",
   "id": "aadf58e4",
   "metadata": {},
   "source": [
    "# Exercice 2 - Modifier une liste (indexing positif)\n",
    "Que va afficher le code ci-dessous? \n",
    "\n",
    "Recopier manuellement le code puis exécutez le pour vérifier votre réponse.\n",
    "\n",
    "Ensuite, trouver l'index positif qui permet de remplacer la valeur 'Fizz' par la valeur 'oo' dans la liste."
   ]
  },
  {
   "cell_type": "code",
   "execution_count": 11,
   "id": "6f5191fa",
   "metadata": {
    "ExecuteTime": {
     "end_time": "2022-04-20T10:50:16.340528Z",
     "start_time": "2022-04-20T10:50:16.321623Z"
    }
   },
   "outputs": [
    {
     "name": "stdout",
     "output_type": "stream",
     "text": [
      "['aa', 'bb', 'cc', '00', 'ee']\n"
     ]
    }
   ],
   "source": [
    "liste = ['aa', 'bb', 'cc', 'fizz', 'ee']\n",
    "pos_index = [3]\n",
    "liste[3] = '00'\n",
    "print(liste)"
   ]
  },
  {
   "cell_type": "markdown",
   "id": "1ef25a56",
   "metadata": {},
   "source": [
    "# Exercice 3 - Modifier une liste (indexing negatif)\n",
    "Que va afficher le code ci-dessous? \n",
    "\n",
    "Recopier manuellement le code puis exécutez le pour vérifier votre réponse.\n",
    "\n",
    "Ensuite, trouver l'index négatif qui permet de remplacer la valeur 'Fizz' par la valeur 'oo' dans la liste."
   ]
  },
  {
   "cell_type": "code",
   "execution_count": 12,
   "id": "37525fd0",
   "metadata": {
    "ExecuteTime": {
     "end_time": "2022-04-20T10:54:47.458137Z",
     "start_time": "2022-04-20T10:54:47.450121Z"
    }
   },
   "outputs": [
    {
     "name": "stdout",
     "output_type": "stream",
     "text": [
      "['aa', 'bb', 'cc', 'oo', 'ee']\n"
     ]
    }
   ],
   "source": [
    "liste = ['aa', 'bb', 'cc', 'Fizz', 'ee']\n",
    "neg_index = [-2]\n",
    "liste[-2] = 'oo'\n",
    "print(liste)"
   ]
  },
  {
   "cell_type": "markdown",
   "id": "1f58d264",
   "metadata": {},
   "source": [
    "# Exercice 4 - Index Maximal Positif\n",
    "Recopier le code ci-dessous manuellement, puis remplacer les points d'interrogations par l'index positif du dernier élément de la liste.\n",
    "\n",
    "Obtenez cette index à l'aide de la fonction builtin len().\n",
    "\n",
    "liste = ['aa', 'bb', 'cc']\n",
    "accede au dernier élément de la liste en utilisant la fonction len() (indexing positif)\n",
    "max_pos_index = ???\n",
    "print(liste[max_pos_index]) # doit afficher 'cc'"
   ]
  },
  {
   "cell_type": "code",
   "execution_count": 12,
   "id": "d577b35d",
   "metadata": {
    "ExecuteTime": {
     "end_time": "2022-04-20T13:18:32.689703Z",
     "start_time": "2022-04-20T13:18:32.679688Z"
    }
   },
   "outputs": [
    {
     "name": "stdout",
     "output_type": "stream",
     "text": [
      "cc\n"
     ]
    }
   ],
   "source": [
    "liste = ['aa', 'bb', 'cc']\n",
    "# accede au dernier élément de la liste en utilisant la fonction len() (indexing positif)\n",
    "max_pos_index = len(liste) - 1\n",
    "print(liste[max_pos_index])"
   ]
  },
  {
   "cell_type": "markdown",
   "id": "54e66cf6",
   "metadata": {},
   "source": [
    "# Exercice 5 - Index Maximal Négatif\n",
    "Recopier le code ci-dessous manuellement, puis remplacer les points d'interrogations par l'index négatif du premier élément de la liste.\n",
    "\n",
    "Obtenez cette index à l'aide de la fonction builtin len().\n",
    "\n",
    "liste = ['aa', 'bb', 'cc']\n",
    "accede au premier élément de la liste en utilisant la fonction len() (indexing négatif)\n",
    "max_neg_index = ???\n",
    "print(liste[max_neg_index]) # doit afficher 'aa'"
   ]
  },
  {
   "cell_type": "code",
   "execution_count": 5,
   "id": "2572a113",
   "metadata": {
    "ExecuteTime": {
     "end_time": "2022-04-21T09:02:06.338948Z",
     "start_time": "2022-04-21T09:02:06.312793Z"
    }
   },
   "outputs": [
    {
     "name": "stdout",
     "output_type": "stream",
     "text": [
      "aa\n"
     ]
    }
   ],
   "source": [
    "liste = ['aa', 'bb', 'cc']\n",
    "# accede au premier élément de la liste en utilisant la fonction len() (indexing négatif)\n",
    "max_neg_index = - len(liste)\n",
    "print(liste[max_neg_index])"
   ]
  },
  {
   "cell_type": "markdown",
   "id": "941ff8dc",
   "metadata": {},
   "source": [
    "# Exercice 6 - Pop and Remove\n",
    "Recopier le code ci-dessous manuellement, puis remplacer les points d’interrogations par les valeurs permettant de successivement:\n",
    "\n",
    "Enlever le premier élément de la liste et le récupérer dans la variable premier\n",
    "Enlever le dernier élément de la liste et le récupérer dans la variable dernier\n",
    "Supprimer de la liste l'élément 'Fizz'\n",
    "\n",
    "liste = ['Premier', 'a', 'b', 'Fizz', 'c', 'Dernier']\n",
    "premier = liste.pop(???)\n",
    "dernier = liste.pop(???)\n",
    "print(premier) # Doit afficher 'Premier'\n",
    "print(dernier) # Doit afficher 'Dernier'\n",
    "liste.remove(???)\n",
    "print(liste) # Doit afficher ['a', 'b', 'c']"
   ]
  },
  {
   "cell_type": "code",
   "execution_count": 21,
   "id": "fa06b5c5",
   "metadata": {
    "ExecuteTime": {
     "end_time": "2022-04-21T09:17:23.291105Z",
     "start_time": "2022-04-21T09:17:23.271897Z"
    }
   },
   "outputs": [
    {
     "name": "stdout",
     "output_type": "stream",
     "text": [
      "Premier\n",
      "Dernier\n",
      "['a', 'b', 'c']\n"
     ]
    }
   ],
   "source": [
    "liste = ['Premier', 'a', 'b', 'Fizz', 'c', 'Dernier']\n",
    "# Le pop supprime à partir du dernier élément de la liste en partant de droite\n",
    "premier = liste.pop(0)\n",
    "print(premier) # doit afficher premier\n",
    "\n",
    "dernier = liste.pop(-1)  # doit afficher dernier\n",
    "print(dernier)\n",
    "\n",
    "# doit affciher [a, b, c]\n",
    "liste.remove('Fizz')\n",
    "print(liste)"
   ]
  },
  {
   "cell_type": "markdown",
   "id": "245ed7e1",
   "metadata": {},
   "source": [
    "# Exercice 7 - Créer une liste qui contient l'élément zéro dix fois.\n",
    "Recopier puis modifier le code ci dessous pour créer une liste qui contient dix fois l'élément zéro (0). \n",
    "\n",
    "Indice: utilisez l'opérateur de répétition * (astérisque)\n",
    "    \n",
    "dix_zéros = [0] # modifie cette ligne\n",
    "print(dix_zéros) # Doit afficher [0, 0, 0, 0, 0, 0, 0, 0, 0, 0] "
   ]
  },
  {
   "cell_type": "code",
   "execution_count": 23,
   "id": "6fe3d85a",
   "metadata": {
    "ExecuteTime": {
     "end_time": "2022-04-21T09:26:53.815146Z",
     "start_time": "2022-04-21T09:26:53.799242Z"
    }
   },
   "outputs": [
    {
     "name": "stdout",
     "output_type": "stream",
     "text": [
      "[0, 0, 0, 0, 0, 0, 0, 0, 0, 0]\n"
     ]
    },
    {
     "data": {
      "text/plain": [
       "10"
      ]
     },
     "execution_count": 23,
     "metadata": {},
     "output_type": "execute_result"
    }
   ],
   "source": [
    "dix_zeros = [0] * 10\n",
    "print(dix_zeros)\n",
    "len(dix_zeros)"
   ]
  },
  {
   "cell_type": "markdown",
   "id": "90f8c89e",
   "metadata": {},
   "source": [
    "# Exercice 8 - Ajouter des éléments à une liste avec la méthode append()\n",
    "Notre but est d'ajouter les éléments 6, 7 et 8 à notre liste, liste.\n",
    "\n",
    "On a essayer de le faire avec la méthode append(), mais le code ne produit pas le résultat voulu.\n",
    "\n",
    "Recopier puis exécuter le code pour constater l'erreur\n",
    "Supprimer la ligne en cause.\n",
    "Rajouter des lignes de code pour ajouter un à un les éléments 6, 7 et 8 à notre liste. \n",
    "Pour cet exercice vous devez utiliser la méthode .append() "
   ]
  },
  {
   "cell_type": "code",
   "execution_count": 31,
   "id": "17078605",
   "metadata": {
    "ExecuteTime": {
     "end_time": "2022-04-21T09:31:09.738030Z",
     "start_time": "2022-04-21T09:31:09.719226Z"
    }
   },
   "outputs": [
    {
     "name": "stdout",
     "output_type": "stream",
     "text": [
      "[1, 2, 3, 4, 5, 6, 7, 8]\n"
     ]
    }
   ],
   "source": [
    "liste = [1, 2, 3, 4 , 5]\n",
    "liste.append(6) # append ne prend qu'un seule argument à la fois \n",
    "liste.append(7)\n",
    "liste.append(8)\n",
    "print(liste)"
   ]
  },
  {
   "cell_type": "markdown",
   "id": "99d46707",
   "metadata": {},
   "source": [
    "# Exercice 9 - Ajouter des éléments à une liste avec l'opérateur + (plus)\n",
    "Notre but est d'ajouter les éléments 6, 7 et 8 à notre liste, liste.\n",
    "\n",
    "On a essayer de le faire avec l'opérateur + (plus), mais le code ne produit pas le résultat voulu.\n",
    "\n",
    "Recopier puis exécuter le code pour constater l'erreur\n",
    "Supprimer les lignes en cause.\n",
    "Rajouter la ligne de code qui permet d'ajouter les éléments 6, 7 et 8 à la liste d'un seul coup.\n",
    "Pour cet exercice vous devez utiliser l'opérateur + (plus)\n",
    "\n",
    "liste = [1, 2, 3, 4, 5]\n",
    "\n",
    "liste += 6 \n",
    "\n",
    "liste += 7\n",
    "\n",
    "liste += 8\n",
    "print(liste)  # Doit afficher [1, 2, 3, 4, 5, 6, 7, 8]"
   ]
  },
  {
   "cell_type": "code",
   "execution_count": 37,
   "id": "a368b3c7",
   "metadata": {
    "ExecuteTime": {
     "end_time": "2022-04-21T09:35:30.231969Z",
     "start_time": "2022-04-21T09:35:30.216020Z"
    }
   },
   "outputs": [
    {
     "name": "stdout",
     "output_type": "stream",
     "text": [
      "[1, 2, 3, 4, 5, 6, 7, 8]\n"
     ]
    }
   ],
   "source": [
    "liste = [1, 2, 3, 4, 5]\n",
    "liste = liste  +  [6 , 7, 8] \n",
    "print(liste)"
   ]
  },
  {
   "cell_type": "markdown",
   "id": "8406a810",
   "metadata": {},
   "source": [
    "# Exercice 10 - Supprimer avec la méthode remove()\n",
    "Recopier le code ci-dessous puis modifier le pour supprimer de la liste, un à un, les nombres impairs.\n",
    "\n",
    "Pour cet exercice vous devez utiliser la méthode remove().\n",
    "\n",
    " supprimer les nombres impaires un à un grace à la méthode remove\n",
    "liste = [1, 2, 3, 4, 5, 8, 9,10]\n",
    "\n",
    " Rajouter du code ici pour supprimer les nombres impaires de notre liste\n",
    "print(liste)  # Doit afficher [2, 4, 8, 10] "
   ]
  },
  {
   "cell_type": "code",
   "execution_count": 46,
   "id": "1250d6fa",
   "metadata": {
    "ExecuteTime": {
     "end_time": "2022-04-21T09:40:44.717719Z",
     "start_time": "2022-04-21T09:40:44.710741Z"
    }
   },
   "outputs": [
    {
     "name": "stdout",
     "output_type": "stream",
     "text": [
      "[2, 4, 6, 8, 10]\n"
     ]
    }
   ],
   "source": [
    "# supprimer les nombres impaires un à un grace à la méthode remove\n",
    "liste = [1, 2, 3, 4, 5, 6, 7, 8, 9,10]\n",
    "liste.remove(1) # remove ne prend qu'un  argument à la fois\n",
    "liste.remove(3)\n",
    "liste.remove(5)\n",
    "liste.remove(7)\n",
    "liste.remove(9)\n",
    "print(liste)"
   ]
  },
  {
   "cell_type": "markdown",
   "id": "5e0239d2",
   "metadata": {},
   "source": [
    "# Exercice 11 ⭐Mp3 ou pas Mp3? Tel est la question.\n",
    "Recopier le code ci-dessous puis remplacer les points d'interrogations par les valeurs qui permettent à ce bout de code de remplir sa mission.\n",
    "\n",
    "La mission de ce bout de code est d'identifier si les fichiers 1 et 2 sont des fichiers d'extension .mp3\n",
    "\n",
    "Prenez votre temps et rajouter des commentaires au dessus de chaque bloc de ligne pour expliquer sa fonction."
   ]
  },
  {
   "cell_type": "markdown",
   "id": "b7d6146a",
   "metadata": {},
   "source": [
    "nom_fichier1 = 'pas_de_la_musique.mp3.exe'\n",
    "nom_fichier2 = 'ma_musique.MP3'\n",
    "bouts_de_nom_fichier1 = nom_fichier1.split(???)\n",
    "bouts_de_nom_fichier2 = nom_fichier2.split(???)\n",
    "fichier1_extension = bouts_de_nom_fichier1[???]\n",
    "fichier2_extension = bouts_de_nom_fichier2[???]\n",
    "print('Fichier 1 est un mp3?', fichier1_extension.lower() == 'mp3')\n",
    "print('Fichier 2 est un mp3?', fichier2_extension.lower() == 'mp3')"
   ]
  },
  {
   "cell_type": "code",
   "execution_count": 85,
   "id": "30071f01",
   "metadata": {
    "ExecuteTime": {
     "end_time": "2022-04-21T10:27:59.660312Z",
     "start_time": "2022-04-21T10:27:59.653368Z"
    }
   },
   "outputs": [
    {
     "name": "stdout",
     "output_type": "stream",
     "text": [
      "['pas_de_la_musique', 'mp3', 'exe']\n",
      "mp3\n",
      "Fichier 1 est un mp3 True\n"
     ]
    }
   ],
   "source": [
    "nom_fichier1 = \"pas_de_la_musique.mp3.exe\"\n",
    "nom_fichier2 = \"ma_musique.mp3\"\n",
    "\n",
    "bouts_de_nom_fichier1 = nom_fichier1.split('.')\n",
    "print(bouts_de_nom_fichier1)\n",
    "# ici on va séparer au niveau du point\n",
    "fichier1_extension = bouts_de_nom_fichier1[1]\n",
    "print(fichier1_extension)\n",
    "\n",
    "print('Fichier 1 est un mp3', fichier1_extension.lower() == 'mp3') # lower ne prend pas d'argument\n",
    "\n",
    "# Note... On utilise la méthode lower() lors de la comparaison afin de pouvoir identifier les \n",
    "#.MP3 comme des mp3."
   ]
  },
  {
   "cell_type": "code",
   "execution_count": 84,
   "id": "0747a382",
   "metadata": {
    "ExecuteTime": {
     "end_time": "2022-04-21T10:26:22.629244Z",
     "start_time": "2022-04-21T10:26:22.621267Z"
    }
   },
   "outputs": [
    {
     "name": "stdout",
     "output_type": "stream",
     "text": [
      "['ma_musique', 'mp3']\n",
      "mp3\n",
      "Fichier 2 est un mp3 True\n"
     ]
    }
   ],
   "source": [
    "bouts_de_nom_fichier2 = nom_fichier2.split('.')\n",
    "print(bouts_de_nom_fichier2)\n",
    "fichier2_extension = bouts_de_nom_fichier2[1]\n",
    "print(fichier2_extension)\n",
    "\n",
    "print('Fichier 2 est un mp3', fichier2_extension.lower() =='mp3')"
   ]
  },
  {
   "cell_type": "code",
   "execution_count": null,
   "id": "5ea24e16",
   "metadata": {},
   "outputs": [],
   "source": []
  }
 ],
 "metadata": {
  "kernelspec": {
   "display_name": "Python 3",
   "language": "python",
   "name": "python3"
  },
  "language_info": {
   "codemirror_mode": {
    "name": "ipython",
    "version": 3
   },
   "file_extension": ".py",
   "mimetype": "text/x-python",
   "name": "python",
   "nbconvert_exporter": "python",
   "pygments_lexer": "ipython3",
   "version": "3.8.8"
  },
  "toc": {
   "base_numbering": 1,
   "nav_menu": {},
   "number_sections": true,
   "sideBar": true,
   "skip_h1_title": false,
   "title_cell": "Table of Contents",
   "title_sidebar": "Contents",
   "toc_cell": false,
   "toc_position": {},
   "toc_section_display": true,
   "toc_window_display": false
  }
 },
 "nbformat": 4,
 "nbformat_minor": 5
}
